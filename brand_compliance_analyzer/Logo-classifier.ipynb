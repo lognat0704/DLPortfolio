{
 "cells": [
  {
   "cell_type": "markdown",
   "metadata": {},
   "source": [
    "### Step 1: Loading Dataset"
   ]
  },
  {
   "cell_type": "code",
   "execution_count": 1,
   "metadata": {
    "collapsed": true
   },
   "outputs": [],
   "source": [
    "import torch\n",
    "import torch.nn as nn\n",
    "import torchvision.transforms as transforms\n",
    "import torchvision.datasets as dsets\n",
    "from torch.autograd import Variable"
   ]
  },
  {
   "cell_type": "code",
   "execution_count": 2,
   "metadata": {
    "collapsed": true
   },
   "outputs": [],
   "source": [
    "from torchvision.datasets import ImageFolder"
   ]
  },
  {
   "cell_type": "code",
   "execution_count": 3,
   "metadata": {
    "collapsed": true
   },
   "outputs": [],
   "source": [
    "from torchvision import transforms"
   ]
  },
  {
   "cell_type": "code",
   "execution_count": 4,
   "metadata": {
    "collapsed": true
   },
   "outputs": [],
   "source": [
    "import os\n",
    "from glob import glob\n",
    "import numpy as np"
   ]
  },
  {
   "cell_type": "code",
   "execution_count": 5,
   "metadata": {},
   "outputs": [
    {
     "ename": "FileNotFoundError",
     "evalue": "[Errno 2] No such file or directory: 'data/train/'",
     "output_type": "error",
     "traceback": [
      "\u001b[0;31m---------------------------------------------------------------------------\u001b[0m",
      "\u001b[0;31mFileNotFoundError\u001b[0m                         Traceback (most recent call last)",
      "\u001b[0;32m<ipython-input-5-12baece98309>\u001b[0m in \u001b[0;36m<module>\u001b[0;34m()\u001b[0m\n\u001b[1;32m      4\u001b[0m                                ])\n\u001b[1;32m      5\u001b[0m \u001b[0;34m\u001b[0m\u001b[0m\n\u001b[0;32m----> 6\u001b[0;31m \u001b[0mtrain_dataset\u001b[0m \u001b[0;34m=\u001b[0m \u001b[0mImageFolder\u001b[0m\u001b[0;34m(\u001b[0m\u001b[0;34m\"data/train/\"\u001b[0m\u001b[0;34m,\u001b[0m\u001b[0mtransform\u001b[0m\u001b[0;34m=\u001b[0m\u001b[0mtransform\u001b[0m\u001b[0;34m)\u001b[0m\u001b[0;34m\u001b[0m\u001b[0m\n\u001b[0m\u001b[1;32m      7\u001b[0m \u001b[0mvalid_dataset\u001b[0m \u001b[0;34m=\u001b[0m \u001b[0mImageFolder\u001b[0m\u001b[0;34m(\u001b[0m\u001b[0;34m\"data/valid/\"\u001b[0m\u001b[0;34m,\u001b[0m\u001b[0mtransform\u001b[0m\u001b[0;34m=\u001b[0m\u001b[0mtransform\u001b[0m\u001b[0;34m)\u001b[0m\u001b[0;34m\u001b[0m\u001b[0m\n\u001b[1;32m      8\u001b[0m \u001b[0;34m\u001b[0m\u001b[0m\n",
      "\u001b[0;32m~/anaconda3/lib/python3.6/site-packages/torchvision-0.2.1-py3.6.egg/torchvision/datasets/folder.py\u001b[0m in \u001b[0;36m__init__\u001b[0;34m(self, root, transform, target_transform, loader)\u001b[0m\n\u001b[1;32m    176\u001b[0m         super(ImageFolder, self).__init__(root, loader, IMG_EXTENSIONS,\n\u001b[1;32m    177\u001b[0m                                           \u001b[0mtransform\u001b[0m\u001b[0;34m=\u001b[0m\u001b[0mtransform\u001b[0m\u001b[0;34m,\u001b[0m\u001b[0;34m\u001b[0m\u001b[0m\n\u001b[0;32m--> 178\u001b[0;31m                                           target_transform=target_transform)\n\u001b[0m\u001b[1;32m    179\u001b[0m         \u001b[0mself\u001b[0m\u001b[0;34m.\u001b[0m\u001b[0mimgs\u001b[0m \u001b[0;34m=\u001b[0m \u001b[0mself\u001b[0m\u001b[0;34m.\u001b[0m\u001b[0msamples\u001b[0m\u001b[0;34m\u001b[0m\u001b[0m\n",
      "\u001b[0;32m~/anaconda3/lib/python3.6/site-packages/torchvision-0.2.1-py3.6.egg/torchvision/datasets/folder.py\u001b[0m in \u001b[0;36m__init__\u001b[0;34m(self, root, loader, extensions, transform, target_transform)\u001b[0m\n\u001b[1;32m     73\u001b[0m \u001b[0;34m\u001b[0m\u001b[0m\n\u001b[1;32m     74\u001b[0m     \u001b[0;32mdef\u001b[0m \u001b[0m__init__\u001b[0m\u001b[0;34m(\u001b[0m\u001b[0mself\u001b[0m\u001b[0;34m,\u001b[0m \u001b[0mroot\u001b[0m\u001b[0;34m,\u001b[0m \u001b[0mloader\u001b[0m\u001b[0;34m,\u001b[0m \u001b[0mextensions\u001b[0m\u001b[0;34m,\u001b[0m \u001b[0mtransform\u001b[0m\u001b[0;34m=\u001b[0m\u001b[0;32mNone\u001b[0m\u001b[0;34m,\u001b[0m \u001b[0mtarget_transform\u001b[0m\u001b[0;34m=\u001b[0m\u001b[0;32mNone\u001b[0m\u001b[0;34m)\u001b[0m\u001b[0;34m:\u001b[0m\u001b[0;34m\u001b[0m\u001b[0m\n\u001b[0;32m---> 75\u001b[0;31m         \u001b[0mclasses\u001b[0m\u001b[0;34m,\u001b[0m \u001b[0mclass_to_idx\u001b[0m \u001b[0;34m=\u001b[0m \u001b[0mfind_classes\u001b[0m\u001b[0;34m(\u001b[0m\u001b[0mroot\u001b[0m\u001b[0;34m)\u001b[0m\u001b[0;34m\u001b[0m\u001b[0m\n\u001b[0m\u001b[1;32m     76\u001b[0m         \u001b[0msamples\u001b[0m \u001b[0;34m=\u001b[0m \u001b[0mmake_dataset\u001b[0m\u001b[0;34m(\u001b[0m\u001b[0mroot\u001b[0m\u001b[0;34m,\u001b[0m \u001b[0mclass_to_idx\u001b[0m\u001b[0;34m,\u001b[0m \u001b[0mextensions\u001b[0m\u001b[0;34m)\u001b[0m\u001b[0;34m\u001b[0m\u001b[0m\n\u001b[1;32m     77\u001b[0m         \u001b[0;32mif\u001b[0m \u001b[0mlen\u001b[0m\u001b[0;34m(\u001b[0m\u001b[0msamples\u001b[0m\u001b[0;34m)\u001b[0m \u001b[0;34m==\u001b[0m \u001b[0;36m0\u001b[0m\u001b[0;34m:\u001b[0m\u001b[0;34m\u001b[0m\u001b[0m\n",
      "\u001b[0;32m~/anaconda3/lib/python3.6/site-packages/torchvision-0.2.1-py3.6.egg/torchvision/datasets/folder.py\u001b[0m in \u001b[0;36mfind_classes\u001b[0;34m(dir)\u001b[0m\n\u001b[1;32m     21\u001b[0m \u001b[0;34m\u001b[0m\u001b[0m\n\u001b[1;32m     22\u001b[0m \u001b[0;32mdef\u001b[0m \u001b[0mfind_classes\u001b[0m\u001b[0;34m(\u001b[0m\u001b[0mdir\u001b[0m\u001b[0;34m)\u001b[0m\u001b[0;34m:\u001b[0m\u001b[0;34m\u001b[0m\u001b[0m\n\u001b[0;32m---> 23\u001b[0;31m     \u001b[0mclasses\u001b[0m \u001b[0;34m=\u001b[0m \u001b[0;34m[\u001b[0m\u001b[0md\u001b[0m \u001b[0;32mfor\u001b[0m \u001b[0md\u001b[0m \u001b[0;32min\u001b[0m \u001b[0mos\u001b[0m\u001b[0;34m.\u001b[0m\u001b[0mlistdir\u001b[0m\u001b[0;34m(\u001b[0m\u001b[0mdir\u001b[0m\u001b[0;34m)\u001b[0m \u001b[0;32mif\u001b[0m \u001b[0mos\u001b[0m\u001b[0;34m.\u001b[0m\u001b[0mpath\u001b[0m\u001b[0;34m.\u001b[0m\u001b[0misdir\u001b[0m\u001b[0;34m(\u001b[0m\u001b[0mos\u001b[0m\u001b[0;34m.\u001b[0m\u001b[0mpath\u001b[0m\u001b[0;34m.\u001b[0m\u001b[0mjoin\u001b[0m\u001b[0;34m(\u001b[0m\u001b[0mdir\u001b[0m\u001b[0;34m,\u001b[0m \u001b[0md\u001b[0m\u001b[0;34m)\u001b[0m\u001b[0;34m)\u001b[0m\u001b[0;34m]\u001b[0m\u001b[0;34m\u001b[0m\u001b[0m\n\u001b[0m\u001b[1;32m     24\u001b[0m     \u001b[0mclasses\u001b[0m\u001b[0;34m.\u001b[0m\u001b[0msort\u001b[0m\u001b[0;34m(\u001b[0m\u001b[0;34m)\u001b[0m\u001b[0;34m\u001b[0m\u001b[0m\n\u001b[1;32m     25\u001b[0m     \u001b[0mclass_to_idx\u001b[0m \u001b[0;34m=\u001b[0m \u001b[0;34m{\u001b[0m\u001b[0mclasses\u001b[0m\u001b[0;34m[\u001b[0m\u001b[0mi\u001b[0m\u001b[0;34m]\u001b[0m\u001b[0;34m:\u001b[0m \u001b[0mi\u001b[0m \u001b[0;32mfor\u001b[0m \u001b[0mi\u001b[0m \u001b[0;32min\u001b[0m \u001b[0mrange\u001b[0m\u001b[0;34m(\u001b[0m\u001b[0mlen\u001b[0m\u001b[0;34m(\u001b[0m\u001b[0mclasses\u001b[0m\u001b[0;34m)\u001b[0m\u001b[0;34m)\u001b[0m\u001b[0;34m}\u001b[0m\u001b[0;34m\u001b[0m\u001b[0m\n",
      "\u001b[0;31mFileNotFoundError\u001b[0m: [Errno 2] No such file or directory: 'data/train/'"
     ]
    }
   ],
   "source": [
    "transform = transforms.Compose([transforms.Resize((320,320)),\n",
    "                                transforms.ToTensor(),\n",
    "                                transforms.Normalize([.5,.5,.5],[.5,.5,.5])\n",
    "                               ])\n",
    "\n",
    "train_dataset = ImageFolder(\"data/train/\",transform=transform)\n",
    "valid_dataset = ImageFolder(\"data/valid/\",transform=transform)\n",
    "\n",
    "train_dataset.__len__(),valid_dataset.__len__()"
   ]
  },
  {
   "cell_type": "markdown",
   "metadata": {},
   "source": [
    "### Step 2: Data Preprocess"
   ]
  },
  {
   "cell_type": "code",
   "execution_count": 6,
   "metadata": {
    "collapsed": true
   },
   "outputs": [],
   "source": [
    "from torch.utils.data import  DataLoader"
   ]
  },
  {
   "cell_type": "code",
   "execution_count": 7,
   "metadata": {},
   "outputs": [
    {
     "ename": "NameError",
     "evalue": "name 'train_dataset' is not defined",
     "output_type": "error",
     "traceback": [
      "\u001b[0;31m---------------------------------------------------------------------------\u001b[0m",
      "\u001b[0;31mNameError\u001b[0m                                 Traceback (most recent call last)",
      "\u001b[0;32m<ipython-input-7-08b7cf2b2fa4>\u001b[0m in \u001b[0;36m<module>\u001b[0;34m()\u001b[0m\n\u001b[0;32m----> 1\u001b[0;31m \u001b[0mtrain_dl\u001b[0m \u001b[0;34m=\u001b[0m \u001b[0mDataLoader\u001b[0m\u001b[0;34m(\u001b[0m\u001b[0mtrain_dataset\u001b[0m\u001b[0;34m,\u001b[0m\u001b[0mbatch_size\u001b[0m\u001b[0;34m=\u001b[0m\u001b[0;36m16\u001b[0m\u001b[0;34m,\u001b[0m\u001b[0mshuffle\u001b[0m\u001b[0;34m=\u001b[0m\u001b[0;32mTrue\u001b[0m\u001b[0;34m)\u001b[0m\u001b[0;34m\u001b[0m\u001b[0m\n\u001b[0m\u001b[1;32m      2\u001b[0m \u001b[0mvalid_dl\u001b[0m \u001b[0;34m=\u001b[0m \u001b[0mDataLoader\u001b[0m\u001b[0;34m(\u001b[0m\u001b[0mvalid_dataset\u001b[0m\u001b[0;34m,\u001b[0m\u001b[0mbatch_size\u001b[0m\u001b[0;34m=\u001b[0m\u001b[0;36m16\u001b[0m\u001b[0;34m,\u001b[0m\u001b[0mshuffle\u001b[0m\u001b[0;34m=\u001b[0m\u001b[0;32mTrue\u001b[0m\u001b[0;34m)\u001b[0m\u001b[0;34m\u001b[0m\u001b[0m\n",
      "\u001b[0;31mNameError\u001b[0m: name 'train_dataset' is not defined"
     ]
    }
   ],
   "source": [
    "train_dl = DataLoader(train_dataset,batch_size=16,shuffle=True)\n",
    "valid_dl = DataLoader(valid_dataset,batch_size=16,shuffle=True)"
   ]
  },
  {
   "cell_type": "code",
   "execution_count": 9,
   "metadata": {
    "collapsed": true
   },
   "outputs": [],
   "source": [
    "train_gen = iter(train_dl)"
   ]
  },
  {
   "cell_type": "code",
   "execution_count": 10,
   "metadata": {},
   "outputs": [
    {
     "data": {
      "text/plain": [
       "[\n",
       " ( 0 , 0 ,.,.) = \n",
       "   0.7882  0.7882  0.7882  ...   0.9294  0.9294  0.9294\n",
       "   0.7961  0.7961  0.7961  ...   0.9294  0.9294  0.9294\n",
       "   0.8196  0.8196  0.8196  ...   0.9294  0.9294  0.9294\n",
       "            ...             ⋱             ...          \n",
       "   0.9686  0.9686  0.9686  ...   0.9451  0.9451  0.9451\n",
       "   0.9686  0.9686  0.9686  ...   0.9451  0.9451  0.9451\n",
       "   0.9451  0.9451  0.9529  ...   0.9451  0.9451  0.9451\n",
       " \n",
       " ( 0 , 1 ,.,.) = \n",
       "   0.1686  0.1686  0.1686  ...  -0.0902 -0.0902 -0.0902\n",
       "   0.1765  0.1765  0.1765  ...  -0.0902 -0.0902 -0.0902\n",
       "   0.2000  0.2000  0.2000  ...  -0.0902 -0.0902 -0.0902\n",
       "            ...             ⋱             ...          \n",
       "   0.5294  0.5294  0.5294  ...   0.4745  0.4745  0.4745\n",
       "   0.5294  0.5294  0.5294  ...   0.4745  0.4745  0.4745\n",
       "   0.5373  0.5373  0.5451  ...   0.4745  0.4745  0.4745\n",
       " \n",
       " ( 0 , 2 ,.,.) = \n",
       "  -0.9608 -0.9608 -0.9608  ...  -0.0118 -0.0118 -0.0118\n",
       "  -0.9529 -0.9529 -0.9529  ...  -0.0118 -0.0118 -0.0118\n",
       "  -0.9294 -0.9294 -0.9294  ...  -0.0118 -0.0118 -0.0118\n",
       "            ...             ⋱             ...          \n",
       "  -0.9216 -0.9216 -0.9216  ...  -0.7647 -0.7647 -0.7647\n",
       "  -0.9216 -0.9216 -0.9216  ...  -0.7647 -0.7647 -0.7647\n",
       "  -0.8980 -0.8980 -0.8980  ...  -0.7882 -0.7882 -0.7882\n",
       "       ⋮  \n",
       " \n",
       " ( 1 , 0 ,.,.) = \n",
       "  -0.9686 -0.9451 -0.9451  ...   0.9765  0.9922  0.9922\n",
       "  -0.9059 -0.8353 -0.8353  ...   0.7725  0.9686  0.9843\n",
       "  -0.8196 -0.5686 -0.6235  ...   0.1686  0.8510  0.9373\n",
       "            ...             ⋱             ...          \n",
       "  -0.5608 -0.5843 -0.8353  ...  -0.1765 -0.2706 -0.1294\n",
       "  -0.6706 -0.6863 -0.8824  ...   0.0039 -0.2549 -0.3020\n",
       "  -0.9137 -0.9137 -0.9059  ...   0.6000  0.6078  0.6078\n",
       " \n",
       " ( 1 , 1 ,.,.) = \n",
       "   0.1686  0.2000  0.1843  ...   0.9765  0.9922  0.9922\n",
       "   0.1608  0.2392  0.2314  ...   0.7725  0.9686  0.9843\n",
       "   0.1608  0.4039  0.3490  ...   0.1686  0.8510  0.9373\n",
       "            ...             ⋱             ...          \n",
       "   0.1373  0.1059 -0.0824  ...   0.2784  0.2549  0.3255\n",
       "   0.0588  0.0431 -0.1451  ...   0.1765  0.0196  0.0196\n",
       "  -0.1059 -0.1059 -0.0980  ...   0.4275  0.3882  0.3725\n",
       " \n",
       " ( 1 , 2 ,.,.) = \n",
       "   0.1922  0.2235  0.2078  ...   0.9765  0.9922  0.9922\n",
       "   0.2078  0.2863  0.2784  ...   0.7725  0.9686  0.9843\n",
       "   0.2392  0.4745  0.4275  ...   0.1686  0.8510  0.9373\n",
       "            ...             ⋱             ...          \n",
       "   0.2706  0.1686 -0.0902  ...   0.5216  0.3333  0.3569\n",
       "   0.1373  0.1216 -0.0667  ...  -0.0353 -0.2235 -0.2235\n",
       "  -0.0510 -0.0510 -0.0431  ...  -0.2392 -0.2549 -0.2784\n",
       "       ⋮  \n",
       " \n",
       " ( 2 , 0 ,.,.) = \n",
       "  -0.6784 -0.6941 -0.7020  ...   0.6392  0.2157 -0.3725\n",
       "  -0.6627 -0.6784 -0.6941  ...   0.6000  0.2000 -0.3725\n",
       "  -0.6706 -0.6863 -0.6863  ...   0.5294  0.1608 -0.3804\n",
       "            ...             ⋱             ...          \n",
       "  -0.7569 -0.7569 -0.7569  ...  -0.6235 -0.6314 -0.6314\n",
       "  -0.7961 -0.7961 -0.7961  ...  -0.7020 -0.7020 -0.7020\n",
       "  -0.7490 -0.7490 -0.7490  ...  -0.7569 -0.7647 -0.7647\n",
       " \n",
       " ( 2 , 1 ,.,.) = \n",
       "  -0.7255 -0.7333 -0.7412  ...   0.5137  0.0980 -0.4667\n",
       "  -0.7098 -0.7176 -0.7333  ...   0.4667  0.0745 -0.4902\n",
       "  -0.7020 -0.7176 -0.7255  ...   0.4039  0.0353 -0.4980\n",
       "            ...             ⋱             ...          \n",
       "  -0.9059 -0.9059 -0.9059  ...  -0.8196 -0.8275 -0.8275\n",
       "  -0.9294 -0.9294 -0.9294  ...  -0.8824 -0.8824 -0.8824\n",
       "  -0.9059 -0.9059 -0.9059  ...  -0.9216 -0.9294 -0.9294\n",
       " \n",
       " ( 2 , 2 ,.,.) = \n",
       "  -0.7490 -0.7569 -0.7647  ...   0.4980  0.0980 -0.4745\n",
       "  -0.7333 -0.7490 -0.7569  ...   0.4588  0.0745 -0.4902\n",
       "  -0.7333 -0.7490 -0.7490  ...   0.4039  0.0431 -0.4980\n",
       "            ...             ⋱             ...          \n",
       "  -0.9529 -0.9529 -0.9529  ...  -0.8667 -0.8745 -0.8745\n",
       "  -0.9608 -0.9608 -0.9608  ...  -0.9451 -0.9451 -0.9451\n",
       "  -0.9686 -0.9686 -0.9686  ...  -0.9922 -1.0000 -1.0000\n",
       " ...     \n",
       "       ⋮  \n",
       " \n",
       " (13 , 0 ,.,.) = \n",
       "   0.6392  0.6392  0.6392  ...   0.6392  0.6392  0.6392\n",
       "   0.6392  0.6392  0.6392  ...   0.6392  0.6392  0.6392\n",
       "   0.6392  0.6392  0.6392  ...   0.6392  0.6392  0.6392\n",
       "            ...             ⋱             ...          \n",
       "   0.6078  0.6078  0.6078  ...   0.6078  0.6078  0.6078\n",
       "   0.6078  0.6078  0.6078  ...   0.6078  0.6078  0.6078\n",
       "   0.6078  0.6078  0.6078  ...   0.6078  0.6078  0.6078\n",
       " \n",
       " (13 , 1 ,.,.) = \n",
       "   0.6392  0.6392  0.6392  ...   0.6392  0.6392  0.6392\n",
       "   0.6392  0.6392  0.6392  ...   0.6392  0.6392  0.6392\n",
       "   0.6392  0.6392  0.6392  ...   0.6392  0.6392  0.6392\n",
       "            ...             ⋱             ...          \n",
       "   0.6078  0.6078  0.6078  ...   0.6078  0.6078  0.6078\n",
       "   0.6078  0.6078  0.6078  ...   0.6078  0.6078  0.6078\n",
       "   0.6078  0.6078  0.6078  ...   0.6078  0.6078  0.6078\n",
       " \n",
       " (13 , 2 ,.,.) = \n",
       "   0.6392  0.6392  0.6392  ...   0.6392  0.6392  0.6392\n",
       "   0.6392  0.6392  0.6392  ...   0.6392  0.6392  0.6392\n",
       "   0.6392  0.6392  0.6392  ...   0.6392  0.6392  0.6392\n",
       "            ...             ⋱             ...          \n",
       "   0.6078  0.6078  0.6078  ...   0.6078  0.6078  0.6078\n",
       "   0.6078  0.6078  0.6078  ...   0.6078  0.6078  0.6078\n",
       "   0.6078  0.6078  0.6078  ...   0.6078  0.6078  0.6078\n",
       "       ⋮  \n",
       " \n",
       " (14 , 0 ,.,.) = \n",
       "   0.2314 -0.1451 -0.1451  ...  -0.1451 -0.1451  0.3412\n",
       "  -0.3412 -1.0000 -1.0000  ...  -1.0000 -1.0000 -0.1451\n",
       "  -0.3412 -1.0000 -1.0000  ...  -1.0000 -1.0000 -0.1451\n",
       "            ...             ⋱             ...          \n",
       "  -0.3412 -1.0000 -1.0000  ...  -1.0000 -1.0000 -0.1451\n",
       "  -0.3412 -1.0000 -1.0000  ...  -1.0000 -1.0000 -0.1451\n",
       "   0.0980 -0.3412 -0.3412  ...  -0.3412 -0.3412  0.2314\n",
       " \n",
       " (14 , 1 ,.,.) = \n",
       "   0.2314 -0.1451 -0.1451  ...  -0.1451 -0.1451  0.3412\n",
       "  -0.3412 -1.0000 -1.0000  ...  -1.0000 -1.0000 -0.1451\n",
       "  -0.3412 -1.0000 -1.0000  ...  -1.0000 -1.0000 -0.1451\n",
       "            ...             ⋱             ...          \n",
       "  -0.3412 -1.0000 -1.0000  ...  -1.0000 -1.0000 -0.1451\n",
       "  -0.3412 -1.0000 -1.0000  ...  -1.0000 -1.0000 -0.1451\n",
       "   0.0980 -0.3412 -0.3412  ...  -0.3412 -0.3412  0.2314\n",
       " \n",
       " (14 , 2 ,.,.) = \n",
       "   0.2314 -0.1451 -0.1451  ...  -0.1451 -0.1451  0.3412\n",
       "  -0.3412 -1.0000 -1.0000  ...  -1.0000 -1.0000 -0.1451\n",
       "  -0.3412 -1.0000 -1.0000  ...  -1.0000 -1.0000 -0.1451\n",
       "            ...             ⋱             ...          \n",
       "  -0.3412 -1.0000 -1.0000  ...  -1.0000 -1.0000 -0.1451\n",
       "  -0.3412 -1.0000 -1.0000  ...  -1.0000 -1.0000 -0.1451\n",
       "   0.0980 -0.3412 -0.3412  ...  -0.3412 -0.3412  0.2314\n",
       "       ⋮  \n",
       " \n",
       " (15 , 0 ,.,.) = \n",
       "   1.0000  1.0000  1.0000  ...   1.0000  1.0000  1.0000\n",
       "   1.0000  1.0000  1.0000  ...   1.0000  1.0000  1.0000\n",
       "   1.0000  1.0000  1.0000  ...   1.0000  1.0000  1.0000\n",
       "            ...             ⋱             ...          \n",
       "   1.0000  1.0000  1.0000  ...   1.0000  1.0000  1.0000\n",
       "   1.0000  1.0000  1.0000  ...   1.0000  1.0000  1.0000\n",
       "   1.0000  1.0000  1.0000  ...   1.0000  1.0000  1.0000\n",
       " \n",
       " (15 , 1 ,.,.) = \n",
       "   1.0000  1.0000  1.0000  ...   1.0000  1.0000  1.0000\n",
       "   1.0000  1.0000  1.0000  ...   1.0000  1.0000  1.0000\n",
       "   1.0000  1.0000  1.0000  ...   1.0000  1.0000  1.0000\n",
       "            ...             ⋱             ...          \n",
       "   1.0000  1.0000  1.0000  ...   1.0000  1.0000  1.0000\n",
       "   1.0000  1.0000  1.0000  ...   1.0000  1.0000  1.0000\n",
       "   1.0000  1.0000  1.0000  ...   1.0000  1.0000  1.0000\n",
       " \n",
       " (15 , 2 ,.,.) = \n",
       "   1.0000  1.0000  1.0000  ...   1.0000  1.0000  1.0000\n",
       "   1.0000  1.0000  1.0000  ...   1.0000  1.0000  1.0000\n",
       "   1.0000  1.0000  1.0000  ...   1.0000  1.0000  1.0000\n",
       "            ...             ⋱             ...          \n",
       "   1.0000  1.0000  1.0000  ...   1.0000  1.0000  1.0000\n",
       "   1.0000  1.0000  1.0000  ...   1.0000  1.0000  1.0000\n",
       "   1.0000  1.0000  1.0000  ...   1.0000  1.0000  1.0000\n",
       " [torch.FloatTensor of size 16x3x320x320], \n",
       "  0\n",
       "  0\n",
       "  0\n",
       "  0\n",
       "  3\n",
       "  0\n",
       "  1\n",
       "  0\n",
       "  2\n",
       "  2\n",
       "  3\n",
       "  3\n",
       "  2\n",
       "  0\n",
       "  3\n",
       "  2\n",
       " [torch.LongTensor of size 16]]"
      ]
     },
     "execution_count": 10,
     "metadata": {},
     "output_type": "execute_result"
    }
   ],
   "source": [
    "next(train_gen)"
   ]
  },
  {
   "cell_type": "markdown",
   "metadata": {},
   "source": [
    "### Step 3: Create Model"
   ]
  },
  {
   "cell_type": "code",
   "execution_count": 12,
   "metadata": {
    "collapsed": true
   },
   "outputs": [],
   "source": [
    "from torch.nn import functional as F\n",
    "from torch import nn"
   ]
  },
  {
   "cell_type": "code",
   "execution_count": 13,
   "metadata": {
    "collapsed": true
   },
   "outputs": [],
   "source": [
    "class CNNModel(nn.Module):\n",
    "    \n",
    "    def __init__(self):\n",
    "        super(CNNModel, self).__init__()\n",
    "        self.conv1 = nn.Conv2d(3, 16, 3,stride=1,padding=1)\n",
    "        self.pool = nn.MaxPool2d(2, 2)\n",
    "        \n",
    "        self.conv2 = nn.Conv2d(16, 32, 3,stride=1,padding=1)\n",
    "        self.conv2_bn = nn.BatchNorm2d(32)\n",
    "\n",
    "        self.conv3 = nn.Conv2d(32, 64, 3,stride=1,padding=1)\n",
    "        \n",
    "        self.conv4 = nn.Conv2d(64, 128, 3,stride=1,padding=1)\n",
    "        self.conv4_bn = nn.BatchNorm2d(128)\n",
    "        \n",
    "        self.conv5 = nn.Conv2d(128, 256, 3,stride=1,padding=1)\n",
    "        \n",
    "        self.conv6 = nn.Conv2d(256, 512, 3,stride=1,padding=1)\n",
    "        self.conv6_bn = nn.BatchNorm2d(512)\n",
    "        \n",
    "        self.fc1 = nn.Linear(512 * 5 * 5, 120)\n",
    "        self.fc2 = nn.Linear(120, 4)\n",
    "\n",
    "        \n",
    "    def forward(self, x):\n",
    "        x = self.pool(F.relu(self.conv1(x)))\n",
    "        x = self.pool(F.relu(self.conv2_bn(self.conv2(x))))\n",
    "        x = self.pool(F.relu(self.conv3(x)))\n",
    "        x = self.pool(F.relu(self.conv4_bn(self.conv4(x))))\n",
    "        x = self.pool(F.relu(self.conv5(x)))\n",
    "        x = self.pool(F.relu(self.conv6_bn(self.conv6(x))))\n",
    "        x = x.view(-1, 512 * 5 * 5)\n",
    "        x = F.relu(self.fc1(x))\n",
    "        x = F.softmax(self.fc2(x))\n",
    "        \n",
    "        return x"
   ]
  },
  {
   "cell_type": "markdown",
   "metadata": {},
   "source": [
    "### Step4: Instantiate Model Class"
   ]
  },
  {
   "cell_type": "code",
   "execution_count": 14,
   "metadata": {
    "collapsed": true
   },
   "outputs": [],
   "source": [
    "model = CNNModel()"
   ]
  },
  {
   "cell_type": "markdown",
   "metadata": {},
   "source": [
    "### Step 5: Instantiate Loss Class\n",
    "- CNN: Cross Entropy Loss"
   ]
  },
  {
   "cell_type": "code",
   "execution_count": 15,
   "metadata": {
    "collapsed": true
   },
   "outputs": [],
   "source": [
    "criterion = nn.CrossEntropyLoss()"
   ]
  },
  {
   "cell_type": "markdown",
   "metadata": {},
   "source": [
    "### Step 6: Instantiate Optimizer Class"
   ]
  },
  {
   "cell_type": "code",
   "execution_count": 16,
   "metadata": {
    "collapsed": true
   },
   "outputs": [],
   "source": [
    "learning_rate =0.01\n",
    "optimizer =torch.optim.SGD(model.parameters(), lr= learning_rate)"
   ]
  },
  {
   "cell_type": "markdown",
   "metadata": {},
   "source": [
    "### Parameters Review"
   ]
  },
  {
   "cell_type": "code",
   "execution_count": 17,
   "metadata": {},
   "outputs": [
    {
     "name": "stdout",
     "output_type": "stream",
     "text": [
      "<generator object Module.parameters at 0x1180e7728>\n",
      "22\n",
      "torch.Size([16, 3, 3, 3])\n"
     ]
    }
   ],
   "source": [
    "print(model.parameters())\n",
    "print(len(list(model.parameters())))\n",
    "print(list(model.parameters())[0].size())"
   ]
  },
  {
   "cell_type": "code",
   "execution_count": 18,
   "metadata": {},
   "outputs": [
    {
     "data": {
      "text/plain": [
       "2266"
      ]
     },
     "execution_count": 18,
     "metadata": {},
     "output_type": "execute_result"
    }
   ],
   "source": [
    "batch_size = 16\n",
    "n_iters = 100000\n",
    "num_epochs = n_iters/(len(train_dataset) / batch_size)\n",
    "num_epochs = int(num_epochs)\n",
    "num_epochs"
   ]
  },
  {
   "cell_type": "markdown",
   "metadata": {},
   "source": [
    "### Step7. Run the model"
   ]
  },
  {
   "cell_type": "code",
   "execution_count": 19,
   "metadata": {},
   "outputs": [
    {
     "name": "stderr",
     "output_type": "stream",
     "text": [
      "  0%|          | 0/45 [00:00<?, ?it/s]/Users/hmtseng/anaconda3/lib/python3.6/site-packages/ipykernel_launcher.py:34: UserWarning: Implicit dimension choice for softmax has been deprecated. Change the call to include dim=X as an argument.\n",
      "i44 loss:1.215\tacc:62.500: 100%|██████████| 45/45 [03:01<00:00,  4.02s/it]\n",
      "  0%|          | 0/45 [00:00<?, ?it/s]"
     ]
    },
    {
     "name": "stdout",
     "output_type": "stream",
     "text": [
      "Iteration:44.000\t Loss:1.150\t Acc:36.250.\n"
     ]
    },
    {
     "name": "stderr",
     "output_type": "stream",
     "text": [
      "i44 loss:1.096\tacc:75.000: 100%|██████████| 45/45 [03:05<00:00,  4.12s/it]\n",
      "  0%|          | 0/45 [00:00<?, ?it/s]"
     ]
    },
    {
     "name": "stdout",
     "output_type": "stream",
     "text": [
      "Iteration:44.000\t Loss:0.894\t Acc:53.750.\n"
     ]
    },
    {
     "name": "stderr",
     "output_type": "stream",
     "text": [
      "i44 loss:1.025\tacc:85.417: 100%|██████████| 45/45 [03:04<00:00,  4.10s/it]\n",
      "  0%|          | 0/45 [00:00<?, ?it/s]"
     ]
    },
    {
     "name": "stdout",
     "output_type": "stream",
     "text": [
      "Iteration:44.000\t Loss:0.947\t Acc:45.000.\n"
     ]
    },
    {
     "name": "stderr",
     "output_type": "stream",
     "text": [
      "i44 loss:1.007\tacc:79.167: 100%|██████████| 45/45 [02:57<00:00,  3.95s/it]\n",
      "  0%|          | 0/45 [00:00<?, ?it/s]"
     ]
    },
    {
     "name": "stdout",
     "output_type": "stream",
     "text": [
      "Iteration:44.000\t Loss:0.832\t Acc:51.250.\n"
     ]
    },
    {
     "name": "stderr",
     "output_type": "stream",
     "text": [
      "i44 loss:1.135\tacc:60.417: 100%|██████████| 45/45 [02:57<00:00,  3.95s/it]\n",
      "  0%|          | 0/45 [00:00<?, ?it/s]"
     ]
    },
    {
     "name": "stdout",
     "output_type": "stream",
     "text": [
      "Iteration:44.000\t Loss:1.213\t Acc:51.250.\n"
     ]
    },
    {
     "name": "stderr",
     "output_type": "stream",
     "text": [
      "i44 loss:1.087\tacc:79.167: 100%|██████████| 45/45 [03:03<00:00,  4.07s/it]\n",
      "  0%|          | 0/45 [00:00<?, ?it/s]"
     ]
    },
    {
     "name": "stdout",
     "output_type": "stream",
     "text": [
      "Iteration:44.000\t Loss:1.076\t Acc:52.500.\n"
     ]
    },
    {
     "name": "stderr",
     "output_type": "stream",
     "text": [
      "i44 loss:1.010\tacc:72.917: 100%|██████████| 45/45 [03:40<00:00,  4.90s/it]\n",
      "  0%|          | 0/45 [00:00<?, ?it/s]"
     ]
    },
    {
     "name": "stdout",
     "output_type": "stream",
     "text": [
      "Iteration:44.000\t Loss:1.087\t Acc:62.500.\n"
     ]
    },
    {
     "name": "stderr",
     "output_type": "stream",
     "text": [
      "i44 loss:0.964\tacc:87.500: 100%|██████████| 45/45 [03:00<00:00,  4.02s/it]\n",
      "  0%|          | 0/45 [00:00<?, ?it/s]"
     ]
    },
    {
     "name": "stdout",
     "output_type": "stream",
     "text": [
      "Iteration:44.000\t Loss:0.889\t Acc:62.500.\n"
     ]
    },
    {
     "name": "stderr",
     "output_type": "stream",
     "text": [
      "i44 loss:0.966\tacc:83.333: 100%|██████████| 45/45 [03:01<00:00,  4.02s/it]\n",
      "  0%|          | 0/45 [00:00<?, ?it/s]"
     ]
    },
    {
     "name": "stdout",
     "output_type": "stream",
     "text": [
      "Iteration:44.000\t Loss:0.870\t Acc:63.750.\n"
     ]
    },
    {
     "name": "stderr",
     "output_type": "stream",
     "text": [
      "i44 loss:0.925\tacc:89.583: 100%|██████████| 45/45 [03:00<00:00,  4.01s/it]\n",
      "  0%|          | 0/45 [00:00<?, ?it/s]"
     ]
    },
    {
     "name": "stdout",
     "output_type": "stream",
     "text": [
      "Iteration:44.000\t Loss:0.814\t Acc:58.750.\n"
     ]
    },
    {
     "name": "stderr",
     "output_type": "stream",
     "text": [
      "i44 loss:1.010\tacc:68.750: 100%|██████████| 45/45 [03:03<00:00,  4.08s/it]\n",
      "  0%|          | 0/45 [00:00<?, ?it/s]"
     ]
    },
    {
     "name": "stdout",
     "output_type": "stream",
     "text": [
      "Iteration:44.000\t Loss:1.094\t Acc:73.750.\n"
     ]
    },
    {
     "name": "stderr",
     "output_type": "stream",
     "text": [
      "i44 loss:1.049\tacc:70.833: 100%|██████████| 45/45 [03:02<00:00,  4.05s/it]\n",
      "  0%|          | 0/45 [00:00<?, ?it/s]"
     ]
    },
    {
     "name": "stdout",
     "output_type": "stream",
     "text": [
      "Iteration:44.000\t Loss:1.233\t Acc:77.500.\n"
     ]
    },
    {
     "name": "stderr",
     "output_type": "stream",
     "text": [
      "i44 loss:0.884\tacc:93.750: 100%|██████████| 45/45 [03:11<00:00,  4.26s/it]\n",
      "  0%|          | 0/45 [00:00<?, ?it/s]"
     ]
    },
    {
     "name": "stdout",
     "output_type": "stream",
     "text": [
      "Iteration:44.000\t Loss:0.928\t Acc:60.000.\n"
     ]
    },
    {
     "name": "stderr",
     "output_type": "stream",
     "text": [
      "i44 loss:0.932\tacc:87.500: 100%|██████████| 45/45 [03:00<00:00,  4.00s/it]\n",
      "  0%|          | 0/45 [00:00<?, ?it/s]"
     ]
    },
    {
     "name": "stdout",
     "output_type": "stream",
     "text": [
      "Iteration:44.000\t Loss:0.883\t Acc:60.000.\n"
     ]
    },
    {
     "name": "stderr",
     "output_type": "stream",
     "text": [
      "i44 loss:1.072\tacc:70.833: 100%|██████████| 45/45 [53:06<00:00, 70.81s/it]   \n",
      "  0%|          | 0/45 [00:00<?, ?it/s]"
     ]
    },
    {
     "name": "stdout",
     "output_type": "stream",
     "text": [
      "Iteration:44.000\t Loss:1.419\t Acc:55.000.\n"
     ]
    },
    {
     "name": "stderr",
     "output_type": "stream",
     "text": [
      "i44 loss:0.854\tacc:91.667: 100%|██████████| 45/45 [04:17<00:00,  5.72s/it]\n",
      "  0%|          | 0/45 [00:00<?, ?it/s]"
     ]
    },
    {
     "name": "stdout",
     "output_type": "stream",
     "text": [
      "Iteration:44.000\t Loss:0.805\t Acc:71.250.\n"
     ]
    },
    {
     "name": "stderr",
     "output_type": "stream",
     "text": [
      "i44 loss:0.815\tacc:93.750: 100%|██████████| 45/45 [04:12<00:00,  5.61s/it]\n",
      "  0%|          | 0/45 [00:00<?, ?it/s]"
     ]
    },
    {
     "name": "stdout",
     "output_type": "stream",
     "text": [
      "Iteration:44.000\t Loss:0.764\t Acc:82.500.\n"
     ]
    },
    {
     "name": "stderr",
     "output_type": "stream",
     "text": [
      "i44 loss:0.846\tacc:91.667: 100%|██████████| 45/45 [03:34<00:00,  4.76s/it]\n",
      "  0%|          | 0/45 [00:00<?, ?it/s]"
     ]
    },
    {
     "name": "stdout",
     "output_type": "stream",
     "text": [
      "Iteration:44.000\t Loss:0.772\t Acc:75.000.\n"
     ]
    },
    {
     "name": "stderr",
     "output_type": "stream",
     "text": [
      "i44 loss:0.815\tacc:95.833: 100%|██████████| 45/45 [03:30<00:00,  4.69s/it]\n",
      "  0%|          | 0/45 [00:00<?, ?it/s]"
     ]
    },
    {
     "name": "stdout",
     "output_type": "stream",
     "text": [
      "Iteration:44.000\t Loss:0.764\t Acc:61.250.\n"
     ]
    },
    {
     "name": "stderr",
     "output_type": "stream",
     "text": [
      "i44 loss:0.823\tacc:95.833: 100%|██████████| 45/45 [03:59<00:00,  5.32s/it]\n",
      "  0%|          | 0/45 [00:00<?, ?it/s]"
     ]
    },
    {
     "name": "stdout",
     "output_type": "stream",
     "text": [
      "Iteration:44.000\t Loss:0.795\t Acc:71.250.\n"
     ]
    },
    {
     "name": "stderr",
     "output_type": "stream",
     "text": [
      "i44 loss:0.880\tacc:93.750: 100%|██████████| 45/45 [03:24<00:00,  4.54s/it]\n",
      "  0%|          | 0/45 [00:00<?, ?it/s]"
     ]
    },
    {
     "name": "stdout",
     "output_type": "stream",
     "text": [
      "Iteration:44.000\t Loss:0.889\t Acc:82.500.\n"
     ]
    },
    {
     "name": "stderr",
     "output_type": "stream",
     "text": [
      "i44 loss:1.009\tacc:72.917: 100%|██████████| 45/45 [03:19<00:00,  4.44s/it] \n",
      "  0%|          | 0/45 [00:00<?, ?it/s]"
     ]
    },
    {
     "name": "stdout",
     "output_type": "stream",
     "text": [
      "Iteration:44.000\t Loss:1.231\t Acc:75.000.\n"
     ]
    },
    {
     "name": "stderr",
     "output_type": "stream",
     "text": [
      "i44 loss:0.768\tacc:100.000: 100%|██████████| 45/45 [03:29<00:00,  4.66s/it]\n",
      "  0%|          | 0/45 [00:00<?, ?it/s]"
     ]
    },
    {
     "name": "stdout",
     "output_type": "stream",
     "text": [
      "Iteration:44.000\t Loss:0.747\t Acc:73.750.\n"
     ]
    },
    {
     "name": "stderr",
     "output_type": "stream",
     "text": [
      "i44 loss:0.815\tacc:93.750: 100%|██████████| 45/45 [03:32<00:00,  4.72s/it]\n",
      "  0%|          | 0/45 [00:00<?, ?it/s]"
     ]
    },
    {
     "name": "stdout",
     "output_type": "stream",
     "text": [
      "Iteration:44.000\t Loss:0.768\t Acc:77.500.\n"
     ]
    },
    {
     "name": "stderr",
     "output_type": "stream",
     "text": [
      "i44 loss:0.831\tacc:93.750: 100%|██████████| 45/45 [03:31<00:00,  4.71s/it]\n",
      "  0%|          | 0/45 [00:00<?, ?it/s]"
     ]
    },
    {
     "name": "stdout",
     "output_type": "stream",
     "text": [
      "Iteration:44.000\t Loss:0.762\t Acc:71.250.\n"
     ]
    },
    {
     "name": "stderr",
     "output_type": "stream",
     "text": [
      "i44 loss:1.008\tacc:70.833: 100%|██████████| 45/45 [03:31<00:00,  4.71s/it] \n",
      "  0%|          | 0/45 [00:00<?, ?it/s]"
     ]
    },
    {
     "name": "stdout",
     "output_type": "stream",
     "text": [
      "Iteration:44.000\t Loss:1.192\t Acc:73.750.\n"
     ]
    },
    {
     "name": "stderr",
     "output_type": "stream",
     "text": [
      "i44 loss:0.846\tacc:91.667: 100%|██████████| 45/45 [03:33<00:00,  4.74s/it] \n",
      "  0%|          | 0/45 [00:00<?, ?it/s]"
     ]
    },
    {
     "name": "stdout",
     "output_type": "stream",
     "text": [
      "Iteration:44.000\t Loss:0.757\t Acc:62.500.\n"
     ]
    },
    {
     "name": "stderr",
     "output_type": "stream",
     "text": [
      "i44 loss:1.023\tacc:70.833: 100%|██████████| 45/45 [03:33<00:00,  4.75s/it]\n",
      "  0%|          | 0/45 [00:00<?, ?it/s]"
     ]
    },
    {
     "name": "stdout",
     "output_type": "stream",
     "text": [
      "Iteration:44.000\t Loss:1.218\t Acc:80.000.\n"
     ]
    },
    {
     "name": "stderr",
     "output_type": "stream",
     "text": [
      "i44 loss:0.771\tacc:97.917: 100%|██████████| 45/45 [03:40<00:00,  4.90s/it]\n",
      "  0%|          | 0/45 [00:00<?, ?it/s]"
     ]
    },
    {
     "name": "stdout",
     "output_type": "stream",
     "text": [
      "Iteration:44.000\t Loss:0.755\t Acc:81.250.\n"
     ]
    },
    {
     "name": "stderr",
     "output_type": "stream",
     "text": [
      "i44 loss:0.772\tacc:97.917: 100%|██████████| 45/45 [03:52<00:00,  5.18s/it]\n",
      "  0%|          | 0/45 [00:00<?, ?it/s]"
     ]
    },
    {
     "name": "stdout",
     "output_type": "stream",
     "text": [
      "Iteration:44.000\t Loss:0.745\t Acc:72.500.\n"
     ]
    },
    {
     "name": "stderr",
     "output_type": "stream",
     "text": [
      "i44 loss:0.782\tacc:97.917: 100%|██████████| 45/45 [04:08<00:00,  5.52s/it] \n",
      "  0%|          | 0/45 [00:00<?, ?it/s]"
     ]
    },
    {
     "name": "stdout",
     "output_type": "stream",
     "text": [
      "Iteration:44.000\t Loss:0.781\t Acc:72.500.\n"
     ]
    },
    {
     "name": "stderr",
     "output_type": "stream",
     "text": [
      "i44 loss:0.941\tacc:81.250: 100%|██████████| 45/45 [03:35<00:00,  4.78s/it]\n",
      "  0%|          | 0/45 [00:00<?, ?it/s]"
     ]
    },
    {
     "name": "stdout",
     "output_type": "stream",
     "text": [
      "Iteration:44.000\t Loss:1.254\t Acc:85.000.\n"
     ]
    },
    {
     "name": "stderr",
     "output_type": "stream",
     "text": [
      "i44 loss:0.860\tacc:93.750: 100%|██████████| 45/45 [03:34<00:00,  4.77s/it] \n",
      "  0%|          | 0/45 [00:00<?, ?it/s]"
     ]
    },
    {
     "name": "stdout",
     "output_type": "stream",
     "text": [
      "Iteration:44.000\t Loss:0.927\t Acc:46.250.\n"
     ]
    },
    {
     "name": "stderr",
     "output_type": "stream",
     "text": [
      "i44 loss:0.928\tacc:83.333: 100%|██████████| 45/45 [03:29<00:00,  4.66s/it] \n",
      "  0%|          | 0/45 [00:00<?, ?it/s]"
     ]
    },
    {
     "name": "stdout",
     "output_type": "stream",
     "text": [
      "Iteration:44.000\t Loss:1.252\t Acc:52.500.\n"
     ]
    },
    {
     "name": "stderr",
     "output_type": "stream",
     "text": [
      "i44 loss:0.812\tacc:97.917: 100%|██████████| 45/45 [03:24<00:00,  4.55s/it]\n",
      "  0%|          | 0/45 [00:00<?, ?it/s]"
     ]
    },
    {
     "name": "stdout",
     "output_type": "stream",
     "text": [
      "Iteration:44.000\t Loss:0.856\t Acc:61.250.\n"
     ]
    },
    {
     "name": "stderr",
     "output_type": "stream",
     "text": [
      "i44 loss:0.793\tacc:97.917: 100%|██████████| 45/45 [33:59<00:00, 45.32s/it]   \n",
      "  0%|          | 0/45 [00:00<?, ?it/s]"
     ]
    },
    {
     "name": "stdout",
     "output_type": "stream",
     "text": [
      "Iteration:44.000\t Loss:0.763\t Acc:81.250.\n"
     ]
    },
    {
     "name": "stderr",
     "output_type": "stream",
     "text": [
      "i44 loss:0.852\tacc:95.833: 100%|██████████| 45/45 [03:50<00:00,  5.11s/it] \n",
      "  0%|          | 0/45 [00:00<?, ?it/s]"
     ]
    },
    {
     "name": "stdout",
     "output_type": "stream",
     "text": [
      "Iteration:44.000\t Loss:0.878\t Acc:70.000.\n"
     ]
    },
    {
     "name": "stderr",
     "output_type": "stream",
     "text": [
      "i44 loss:0.837\tacc:91.667: 100%|██████████| 45/45 [03:48<00:00,  5.07s/it]\n",
      "  0%|          | 0/45 [00:00<?, ?it/s]"
     ]
    },
    {
     "name": "stdout",
     "output_type": "stream",
     "text": [
      "Iteration:44.000\t Loss:0.753\t Acc:81.250.\n"
     ]
    },
    {
     "name": "stderr",
     "output_type": "stream",
     "text": [
      "i44 loss:0.808\tacc:93.750: 100%|██████████| 45/45 [03:50<00:00,  5.12s/it] \n",
      "  0%|          | 0/45 [00:00<?, ?it/s]"
     ]
    },
    {
     "name": "stdout",
     "output_type": "stream",
     "text": [
      "Iteration:44.000\t Loss:0.760\t Acc:80.000.\n"
     ]
    },
    {
     "name": "stderr",
     "output_type": "stream",
     "text": [
      "i44 loss:0.756\tacc:100.000: 100%|██████████| 45/45 [04:10<00:00,  5.56s/it]\n",
      "  0%|          | 0/45 [00:00<?, ?it/s]"
     ]
    },
    {
     "name": "stdout",
     "output_type": "stream",
     "text": [
      "Iteration:44.000\t Loss:0.752\t Acc:82.500.\n"
     ]
    },
    {
     "name": "stderr",
     "output_type": "stream",
     "text": [
      "i44 loss:0.776\tacc:97.917: 100%|██████████| 45/45 [03:56<00:00,  5.25s/it] \n",
      "  0%|          | 0/45 [00:00<?, ?it/s]"
     ]
    },
    {
     "name": "stdout",
     "output_type": "stream",
     "text": [
      "Iteration:44.000\t Loss:0.748\t Acc:83.750.\n"
     ]
    },
    {
     "name": "stderr",
     "output_type": "stream",
     "text": [
      "i44 loss:0.785\tacc:97.917: 100%|██████████| 45/45 [03:32<00:00,  4.71s/it] \n",
      "  0%|          | 0/45 [00:00<?, ?it/s]"
     ]
    },
    {
     "name": "stdout",
     "output_type": "stream",
     "text": [
      "Iteration:44.000\t Loss:0.744\t Acc:75.000.\n"
     ]
    },
    {
     "name": "stderr",
     "output_type": "stream",
     "text": [
      "i44 loss:0.753\tacc:100.000: 100%|██████████| 45/45 [04:04<00:00,  5.44s/it]\n",
      "  0%|          | 0/45 [00:00<?, ?it/s]"
     ]
    },
    {
     "name": "stdout",
     "output_type": "stream",
     "text": [
      "Iteration:44.000\t Loss:0.744\t Acc:72.500.\n"
     ]
    },
    {
     "name": "stderr",
     "output_type": "stream",
     "text": [
      "i44 loss:0.781\tacc:97.917: 100%|██████████| 45/45 [04:59<00:00,  6.66s/it] \n",
      "  0%|          | 0/45 [00:00<?, ?it/s]"
     ]
    },
    {
     "name": "stdout",
     "output_type": "stream",
     "text": [
      "Iteration:44.000\t Loss:0.776\t Acc:81.250.\n"
     ]
    },
    {
     "name": "stderr",
     "output_type": "stream",
     "text": [
      "i44 loss:0.755\tacc:100.000: 100%|██████████| 45/45 [08:41<00:00, 11.59s/it]\n",
      "  0%|          | 0/45 [00:00<?, ?it/s]"
     ]
    },
    {
     "name": "stdout",
     "output_type": "stream",
     "text": [
      "Iteration:44.000\t Loss:0.745\t Acc:82.500.\n"
     ]
    },
    {
     "name": "stderr",
     "output_type": "stream",
     "text": [
      "i44 loss:0.773\tacc:97.917: 100%|██████████| 45/45 [08:22<00:00, 11.18s/it] \n",
      "  0%|          | 0/45 [00:00<?, ?it/s]"
     ]
    },
    {
     "name": "stdout",
     "output_type": "stream",
     "text": [
      "Iteration:44.000\t Loss:0.750\t Acc:73.750.\n"
     ]
    },
    {
     "name": "stderr",
     "output_type": "stream",
     "text": [
      "i44 loss:0.777\tacc:97.917: 100%|██████████| 45/45 [09:14<00:00, 12.31s/it] \n",
      "  0%|          | 0/45 [00:00<?, ?it/s]"
     ]
    },
    {
     "name": "stdout",
     "output_type": "stream",
     "text": [
      "Iteration:44.000\t Loss:0.750\t Acc:82.500.\n"
     ]
    },
    {
     "name": "stderr",
     "output_type": "stream",
     "text": [
      "i44 loss:0.767\tacc:100.000: 100%|██████████| 45/45 [09:28<00:00, 12.62s/it]\n",
      "  0%|          | 0/45 [00:00<?, ?it/s]"
     ]
    },
    {
     "name": "stdout",
     "output_type": "stream",
     "text": [
      "Iteration:44.000\t Loss:0.807\t Acc:73.750.\n"
     ]
    },
    {
     "name": "stderr",
     "output_type": "stream",
     "text": [
      "i44 loss:0.770\tacc:97.917: 100%|██████████| 45/45 [08:25<00:00, 11.24s/it] \n",
      "  0%|          | 0/45 [00:00<?, ?it/s]"
     ]
    },
    {
     "name": "stdout",
     "output_type": "stream",
     "text": [
      "Iteration:44.000\t Loss:0.746\t Acc:75.000.\n"
     ]
    },
    {
     "name": "stderr",
     "output_type": "stream",
     "text": [
      "i44 loss:0.746\tacc:100.000: 100%|██████████| 45/45 [08:58<00:00, 11.96s/it]\n",
      "  0%|          | 0/45 [00:00<?, ?it/s]"
     ]
    },
    {
     "name": "stdout",
     "output_type": "stream",
     "text": [
      "Iteration:44.000\t Loss:0.748\t Acc:82.500.\n"
     ]
    },
    {
     "name": "stderr",
     "output_type": "stream",
     "text": [
      "i2 loss:0.765\tacc:97.917:   9%|▉         | 4/45 [00:32<05:30,  8.06s/it]"
     ]
    },
    {
     "ename": "KeyboardInterrupt",
     "evalue": "",
     "output_type": "error",
     "traceback": [
      "\u001b[0;31m---------------------------------------------------------------------------\u001b[0m",
      "\u001b[0;31mKeyboardInterrupt\u001b[0m                         Traceback (most recent call last)",
      "\u001b[0;32m<ipython-input-19-55fb2855e006>\u001b[0m in \u001b[0;36m<module>\u001b[0;34m()\u001b[0m\n\u001b[1;32m     38\u001b[0m \u001b[0;34m\u001b[0m\u001b[0m\n\u001b[1;32m     39\u001b[0m         \u001b[0;31m#Getting gradients w.r.t. parameters\u001b[0m\u001b[0;34m\u001b[0m\u001b[0;34m\u001b[0m\u001b[0m\n\u001b[0;32m---> 40\u001b[0;31m         \u001b[0mloss\u001b[0m\u001b[0;34m.\u001b[0m\u001b[0mbackward\u001b[0m\u001b[0;34m(\u001b[0m\u001b[0;34m)\u001b[0m\u001b[0;34m\u001b[0m\u001b[0m\n\u001b[0m\u001b[1;32m     41\u001b[0m         \u001b[0macc_\u001b[0m \u001b[0;34m=\u001b[0m \u001b[0maccuracy\u001b[0m\u001b[0;34m(\u001b[0m\u001b[0mimages\u001b[0m\u001b[0;34m,\u001b[0m\u001b[0mlabels\u001b[0m\u001b[0;34m)\u001b[0m\u001b[0;34m\u001b[0m\u001b[0m\n\u001b[1;32m     42\u001b[0m         \u001b[0mloss_m\u001b[0m\u001b[0;34m.\u001b[0m\u001b[0mappend\u001b[0m\u001b[0;34m(\u001b[0m\u001b[0mloss\u001b[0m\u001b[0;34m.\u001b[0m\u001b[0mdata\u001b[0m\u001b[0;34m[\u001b[0m\u001b[0;36m0\u001b[0m\u001b[0;34m]\u001b[0m\u001b[0;34m)\u001b[0m\u001b[0;34m\u001b[0m\u001b[0m\n",
      "\u001b[0;32m~/anaconda3/lib/python3.6/site-packages/torch/autograd/variable.py\u001b[0m in \u001b[0;36mbackward\u001b[0;34m(self, gradient, retain_graph, create_graph, retain_variables)\u001b[0m\n\u001b[1;32m    165\u001b[0m                 \u001b[0mVariable\u001b[0m\u001b[0;34m.\u001b[0m\u001b[0;34m\u001b[0m\u001b[0m\n\u001b[1;32m    166\u001b[0m         \"\"\"\n\u001b[0;32m--> 167\u001b[0;31m         \u001b[0mtorch\u001b[0m\u001b[0;34m.\u001b[0m\u001b[0mautograd\u001b[0m\u001b[0;34m.\u001b[0m\u001b[0mbackward\u001b[0m\u001b[0;34m(\u001b[0m\u001b[0mself\u001b[0m\u001b[0;34m,\u001b[0m \u001b[0mgradient\u001b[0m\u001b[0;34m,\u001b[0m \u001b[0mretain_graph\u001b[0m\u001b[0;34m,\u001b[0m \u001b[0mcreate_graph\u001b[0m\u001b[0;34m,\u001b[0m \u001b[0mretain_variables\u001b[0m\u001b[0;34m)\u001b[0m\u001b[0;34m\u001b[0m\u001b[0m\n\u001b[0m\u001b[1;32m    168\u001b[0m \u001b[0;34m\u001b[0m\u001b[0m\n\u001b[1;32m    169\u001b[0m     \u001b[0;32mdef\u001b[0m \u001b[0mregister_hook\u001b[0m\u001b[0;34m(\u001b[0m\u001b[0mself\u001b[0m\u001b[0;34m,\u001b[0m \u001b[0mhook\u001b[0m\u001b[0;34m)\u001b[0m\u001b[0;34m:\u001b[0m\u001b[0;34m\u001b[0m\u001b[0m\n",
      "\u001b[0;32m~/anaconda3/lib/python3.6/site-packages/torch/autograd/__init__.py\u001b[0m in \u001b[0;36mbackward\u001b[0;34m(variables, grad_variables, retain_graph, create_graph, retain_variables)\u001b[0m\n\u001b[1;32m     97\u001b[0m \u001b[0;34m\u001b[0m\u001b[0m\n\u001b[1;32m     98\u001b[0m     Variable._execution_engine.run_backward(\n\u001b[0;32m---> 99\u001b[0;31m         variables, grad_variables, retain_graph)\n\u001b[0m\u001b[1;32m    100\u001b[0m \u001b[0;34m\u001b[0m\u001b[0m\n\u001b[1;32m    101\u001b[0m \u001b[0;34m\u001b[0m\u001b[0m\n",
      "\u001b[0;31mKeyboardInterrupt\u001b[0m: "
     ]
    }
   ],
   "source": [
    "def accuracy(images,labels):\n",
    "    #Forward pass only to get logits/ output\n",
    "    outputs = model(images)\n",
    "                \n",
    "                #Get predictions from the maximu value\n",
    "    _, predicted = torch.max(outputs.data, 1)\n",
    "                \n",
    "                #Total number of labels\n",
    "    total= labels.size(0)\n",
    "                \n",
    "                #Total correct predictions\n",
    "    correct=(predicted == labels.data).sum()\n",
    "            \n",
    "    return  100 * correct/ total\n",
    "\n",
    "from tqdm import trange\n",
    "\n",
    "for epoch in range(num_epochs):\n",
    "    t=trange(len(train_dl))\n",
    "    train_gen = iter(train_dl)\n",
    "    loss_m =[]\n",
    "    acc_m = []\n",
    "    for i in t:\n",
    "        #Load imgs as Variable\n",
    "        images,labels=next(train_gen)\n",
    "\n",
    "        images = Variable(images)\n",
    "        labels = Variable(labels)\n",
    "        \n",
    "        #Clear gradient w.r.t. parameters\n",
    "        optimizer.zero_grad()\n",
    "        \n",
    "        #Forward pass to get output/logits\n",
    "        outputs = model(images)\n",
    "        \n",
    "        #Calculate Loss: softmax - >cross entrophy loss\n",
    "        loss = criterion(outputs, labels)\n",
    "        \n",
    "        #Getting gradients w.r.t. parameters\n",
    "        loss.backward()\n",
    "        acc_ = accuracy(images,labels)\n",
    "        loss_m.append(loss.data[0])\n",
    "        acc_m.append(acc_)\n",
    "        #Updating parameters\n",
    "        optimizer.step()\n",
    "        \n",
    "        window=3\n",
    "        if i % window == window-1:\n",
    "            t.set_description(\"i%s loss:%.3f\\tacc:%.3f\"%(i,sum(loss_m)/window,sum(acc_m)/window))\n",
    "            loss_m,acc_m = [],[]\n",
    "            \n",
    "    acc=0\n",
    "            # Iterate through test dataset\n",
    "    for images, labels in valid_dl:\n",
    "                #Load images to a Torch Variable\n",
    "        images = Variable(images)\n",
    "        labels = Variable(labels)\n",
    "        acc += accuracy(images,labels)\n",
    "            \n",
    "    acc = acc/len(valid_dl)\n",
    "            #print Loss\n",
    "    print(\"Iteration:%.3f\\t Loss:%.3f\\t Acc:%.3f.\"%(i, loss.data[0], acc))\n",
    "            "
   ]
  },
  {
   "cell_type": "code",
   "execution_count": null,
   "metadata": {
    "collapsed": true
   },
   "outputs": [],
   "source": []
  },
  {
   "cell_type": "code",
   "execution_count": null,
   "metadata": {
    "collapsed": true
   },
   "outputs": [],
   "source": []
  },
  {
   "cell_type": "code",
   "execution_count": null,
   "metadata": {
    "collapsed": true
   },
   "outputs": [],
   "source": []
  },
  {
   "cell_type": "code",
   "execution_count": null,
   "metadata": {
    "collapsed": true
   },
   "outputs": [],
   "source": []
  },
  {
   "cell_type": "code",
   "execution_count": null,
   "metadata": {
    "collapsed": true
   },
   "outputs": [],
   "source": []
  },
  {
   "cell_type": "code",
   "execution_count": 5,
   "metadata": {
    "collapsed": true
   },
   "outputs": [],
   "source": [
    "cates = [\"w\",\"h\",\"non\",\"l\"]"
   ]
  },
  {
   "cell_type": "code",
   "execution_count": 11,
   "metadata": {},
   "outputs": [
    {
     "data": {
      "text/plain": [
       "{'h': 0, 'l': 1, 'non': 2, 'w': 3}"
      ]
     },
     "execution_count": 11,
     "metadata": {},
     "output_type": "execute_result"
    }
   ],
   "source": [
    "train_dataset.class_to_idx"
   ]
  },
  {
   "cell_type": "code",
   "execution_count": null,
   "metadata": {
    "collapsed": true
   },
   "outputs": [],
   "source": [
    "pics = glob(\"data/train/*/*\")\n",
    "\n",
    "pics\n",
    "\n",
    "for cate in cates:\n",
    "    os.system(\"mkdir -p data/valid/%s\"%(cate))\n",
    "\n",
    "to_valid=np.random.choice(pics,70).tolist()\n",
    "\n",
    "def replace_train(x):\n",
    "    return x.replace(\"train\",\"valid\")\n",
    "\n",
    "to_valid2=list(replace_train(url) for url in to_valid)"
   ]
  },
  {
   "cell_type": "code",
   "execution_count": null,
   "metadata": {
    "collapsed": true
   },
   "outputs": [],
   "source": []
  },
  {
   "cell_type": "code",
   "execution_count": null,
   "metadata": {
    "collapsed": true
   },
   "outputs": [],
   "source": []
  }
 ],
 "metadata": {
  "kernelspec": {
   "display_name": "Python 3",
   "language": "python",
   "name": "python3"
  },
  "language_info": {
   "codemirror_mode": {
    "name": "ipython",
    "version": 3
   },
   "file_extension": ".py",
   "mimetype": "text/x-python",
   "name": "python",
   "nbconvert_exporter": "python",
   "pygments_lexer": "ipython3",
   "version": "3.6.2"
  }
 },
 "nbformat": 4,
 "nbformat_minor": 2
}
