{
 "cells": [
  {
   "cell_type": "code",
   "execution_count": 1,
   "metadata": {},
   "outputs": [],
   "source": [
    "import os\n",
    "os.environ[\"CUDA_DEVICE_ORDER\"]=\"PCI_BUS_ID\"\n",
    "os.environ[\"CUDA_VISIBLE_DEVICES\"]=\"1\""
   ]
  },
  {
   "cell_type": "markdown",
   "metadata": {},
   "source": [
    "## Aligned_img"
   ]
  },
  {
   "cell_type": "code",
   "execution_count": null,
   "metadata": {},
   "outputs": [],
   "source": [
    "from img_filter import Align_img"
   ]
  },
  {
   "cell_type": "code",
   "execution_count": null,
   "metadata": {},
   "outputs": [],
   "source": [
    "align_img = Align_img()"
   ]
  },
  {
   "cell_type": "code",
   "execution_count": 4,
   "metadata": {},
   "outputs": [
    {
     "name": "stdout",
     "output_type": "stream",
     "text": [
      "Image aligned and saved to\n",
      "aligned_images/xc2_01.png\n",
      "Image aligned and saved to\n",
      "aligned_images/xc2_02.png\n"
     ]
    }
   ],
   "source": [
    "align_img.landmarksDetector('raw_images/xc2.jpg')"
   ]
  },
  {
   "cell_type": "code",
   "execution_count": null,
   "metadata": {},
   "outputs": [],
   "source": [
    "align_img.landmarksDetector('raw_images/redbean.png')"
   ]
  },
  {
   "cell_type": "markdown",
   "metadata": {},
   "source": [
    "## Img to lt"
   ]
  },
  {
   "cell_type": "code",
   "execution_count": 2,
   "metadata": {},
   "outputs": [
    {
     "name": "stderr",
     "output_type": "stream",
     "text": [
      "Using TensorFlow backend.\n"
     ]
    }
   ],
   "source": [
    "from img_to_lt import Latent_generator"
   ]
  },
  {
   "cell_type": "code",
   "execution_count": 3,
   "metadata": {},
   "outputs": [
    {
     "name": "stdout",
     "output_type": "stream",
     "text": [
      "Latent_generator is loaded\n"
     ]
    }
   ],
   "source": [
    "latent = Latent_generator()"
   ]
  },
  {
   "cell_type": "markdown",
   "metadata": {},
   "source": [
    "### effinet_model"
   ]
  },
  {
   "cell_type": "code",
   "execution_count": 4,
   "metadata": {},
   "outputs": [
    {
     "name": "stderr",
     "output_type": "stream",
     "text": [
      "\r",
      "  0%|          | 0/1 [00:00<?, ?it/s]"
     ]
    },
    {
     "name": "stdout",
     "output_type": "stream",
     "text": [
      "Loading effinet model and latent generating...\n",
      "['aligned_images/redbean_01.png']\n"
     ]
    },
    {
     "name": "stderr",
     "output_type": "stream",
     "text": [
      "\r",
      "100%|██████████| 1/1 [00:04<00:00,  4.86s/it]"
     ]
    },
    {
     "name": "stdout",
     "output_type": "stream",
     "text": [
      "dlatent: (1, 512)\n",
      "1x512 latent generated and save to\n",
      "lt/redbean_01.npy\n"
     ]
    },
    {
     "name": "stderr",
     "output_type": "stream",
     "text": [
      "\n"
     ]
    }
   ],
   "source": [
    "latent.prediction(src_img='aligned_images/redbean_01.png', dlatent_dir='lt',effinet_model_file='data/finetuned_effnet.h5',resnet_model_file=None) "
   ]
  },
  {
   "cell_type": "markdown",
   "metadata": {},
   "source": [
    "### resnet_model"
   ]
  },
  {
   "cell_type": "code",
   "execution_count": 4,
   "metadata": {},
   "outputs": [
    {
     "name": "stderr",
     "output_type": "stream",
     "text": [
      "\r",
      "  0%|          | 0/1 [00:00<?, ?it/s]"
     ]
    },
    {
     "name": "stdout",
     "output_type": "stream",
     "text": [
      "Loading resnet model and latent generating...\n"
     ]
    },
    {
     "name": "stderr",
     "output_type": "stream",
     "text": [
      "\r",
      "100%|██████████| 1/1 [00:02<00:00,  2.65s/it]"
     ]
    },
    {
     "name": "stdout",
     "output_type": "stream",
     "text": [
      "1x512 latent generated and save to\n",
      "lt/xc2_01.npy\n"
     ]
    },
    {
     "name": "stderr",
     "output_type": "stream",
     "text": [
      "\n"
     ]
    }
   ],
   "source": [
    "latent.prediction(src_img='aligned_images/xc2_01.png', dlatent_dir='lt',effinet_model_file=None,resnet_model_file='data/finetuned_resnet_0601_conv2d.h5') "
   ]
  },
  {
   "cell_type": "markdown",
   "metadata": {},
   "source": [
    "## lt Optimize"
   ]
  },
  {
   "cell_type": "code",
   "execution_count": 2,
   "metadata": {},
   "outputs": [
    {
     "name": "stderr",
     "output_type": "stream",
     "text": [
      "Using TensorFlow backend.\n"
     ]
    }
   ],
   "source": [
    "from lt_optimizer import Latent_optimizer"
   ]
  },
  {
   "cell_type": "code",
   "execution_count": 3,
   "metadata": {},
   "outputs": [
    {
     "name": "stdout",
     "output_type": "stream",
     "text": [
      "FFHQ_Latent_optimizer is loaded\n"
     ]
    }
   ],
   "source": [
    "optimizer = Latent_optimizer(pickle_file='cache/karras2019stylegan-ffhq-1024x1024.pkl')"
   ]
  },
  {
   "cell_type": "code",
   "execution_count": 4,
   "metadata": {},
   "outputs": [],
   "source": [
    "## it_flag =1 / ITERATIONS = 100, it_flag =2 / ITERATIONS = 200, it_flag =3 / ITERATIONS = 600, it_flag =4 / ITERATIONS = 1200"
   ]
  },
  {
   "cell_type": "code",
   "execution_count": 5,
   "metadata": {},
   "outputs": [],
   "source": [
    "#optimizer.multi_style_loss('lt/hailey_01.npy','aligned_images/hailey_01.png','lt_update', it_flag=2)"
   ]
  },
  {
   "cell_type": "code",
   "execution_count": 6,
   "metadata": {},
   "outputs": [
    {
     "name": "stdout",
     "output_type": "stream",
     "text": [
      "Flag number is wrong, the iteration set to 200\n",
      "Using discriminator loss...\n"
     ]
    },
    {
     "name": "stderr",
     "output_type": "stream",
     "text": [
      "  0%|          | 0/1 [00:00<?, ?it/s]\n",
      "  0%|          | 0/200 [00:00<?, ?it/s]\u001b[A\n",
      "hailey_01: loss 0.2891; l2_loss 0.3693; lr 0.0050:   0%|          | 0/200 [00:03<?, ?it/s]\u001b[A\n",
      "hailey_01: loss 0.2891; l2_loss 0.3693; lr 0.0050:   0%|          | 1/200 [00:03<13:07,  3.96s/it]\u001b[A\n",
      "hailey_01: loss 0.2873; l2_loss 0.3625; lr 0.0050:   0%|          | 1/200 [00:04<13:07,  3.96s/it]\u001b[A\n",
      "hailey_01: loss 0.2873; l2_loss 0.3625; lr 0.0050:   1%|          | 2/200 [00:04<09:19,  2.83s/it]\u001b[A"
     ]
    },
    {
     "name": "stdout",
     "output_type": "stream",
     "text": [
      "hailey_01  Loss 0.2891\n",
      "hailey_01  Loss 0.2873\n"
     ]
    },
    {
     "name": "stderr",
     "output_type": "stream",
     "text": [
      "\n",
      "hailey_01: loss 0.2828; l2_loss 0.3479; lr 0.0050:   1%|          | 2/200 [00:04<09:19,  2.83s/it]\u001b[A\n",
      "hailey_01: loss 0.2828; l2_loss 0.3479; lr 0.0050:   2%|▏         | 3/200 [00:04<06:40,  2.03s/it]\u001b[A\n",
      "hailey_01: loss 0.2765; l2_loss 0.3309; lr 0.0050:   2%|▏         | 3/200 [00:04<06:40,  2.03s/it]\u001b[A\n",
      "hailey_01: loss 0.2765; l2_loss 0.3309; lr 0.0050:   2%|▏         | 4/200 [00:04<04:50,  1.48s/it]\u001b[A"
     ]
    },
    {
     "name": "stdout",
     "output_type": "stream",
     "text": [
      "hailey_01  Loss 0.2828\n",
      "hailey_01  Loss 0.2765\n"
     ]
    },
    {
     "name": "stderr",
     "output_type": "stream",
     "text": [
      "\n",
      "hailey_01: loss 0.2695; l2_loss 0.3129; lr 0.0050:   2%|▏         | 4/200 [00:04<04:50,  1.48s/it]\u001b[A\n",
      "hailey_01: loss 0.2695; l2_loss 0.3129; lr 0.0050:   2%|▎         | 5/200 [00:04<03:32,  1.09s/it]\u001b[A\n",
      "hailey_01: loss 0.2616; l2_loss 0.2948; lr 0.0050:   2%|▎         | 5/200 [00:04<03:32,  1.09s/it]\u001b[A\n",
      "hailey_01: loss 0.2616; l2_loss 0.2948; lr 0.0050:   3%|▎         | 6/200 [00:04<02:38,  1.22it/s]\u001b[A"
     ]
    },
    {
     "name": "stdout",
     "output_type": "stream",
     "text": [
      "hailey_01  Loss 0.2695\n",
      "hailey_01  Loss 0.2616\n"
     ]
    },
    {
     "name": "stderr",
     "output_type": "stream",
     "text": [
      "\n",
      "hailey_01: loss 0.2538; l2_loss 0.2771; lr 0.0050:   3%|▎         | 6/200 [00:05<02:38,  1.22it/s]\u001b[A\n",
      "hailey_01: loss 0.2538; l2_loss 0.2771; lr 0.0050:   4%|▎         | 7/200 [00:05<02:01,  1.59it/s]\u001b[A\n",
      "hailey_01: loss 0.2463; l2_loss 0.2593; lr 0.0050:   4%|▎         | 7/200 [00:05<02:01,  1.59it/s]\u001b[A\n",
      "hailey_01: loss 0.2463; l2_loss 0.2593; lr 0.0050:   4%|▍         | 8/200 [00:05<01:35,  2.01it/s]\u001b[A"
     ]
    },
    {
     "name": "stdout",
     "output_type": "stream",
     "text": [
      "hailey_01  Loss 0.2538\n",
      "hailey_01  Loss 0.2463\n"
     ]
    },
    {
     "name": "stderr",
     "output_type": "stream",
     "text": [
      "\n",
      "hailey_01: loss 0.2389; l2_loss 0.2423; lr 0.0050:   4%|▍         | 8/200 [00:05<01:35,  2.01it/s]\u001b[A\n",
      "hailey_01: loss 0.2389; l2_loss 0.2423; lr 0.0050:   4%|▍         | 9/200 [00:05<01:17,  2.48it/s]\u001b[A\n",
      "hailey_01: loss 0.2311; l2_loss 0.2260; lr 0.0050:   4%|▍         | 9/200 [00:05<01:17,  2.48it/s]\u001b[A\n",
      "hailey_01: loss 0.2311; l2_loss 0.2260; lr 0.0050:   5%|▌         | 10/200 [00:05<01:04,  2.94it/s]\u001b[A"
     ]
    },
    {
     "name": "stdout",
     "output_type": "stream",
     "text": [
      "hailey_01  Loss 0.2389\n",
      "hailey_01  Loss 0.2311\n"
     ]
    },
    {
     "name": "stderr",
     "output_type": "stream",
     "text": [
      "\n",
      "hailey_01: loss 0.2241; l2_loss 0.2105; lr 0.0050:   5%|▌         | 10/200 [00:05<01:04,  2.94it/s]\u001b[A\n",
      "hailey_01: loss 0.2241; l2_loss 0.2105; lr 0.0050:   6%|▌         | 11/200 [00:05<00:55,  3.41it/s]\u001b[A\n",
      "hailey_01: loss 0.2176; l2_loss 0.1957; lr 0.0050:   6%|▌         | 11/200 [00:05<00:55,  3.41it/s]\u001b[A\n",
      "hailey_01: loss 0.2176; l2_loss 0.1957; lr 0.0050:   6%|▌         | 12/200 [00:06<00:48,  3.85it/s]\u001b[A"
     ]
    },
    {
     "name": "stdout",
     "output_type": "stream",
     "text": [
      "hailey_01  Loss 0.2241\n",
      "hailey_01  Loss 0.2176\n"
     ]
    },
    {
     "name": "stderr",
     "output_type": "stream",
     "text": [
      "\n",
      "hailey_01: loss 0.2112; l2_loss 0.1820; lr 0.0050:   6%|▌         | 12/200 [00:06<00:48,  3.85it/s]\u001b[A\n",
      "hailey_01: loss 0.2112; l2_loss 0.1820; lr 0.0050:   6%|▋         | 13/200 [00:06<00:44,  4.22it/s]\u001b[A\n",
      "hailey_01: loss 0.2054; l2_loss 0.1695; lr 0.0050:   6%|▋         | 13/200 [00:06<00:44,  4.22it/s]\u001b[A\n",
      "hailey_01: loss 0.2054; l2_loss 0.1695; lr 0.0050:   7%|▋         | 14/200 [00:06<00:40,  4.55it/s]\u001b[A"
     ]
    },
    {
     "name": "stdout",
     "output_type": "stream",
     "text": [
      "hailey_01  Loss 0.2112\n",
      "hailey_01  Loss 0.2054\n"
     ]
    },
    {
     "name": "stderr",
     "output_type": "stream",
     "text": [
      "\n",
      "hailey_01: loss 0.2003; l2_loss 0.1590; lr 0.0050:   7%|▋         | 14/200 [00:06<00:40,  4.55it/s]\u001b[A\n",
      "hailey_01: loss 0.2003; l2_loss 0.1590; lr 0.0050:   8%|▊         | 15/200 [00:06<00:38,  4.80it/s]\u001b[A\n",
      "hailey_01: loss 0.1959; l2_loss 0.1510; lr 0.0050:   8%|▊         | 15/200 [00:06<00:38,  4.80it/s]\u001b[A\n",
      "hailey_01: loss 0.1959; l2_loss 0.1510; lr 0.0050:   8%|▊         | 16/200 [00:06<00:36,  5.00it/s]\u001b[A"
     ]
    },
    {
     "name": "stdout",
     "output_type": "stream",
     "text": [
      "hailey_01  Loss 0.2003\n",
      "hailey_01  Loss 0.1959\n"
     ]
    },
    {
     "name": "stderr",
     "output_type": "stream",
     "text": [
      "\n",
      "hailey_01: loss 0.1917; l2_loss 0.1428; lr 0.0050:   8%|▊         | 16/200 [00:06<00:36,  5.00it/s]\u001b[A\n",
      "hailey_01: loss 0.1917; l2_loss 0.1428; lr 0.0050:   8%|▊         | 17/200 [00:06<00:35,  5.13it/s]\u001b[A\n",
      "hailey_01: loss 0.1870; l2_loss 0.1349; lr 0.0050:   8%|▊         | 17/200 [00:07<00:35,  5.13it/s]\u001b[A\n",
      "hailey_01: loss 0.1870; l2_loss 0.1349; lr 0.0050:   9%|▉         | 18/200 [00:07<00:34,  5.22it/s]\u001b[A"
     ]
    },
    {
     "name": "stdout",
     "output_type": "stream",
     "text": [
      "hailey_01  Loss 0.1917\n",
      "hailey_01  Loss 0.1870\n"
     ]
    },
    {
     "name": "stderr",
     "output_type": "stream",
     "text": [
      "\n",
      "hailey_01: loss 0.1839; l2_loss 0.1290; lr 0.0050:   9%|▉         | 18/200 [00:07<00:34,  5.22it/s]\u001b[A\n",
      "hailey_01: loss 0.1839; l2_loss 0.1290; lr 0.0050:  10%|▉         | 19/200 [00:07<00:34,  5.31it/s]\u001b[A\n",
      "hailey_01: loss 0.1803; l2_loss 0.1243; lr 0.0050:  10%|▉         | 19/200 [00:07<00:34,  5.31it/s]\u001b[A\n",
      "hailey_01: loss 0.1803; l2_loss 0.1243; lr 0.0050:  10%|█         | 20/200 [00:07<00:34,  5.27it/s]\u001b[A"
     ]
    },
    {
     "name": "stdout",
     "output_type": "stream",
     "text": [
      "hailey_01  Loss 0.1839\n",
      "hailey_01  Loss 0.1803\n"
     ]
    },
    {
     "name": "stderr",
     "output_type": "stream",
     "text": [
      "\n",
      "hailey_01: loss 0.1774; l2_loss 0.1203; lr 0.0050:  10%|█         | 20/200 [00:07<00:34,  5.27it/s]\u001b[A\n",
      "hailey_01: loss 0.1774; l2_loss 0.1203; lr 0.0050:  10%|█         | 21/200 [00:07<00:33,  5.34it/s]\u001b[A\n",
      "hailey_01: loss 0.1744; l2_loss 0.1164; lr 0.0050:  10%|█         | 21/200 [00:07<00:33,  5.34it/s]\u001b[A\n",
      "hailey_01: loss 0.1744; l2_loss 0.1164; lr 0.0050:  11%|█         | 22/200 [00:07<00:33,  5.39it/s]\u001b[A"
     ]
    },
    {
     "name": "stdout",
     "output_type": "stream",
     "text": [
      "hailey_01  Loss 0.1774\n",
      "hailey_01  Loss 0.1744\n"
     ]
    },
    {
     "name": "stderr",
     "output_type": "stream",
     "text": [
      "\n",
      "hailey_01: loss 0.1716; l2_loss 0.1129; lr 0.0050:  11%|█         | 22/200 [00:08<00:33,  5.39it/s]\u001b[A\n",
      "hailey_01: loss 0.1716; l2_loss 0.1129; lr 0.0050:  12%|█▏        | 23/200 [00:08<00:32,  5.40it/s]\u001b[A\n",
      "hailey_01: loss 0.1686; l2_loss 0.1096; lr 0.0050:  12%|█▏        | 23/200 [00:08<00:32,  5.40it/s]\u001b[A\n",
      "hailey_01: loss 0.1686; l2_loss 0.1096; lr 0.0050:  12%|█▏        | 24/200 [00:08<00:32,  5.41it/s]\u001b[A"
     ]
    },
    {
     "name": "stdout",
     "output_type": "stream",
     "text": [
      "hailey_01  Loss 0.1716\n",
      "hailey_01  Loss 0.1686\n"
     ]
    },
    {
     "name": "stderr",
     "output_type": "stream",
     "text": [
      "\n",
      "hailey_01: loss 0.1658; l2_loss 0.1063; lr 0.0050:  12%|█▏        | 24/200 [00:08<00:32,  5.41it/s]\u001b[A\n",
      "hailey_01: loss 0.1658; l2_loss 0.1063; lr 0.0050:  12%|█▎        | 25/200 [00:08<00:32,  5.42it/s]\u001b[A\n",
      "hailey_01: loss 0.1628; l2_loss 0.1032; lr 0.0050:  12%|█▎        | 25/200 [00:08<00:32,  5.42it/s]\u001b[A\n",
      "hailey_01: loss 0.1628; l2_loss 0.1032; lr 0.0050:  13%|█▎        | 26/200 [00:08<00:31,  5.45it/s]\u001b[A"
     ]
    },
    {
     "name": "stdout",
     "output_type": "stream",
     "text": [
      "hailey_01  Loss 0.1658\n",
      "hailey_01  Loss 0.1628\n"
     ]
    },
    {
     "name": "stderr",
     "output_type": "stream",
     "text": [
      "\n",
      "hailey_01: loss 0.1592; l2_loss 0.1001; lr 0.0050:  13%|█▎        | 26/200 [00:08<00:31,  5.45it/s]\u001b[A\n",
      "hailey_01: loss 0.1592; l2_loss 0.1001; lr 0.0050:  14%|█▎        | 27/200 [00:08<00:31,  5.47it/s]\u001b[A\n",
      "hailey_01: loss 0.1562; l2_loss 0.0973; lr 0.0050:  14%|█▎        | 27/200 [00:08<00:31,  5.47it/s]\u001b[A\n",
      "hailey_01: loss 0.1562; l2_loss 0.0973; lr 0.0050:  14%|█▍        | 28/200 [00:08<00:31,  5.40it/s]\u001b[A"
     ]
    },
    {
     "name": "stdout",
     "output_type": "stream",
     "text": [
      "hailey_01  Loss 0.1592\n",
      "hailey_01  Loss 0.1562\n"
     ]
    },
    {
     "name": "stderr",
     "output_type": "stream",
     "text": [
      "\n",
      "hailey_01: loss 0.1529; l2_loss 0.0945; lr 0.0050:  14%|█▍        | 28/200 [00:09<00:31,  5.40it/s]\u001b[A\n",
      "hailey_01: loss 0.1529; l2_loss 0.0945; lr 0.0050:  14%|█▍        | 29/200 [00:09<00:31,  5.41it/s]\u001b[A\n",
      "hailey_01: loss 0.1497; l2_loss 0.0915; lr 0.0050:  14%|█▍        | 29/200 [00:09<00:31,  5.41it/s]\u001b[A\n",
      "hailey_01: loss 0.1497; l2_loss 0.0915; lr 0.0050:  15%|█▌        | 30/200 [00:09<00:31,  5.40it/s]\u001b[A"
     ]
    },
    {
     "name": "stdout",
     "output_type": "stream",
     "text": [
      "hailey_01  Loss 0.1529\n",
      "hailey_01  Loss 0.1497\n"
     ]
    },
    {
     "name": "stderr",
     "output_type": "stream",
     "text": [
      "\n",
      "hailey_01: loss 0.1465; l2_loss 0.0885; lr 0.0050:  15%|█▌        | 30/200 [00:09<00:31,  5.40it/s]\u001b[A\n",
      "hailey_01: loss 0.1465; l2_loss 0.0885; lr 0.0050:  16%|█▌        | 31/200 [00:09<00:31,  5.43it/s]\u001b[A\n",
      "hailey_01: loss 0.1433; l2_loss 0.0853; lr 0.0050:  16%|█▌        | 31/200 [00:09<00:31,  5.43it/s]\u001b[A\n",
      "hailey_01: loss 0.1433; l2_loss 0.0853; lr 0.0050:  16%|█▌        | 32/200 [00:09<00:31,  5.41it/s]\u001b[A"
     ]
    },
    {
     "name": "stdout",
     "output_type": "stream",
     "text": [
      "hailey_01  Loss 0.1465\n",
      "hailey_01  Loss 0.1433\n"
     ]
    },
    {
     "name": "stderr",
     "output_type": "stream",
     "text": [
      "\n",
      "hailey_01: loss 0.1399; l2_loss 0.0820; lr 0.0050:  16%|█▌        | 32/200 [00:09<00:31,  5.41it/s]\u001b[A\n",
      "hailey_01: loss 0.1399; l2_loss 0.0820; lr 0.0050:  16%|█▋        | 33/200 [00:09<00:31,  5.36it/s]\u001b[A\n",
      "hailey_01: loss 0.1366; l2_loss 0.0789; lr 0.0050:  16%|█▋        | 33/200 [00:10<00:31,  5.36it/s]\u001b[A\n",
      "hailey_01: loss 0.1366; l2_loss 0.0789; lr 0.0050:  17%|█▋        | 34/200 [00:10<00:30,  5.38it/s]\u001b[A"
     ]
    },
    {
     "name": "stdout",
     "output_type": "stream",
     "text": [
      "hailey_01  Loss 0.1399\n",
      "hailey_01  Loss 0.1366\n"
     ]
    },
    {
     "name": "stderr",
     "output_type": "stream",
     "text": [
      "\n",
      "hailey_01: loss 0.1337; l2_loss 0.0762; lr 0.0050:  17%|█▋        | 34/200 [00:10<00:30,  5.38it/s]\u001b[A\n",
      "hailey_01: loss 0.1337; l2_loss 0.0762; lr 0.0050:  18%|█▊        | 35/200 [00:10<00:30,  5.37it/s]\u001b[A\n",
      "hailey_01: loss 0.1320; l2_loss 0.0760; lr 0.0050:  18%|█▊        | 35/200 [00:10<00:30,  5.37it/s]\u001b[A\n",
      "hailey_01: loss 0.1320; l2_loss 0.0760; lr 0.0050:  18%|█▊        | 36/200 [00:10<00:30,  5.40it/s]\u001b[A"
     ]
    },
    {
     "name": "stdout",
     "output_type": "stream",
     "text": [
      "hailey_01  Loss 0.1337\n",
      "hailey_01  Loss 0.1320\n"
     ]
    },
    {
     "name": "stderr",
     "output_type": "stream",
     "text": [
      "\n",
      "hailey_01: loss 0.1283; l2_loss 0.0740; lr 0.0050:  18%|█▊        | 36/200 [00:10<00:30,  5.40it/s]\u001b[A\n",
      "hailey_01: loss 0.1283; l2_loss 0.0740; lr 0.0050:  18%|█▊        | 37/200 [00:10<00:30,  5.39it/s]\u001b[A\n",
      "hailey_01: loss 0.1256; l2_loss 0.0728; lr 0.0050:  18%|█▊        | 37/200 [00:10<00:30,  5.39it/s]\u001b[A\n",
      "hailey_01: loss 0.1256; l2_loss 0.0728; lr 0.0050:  19%|█▉        | 38/200 [00:10<00:30,  5.37it/s]\u001b[A"
     ]
    },
    {
     "name": "stdout",
     "output_type": "stream",
     "text": [
      "hailey_01  Loss 0.1283\n",
      "hailey_01  Loss 0.1256\n"
     ]
    },
    {
     "name": "stderr",
     "output_type": "stream",
     "text": [
      "\n",
      "hailey_01: loss 0.1228; l2_loss 0.0734; lr 0.0050:  19%|█▉        | 38/200 [00:10<00:30,  5.37it/s]\u001b[A\n",
      "hailey_01: loss 0.1228; l2_loss 0.0734; lr 0.0050:  20%|█▉        | 39/200 [00:10<00:29,  5.40it/s]\u001b[A\n",
      "hailey_01: loss 0.1193; l2_loss 0.0755; lr 0.0050:  20%|█▉        | 39/200 [00:11<00:29,  5.40it/s]\u001b[A\n",
      "hailey_01: loss 0.1193; l2_loss 0.0755; lr 0.0050:  20%|██        | 40/200 [00:11<00:29,  5.41it/s]\u001b[A"
     ]
    },
    {
     "name": "stdout",
     "output_type": "stream",
     "text": [
      "hailey_01  Loss 0.1228\n",
      "hailey_01  Loss 0.1193\n"
     ]
    },
    {
     "name": "stderr",
     "output_type": "stream",
     "text": [
      "\n",
      "hailey_01: loss 0.1187; l2_loss 0.0771; lr 0.0050:  20%|██        | 40/200 [00:11<00:29,  5.41it/s]\u001b[A\n",
      "hailey_01: loss 0.1187; l2_loss 0.0771; lr 0.0050:  20%|██        | 41/200 [00:11<00:29,  5.43it/s]\u001b[A\n",
      "hailey_01: loss 0.1184; l2_loss 0.0792; lr 0.0050:  20%|██        | 41/200 [00:11<00:29,  5.43it/s]\u001b[A\n",
      "hailey_01: loss 0.1184; l2_loss 0.0792; lr 0.0050:  21%|██        | 42/200 [00:11<00:29,  5.42it/s]\u001b[A"
     ]
    },
    {
     "name": "stdout",
     "output_type": "stream",
     "text": [
      "hailey_01  Loss 0.1187\n",
      "hailey_01  Loss 0.1184\n"
     ]
    },
    {
     "name": "stderr",
     "output_type": "stream",
     "text": [
      "\n",
      "hailey_01: loss 0.1165; l2_loss 0.0780; lr 0.0050:  21%|██        | 42/200 [00:11<00:29,  5.42it/s]\u001b[A\n",
      "hailey_01: loss 0.1165; l2_loss 0.0780; lr 0.0050:  22%|██▏       | 43/200 [00:11<00:29,  5.37it/s]\u001b[A\n",
      "hailey_01: loss 0.1139; l2_loss 0.0761; lr 0.0050:  22%|██▏       | 43/200 [00:11<00:29,  5.37it/s]\u001b[A\n",
      "hailey_01: loss 0.1139; l2_loss 0.0761; lr 0.0050:  22%|██▏       | 44/200 [00:11<00:28,  5.39it/s]\u001b[A"
     ]
    },
    {
     "name": "stdout",
     "output_type": "stream",
     "text": [
      "hailey_01  Loss 0.1165\n",
      "hailey_01  Loss 0.1139\n"
     ]
    },
    {
     "name": "stderr",
     "output_type": "stream",
     "text": [
      "\n",
      "hailey_01: loss 0.1110; l2_loss 0.0741; lr 0.0050:  22%|██▏       | 44/200 [00:12<00:28,  5.39it/s]\u001b[A\n",
      "hailey_01: loss 0.1110; l2_loss 0.0741; lr 0.0050:  22%|██▎       | 45/200 [00:12<00:28,  5.41it/s]\u001b[A\n",
      "hailey_01: loss 0.1086; l2_loss 0.0728; lr 0.0050:  22%|██▎       | 45/200 [00:12<00:28,  5.41it/s]\u001b[A\n",
      "hailey_01: loss 0.1086; l2_loss 0.0728; lr 0.0050:  23%|██▎       | 46/200 [00:12<00:28,  5.44it/s]\u001b[A"
     ]
    },
    {
     "name": "stdout",
     "output_type": "stream",
     "text": [
      "hailey_01  Loss 0.1110\n",
      "hailey_01  Loss 0.1086\n"
     ]
    },
    {
     "name": "stderr",
     "output_type": "stream",
     "text": [
      "\n",
      "hailey_01: loss 0.1062; l2_loss 0.0721; lr 0.0050:  23%|██▎       | 46/200 [00:12<00:28,  5.44it/s]\u001b[A\n",
      "hailey_01: loss 0.1062; l2_loss 0.0721; lr 0.0050:  24%|██▎       | 47/200 [00:12<00:28,  5.42it/s]\u001b[A\n",
      "hailey_01: loss 0.1041; l2_loss 0.0720; lr 0.0050:  24%|██▎       | 47/200 [00:12<00:28,  5.42it/s]\u001b[A\n",
      "hailey_01: loss 0.1041; l2_loss 0.0720; lr 0.0050:  24%|██▍       | 48/200 [00:12<00:28,  5.42it/s]\u001b[A"
     ]
    },
    {
     "name": "stdout",
     "output_type": "stream",
     "text": [
      "hailey_01  Loss 0.1062\n",
      "hailey_01  Loss 0.1041\n"
     ]
    },
    {
     "name": "stderr",
     "output_type": "stream",
     "text": [
      "\n",
      "hailey_01: loss 0.1026; l2_loss 0.0718; lr 0.0050:  24%|██▍       | 48/200 [00:12<00:28,  5.42it/s]\u001b[A\n",
      "hailey_01: loss 0.1026; l2_loss 0.0718; lr 0.0050:  24%|██▍       | 49/200 [00:12<00:27,  5.41it/s]\u001b[A\n",
      "hailey_01: loss 0.1007; l2_loss 0.0701; lr 0.0050:  24%|██▍       | 49/200 [00:13<00:27,  5.41it/s]\u001b[A\n",
      "hailey_01: loss 0.1007; l2_loss 0.0701; lr 0.0050:  25%|██▌       | 50/200 [00:13<00:27,  5.43it/s]\u001b[A"
     ]
    },
    {
     "name": "stdout",
     "output_type": "stream",
     "text": [
      "hailey_01  Loss 0.1026\n",
      "hailey_01  Loss 0.1007\n"
     ]
    },
    {
     "name": "stderr",
     "output_type": "stream",
     "text": [
      "\n",
      "hailey_01: loss 0.0977; l2_loss 0.0659; lr 0.0050:  25%|██▌       | 50/200 [00:13<00:27,  5.43it/s]\u001b[A\n",
      "hailey_01: loss 0.0977; l2_loss 0.0659; lr 0.0050:  26%|██▌       | 51/200 [00:13<00:27,  5.46it/s]\u001b[A\n",
      "hailey_01: loss 0.0950; l2_loss 0.0625; lr 0.0050:  26%|██▌       | 51/200 [00:13<00:27,  5.46it/s]\u001b[A\n",
      "hailey_01: loss 0.0950; l2_loss 0.0625; lr 0.0050:  26%|██▌       | 52/200 [00:13<00:27,  5.44it/s]\u001b[A"
     ]
    },
    {
     "name": "stdout",
     "output_type": "stream",
     "text": [
      "hailey_01  Loss 0.0977\n",
      "hailey_01  Loss 0.0950\n"
     ]
    },
    {
     "name": "stderr",
     "output_type": "stream",
     "text": [
      "\n",
      "hailey_01: loss 0.0939; l2_loss 0.0619; lr 0.0050:  26%|██▌       | 52/200 [00:13<00:27,  5.44it/s]\u001b[A\n",
      "hailey_01: loss 0.0939; l2_loss 0.0619; lr 0.0050:  26%|██▋       | 53/200 [00:13<00:27,  5.44it/s]\u001b[A\n",
      "hailey_01: loss 0.0934; l2_loss 0.0621; lr 0.0050:  26%|██▋       | 53/200 [00:13<00:27,  5.44it/s]\u001b[A\n",
      "hailey_01: loss 0.0934; l2_loss 0.0621; lr 0.0050:  27%|██▋       | 54/200 [00:13<00:26,  5.45it/s]\u001b[A"
     ]
    },
    {
     "name": "stdout",
     "output_type": "stream",
     "text": [
      "hailey_01  Loss 0.0939\n",
      "hailey_01  Loss 0.0934\n"
     ]
    },
    {
     "name": "stderr",
     "output_type": "stream",
     "text": [
      "\n",
      "hailey_01: loss 0.0929; l2_loss 0.0621; lr 0.0050:  27%|██▋       | 54/200 [00:13<00:26,  5.45it/s]\u001b[A\n",
      "hailey_01: loss 0.0929; l2_loss 0.0621; lr 0.0050:  28%|██▊       | 55/200 [00:13<00:26,  5.46it/s]\u001b[A\n",
      "hailey_01: loss 0.0920; l2_loss 0.0615; lr 0.0050:  28%|██▊       | 55/200 [00:14<00:26,  5.46it/s]\u001b[A\n",
      "hailey_01: loss 0.0920; l2_loss 0.0615; lr 0.0050:  28%|██▊       | 56/200 [00:14<00:26,  5.46it/s]\u001b[A"
     ]
    },
    {
     "name": "stdout",
     "output_type": "stream",
     "text": [
      "hailey_01  Loss 0.0929\n",
      "hailey_01  Loss 0.0920\n"
     ]
    },
    {
     "name": "stderr",
     "output_type": "stream",
     "text": [
      "\n",
      "hailey_01: loss 0.0909; l2_loss 0.0605; lr 0.0050:  28%|██▊       | 56/200 [00:14<00:26,  5.46it/s]\u001b[A\n",
      "hailey_01: loss 0.0909; l2_loss 0.0605; lr 0.0050:  28%|██▊       | 57/200 [00:14<00:26,  5.44it/s]\u001b[A\n",
      "hailey_01: loss 0.0899; l2_loss 0.0593; lr 0.0050:  28%|██▊       | 57/200 [00:14<00:26,  5.44it/s]\u001b[A\n",
      "hailey_01: loss 0.0899; l2_loss 0.0593; lr 0.0050:  29%|██▉       | 58/200 [00:14<00:25,  5.47it/s]\u001b[A"
     ]
    },
    {
     "name": "stdout",
     "output_type": "stream",
     "text": [
      "hailey_01  Loss 0.0909\n",
      "hailey_01  Loss 0.0899\n"
     ]
    },
    {
     "name": "stderr",
     "output_type": "stream",
     "text": [
      "\n",
      "hailey_01: loss 0.0891; l2_loss 0.0585; lr 0.0050:  29%|██▉       | 58/200 [00:14<00:25,  5.47it/s]\u001b[A\n",
      "hailey_01: loss 0.0891; l2_loss 0.0585; lr 0.0050:  30%|██▉       | 59/200 [00:14<00:25,  5.44it/s]\u001b[A\n",
      "hailey_01: loss 0.0887; l2_loss 0.0579; lr 0.0050:  30%|██▉       | 59/200 [00:14<00:25,  5.44it/s]\u001b[A\n",
      "hailey_01: loss 0.0887; l2_loss 0.0579; lr 0.0050:  30%|███       | 60/200 [00:14<00:25,  5.43it/s]\u001b[A"
     ]
    },
    {
     "name": "stdout",
     "output_type": "stream",
     "text": [
      "hailey_01  Loss 0.0891\n",
      "hailey_01  Loss 0.0887\n"
     ]
    },
    {
     "name": "stderr",
     "output_type": "stream",
     "text": [
      "\n",
      "hailey_01: loss 0.0882; l2_loss 0.0576; lr 0.0050:  30%|███       | 60/200 [00:15<00:25,  5.43it/s]\u001b[A\n",
      "hailey_01: loss 0.0882; l2_loss 0.0576; lr 0.0050:  30%|███       | 61/200 [00:15<00:25,  5.46it/s]\u001b[A\n",
      "hailey_01: loss 0.0877; l2_loss 0.0573; lr 0.0050:  30%|███       | 61/200 [00:15<00:25,  5.46it/s]\u001b[A\n",
      "hailey_01: loss 0.0877; l2_loss 0.0573; lr 0.0050:  31%|███       | 62/200 [00:15<00:25,  5.45it/s]\u001b[A"
     ]
    },
    {
     "name": "stdout",
     "output_type": "stream",
     "text": [
      "hailey_01  Loss 0.0882\n",
      "hailey_01  Loss 0.0877\n"
     ]
    },
    {
     "name": "stderr",
     "output_type": "stream",
     "text": [
      "\n",
      "hailey_01: loss 0.0871; l2_loss 0.0569; lr 0.0050:  31%|███       | 62/200 [00:15<00:25,  5.45it/s]\u001b[A\n",
      "hailey_01: loss 0.0871; l2_loss 0.0569; lr 0.0050:  32%|███▏      | 63/200 [00:15<00:25,  5.41it/s]\u001b[A\n",
      "hailey_01: loss 0.0863; l2_loss 0.0566; lr 0.0050:  32%|███▏      | 63/200 [00:15<00:25,  5.41it/s]\u001b[A\n",
      "hailey_01: loss 0.0863; l2_loss 0.0566; lr 0.0050:  32%|███▏      | 64/200 [00:15<00:25,  5.40it/s]\u001b[A"
     ]
    },
    {
     "name": "stdout",
     "output_type": "stream",
     "text": [
      "hailey_01  Loss 0.0871\n",
      "hailey_01  Loss 0.0863\n"
     ]
    },
    {
     "name": "stderr",
     "output_type": "stream",
     "text": [
      "\n",
      "hailey_01: loss 0.0856; l2_loss 0.0563; lr 0.0050:  32%|███▏      | 64/200 [00:15<00:25,  5.40it/s]\u001b[A\n",
      "hailey_01: loss 0.0856; l2_loss 0.0563; lr 0.0050:  32%|███▎      | 65/200 [00:15<00:24,  5.43it/s]\u001b[A\n",
      "hailey_01: loss 0.0852; l2_loss 0.0561; lr 0.0050:  32%|███▎      | 65/200 [00:15<00:24,  5.43it/s]\u001b[A\n",
      "hailey_01: loss 0.0852; l2_loss 0.0561; lr 0.0050:  33%|███▎      | 66/200 [00:15<00:24,  5.45it/s]\u001b[A"
     ]
    },
    {
     "name": "stdout",
     "output_type": "stream",
     "text": [
      "hailey_01  Loss 0.0856\n",
      "hailey_01  Loss 0.0852\n"
     ]
    },
    {
     "name": "stderr",
     "output_type": "stream",
     "text": [
      "\n",
      "hailey_01: loss 0.0846; l2_loss 0.0555; lr 0.0050:  33%|███▎      | 66/200 [00:16<00:24,  5.45it/s]\u001b[A\n",
      "hailey_01: loss 0.0846; l2_loss 0.0555; lr 0.0050:  34%|███▎      | 67/200 [00:16<00:24,  5.45it/s]\u001b[A\n",
      "hailey_01: loss 0.0837; l2_loss 0.0546; lr 0.0050:  34%|███▎      | 67/200 [00:16<00:24,  5.45it/s]\u001b[A\n",
      "hailey_01: loss 0.0837; l2_loss 0.0546; lr 0.0050:  34%|███▍      | 68/200 [00:16<00:24,  5.47it/s]\u001b[A"
     ]
    },
    {
     "name": "stdout",
     "output_type": "stream",
     "text": [
      "hailey_01  Loss 0.0846\n",
      "hailey_01  Loss 0.0837\n"
     ]
    },
    {
     "name": "stderr",
     "output_type": "stream",
     "text": [
      "\n",
      "hailey_01: loss 0.0830; l2_loss 0.0539; lr 0.0050:  34%|███▍      | 68/200 [00:16<00:24,  5.47it/s]\u001b[A\n",
      "hailey_01: loss 0.0830; l2_loss 0.0539; lr 0.0050:  34%|███▍      | 69/200 [00:16<00:23,  5.46it/s]\u001b[A\n",
      "hailey_01: loss 0.0824; l2_loss 0.0535; lr 0.0033:  34%|███▍      | 69/200 [00:16<00:23,  5.46it/s]\u001b[A\n",
      "hailey_01: loss 0.0824; l2_loss 0.0535; lr 0.0033:  35%|███▌      | 70/200 [00:16<00:23,  5.46it/s]\u001b[A"
     ]
    },
    {
     "name": "stdout",
     "output_type": "stream",
     "text": [
      "hailey_01  Loss 0.0830\n",
      "hailey_01  Loss 0.0824\n"
     ]
    },
    {
     "name": "stderr",
     "output_type": "stream",
     "text": [
      "\n",
      "hailey_01: loss 0.0821; l2_loss 0.0533; lr 0.0033:  35%|███▌      | 70/200 [00:16<00:23,  5.46it/s]\u001b[A\n",
      "hailey_01: loss 0.0821; l2_loss 0.0533; lr 0.0033:  36%|███▌      | 71/200 [00:16<00:23,  5.43it/s]\u001b[A\n",
      "hailey_01: loss 0.0817; l2_loss 0.0529; lr 0.0033:  36%|███▌      | 71/200 [00:17<00:23,  5.43it/s]\u001b[A\n",
      "hailey_01: loss 0.0817; l2_loss 0.0529; lr 0.0033:  36%|███▌      | 72/200 [00:17<00:23,  5.36it/s]\u001b[A"
     ]
    },
    {
     "name": "stdout",
     "output_type": "stream",
     "text": [
      "hailey_01  Loss 0.0821\n",
      "hailey_01  Loss 0.0817\n"
     ]
    },
    {
     "name": "stderr",
     "output_type": "stream",
     "text": [
      "\n",
      "hailey_01: loss 0.0812; l2_loss 0.0526; lr 0.0033:  36%|███▌      | 72/200 [00:17<00:23,  5.36it/s]\u001b[A\n",
      "hailey_01: loss 0.0812; l2_loss 0.0526; lr 0.0033:  36%|███▋      | 73/200 [00:17<00:23,  5.37it/s]\u001b[A\n",
      "hailey_01: loss 0.0809; l2_loss 0.0523; lr 0.0033:  36%|███▋      | 73/200 [00:17<00:23,  5.37it/s]\u001b[A\n",
      "hailey_01: loss 0.0809; l2_loss 0.0523; lr 0.0033:  37%|███▋      | 74/200 [00:17<00:23,  5.41it/s]\u001b[A"
     ]
    },
    {
     "name": "stdout",
     "output_type": "stream",
     "text": [
      "hailey_01  Loss 0.0812\n",
      "hailey_01  Loss 0.0809\n"
     ]
    },
    {
     "name": "stderr",
     "output_type": "stream",
     "text": [
      "\n",
      "hailey_01: loss 0.0806; l2_loss 0.0522; lr 0.0033:  37%|███▋      | 74/200 [00:17<00:23,  5.41it/s]\u001b[A\n",
      "hailey_01: loss 0.0806; l2_loss 0.0522; lr 0.0033:  38%|███▊      | 75/200 [00:17<00:23,  5.42it/s]\u001b[A\n",
      "hailey_01: loss 0.0802; l2_loss 0.0520; lr 0.0033:  38%|███▊      | 75/200 [00:17<00:23,  5.42it/s]\u001b[A\n",
      "hailey_01: loss 0.0802; l2_loss 0.0520; lr 0.0033:  38%|███▊      | 76/200 [00:17<00:22,  5.41it/s]\u001b[A"
     ]
    },
    {
     "name": "stdout",
     "output_type": "stream",
     "text": [
      "hailey_01  Loss 0.0806\n",
      "hailey_01  Loss 0.0802\n"
     ]
    },
    {
     "name": "stderr",
     "output_type": "stream",
     "text": [
      "\n",
      "hailey_01: loss 0.0799; l2_loss 0.0518; lr 0.0033:  38%|███▊      | 76/200 [00:17<00:22,  5.41it/s]\u001b[A\n",
      "hailey_01: loss 0.0799; l2_loss 0.0518; lr 0.0033:  38%|███▊      | 77/200 [00:17<00:22,  5.40it/s]\u001b[A\n",
      "hailey_01: loss 0.0796; l2_loss 0.0516; lr 0.0033:  38%|███▊      | 77/200 [00:18<00:22,  5.40it/s]\u001b[A\n",
      "hailey_01: loss 0.0796; l2_loss 0.0516; lr 0.0033:  39%|███▉      | 78/200 [00:18<00:22,  5.43it/s]\u001b[A"
     ]
    },
    {
     "name": "stdout",
     "output_type": "stream",
     "text": [
      "hailey_01  Loss 0.0799\n",
      "hailey_01  Loss 0.0796\n"
     ]
    },
    {
     "name": "stderr",
     "output_type": "stream",
     "text": [
      "\n",
      "hailey_01: loss 0.0792; l2_loss 0.0512; lr 0.0033:  39%|███▉      | 78/200 [00:18<00:22,  5.43it/s]\u001b[A\n",
      "hailey_01: loss 0.0792; l2_loss 0.0512; lr 0.0033:  40%|███▉      | 79/200 [00:18<00:22,  5.44it/s]\u001b[A\n",
      "hailey_01: loss 0.0789; l2_loss 0.0510; lr 0.0033:  40%|███▉      | 79/200 [00:18<00:22,  5.44it/s]\u001b[A\n",
      "hailey_01: loss 0.0789; l2_loss 0.0510; lr 0.0033:  40%|████      | 80/200 [00:18<00:22,  5.44it/s]\u001b[A"
     ]
    },
    {
     "name": "stdout",
     "output_type": "stream",
     "text": [
      "hailey_01  Loss 0.0792\n",
      "hailey_01  Loss 0.0789\n"
     ]
    },
    {
     "name": "stderr",
     "output_type": "stream",
     "text": [
      "\n",
      "hailey_01: loss 0.0786; l2_loss 0.0507; lr 0.0033:  40%|████      | 80/200 [00:18<00:22,  5.44it/s]\u001b[A\n",
      "hailey_01: loss 0.0786; l2_loss 0.0507; lr 0.0033:  40%|████      | 81/200 [00:18<00:22,  5.39it/s]\u001b[A\n",
      "hailey_01: loss 0.0783; l2_loss 0.0506; lr 0.0033:  40%|████      | 81/200 [00:18<00:22,  5.39it/s]\u001b[A\n",
      "hailey_01: loss 0.0783; l2_loss 0.0506; lr 0.0033:  41%|████      | 82/200 [00:18<00:21,  5.38it/s]\u001b[A"
     ]
    },
    {
     "name": "stdout",
     "output_type": "stream",
     "text": [
      "hailey_01  Loss 0.0786\n",
      "hailey_01  Loss 0.0783\n"
     ]
    },
    {
     "name": "stderr",
     "output_type": "stream",
     "text": [
      "\n",
      "hailey_01: loss 0.0780; l2_loss 0.0505; lr 0.0033:  41%|████      | 82/200 [00:19<00:21,  5.38it/s]\u001b[A\n",
      "hailey_01: loss 0.0780; l2_loss 0.0505; lr 0.0033:  42%|████▏     | 83/200 [00:19<00:21,  5.40it/s]\u001b[A\n",
      "hailey_01: loss 0.0777; l2_loss 0.0504; lr 0.0033:  42%|████▏     | 83/200 [00:19<00:21,  5.40it/s]\u001b[A\n",
      "hailey_01: loss 0.0777; l2_loss 0.0504; lr 0.0033:  42%|████▏     | 84/200 [00:19<00:21,  5.43it/s]\u001b[A"
     ]
    },
    {
     "name": "stdout",
     "output_type": "stream",
     "text": [
      "hailey_01  Loss 0.0780\n",
      "hailey_01  Loss 0.0777\n"
     ]
    },
    {
     "name": "stderr",
     "output_type": "stream",
     "text": [
      "\n",
      "hailey_01: loss 0.0773; l2_loss 0.0502; lr 0.0033:  42%|████▏     | 84/200 [00:19<00:21,  5.43it/s]\u001b[A\n",
      "hailey_01: loss 0.0773; l2_loss 0.0502; lr 0.0033:  42%|████▎     | 85/200 [00:19<00:21,  5.43it/s]\u001b[A\n",
      "hailey_01: loss 0.0770; l2_loss 0.0499; lr 0.0033:  42%|████▎     | 85/200 [00:19<00:21,  5.43it/s]\u001b[A\n",
      "hailey_01: loss 0.0770; l2_loss 0.0499; lr 0.0033:  43%|████▎     | 86/200 [00:19<00:20,  5.43it/s]\u001b[A"
     ]
    },
    {
     "name": "stdout",
     "output_type": "stream",
     "text": [
      "hailey_01  Loss 0.0773\n",
      "hailey_01  Loss 0.0770\n"
     ]
    },
    {
     "name": "stderr",
     "output_type": "stream",
     "text": [
      "\n",
      "hailey_01: loss 0.0767; l2_loss 0.0498; lr 0.0033:  43%|████▎     | 86/200 [00:19<00:20,  5.43it/s]\u001b[A\n",
      "hailey_01: loss 0.0767; l2_loss 0.0498; lr 0.0033:  44%|████▎     | 87/200 [00:19<00:20,  5.43it/s]\u001b[A\n",
      "hailey_01: loss 0.0764; l2_loss 0.0496; lr 0.0033:  44%|████▎     | 87/200 [00:20<00:20,  5.43it/s]\u001b[A\n",
      "hailey_01: loss 0.0764; l2_loss 0.0496; lr 0.0033:  44%|████▍     | 88/200 [00:20<00:20,  5.39it/s]\u001b[A"
     ]
    },
    {
     "name": "stdout",
     "output_type": "stream",
     "text": [
      "hailey_01  Loss 0.0767\n",
      "hailey_01  Loss 0.0764\n"
     ]
    },
    {
     "name": "stderr",
     "output_type": "stream",
     "text": [
      "\n",
      "hailey_01: loss 0.0761; l2_loss 0.0496; lr 0.0033:  44%|████▍     | 88/200 [00:20<00:20,  5.39it/s]\u001b[A\n",
      "hailey_01: loss 0.0761; l2_loss 0.0496; lr 0.0033:  44%|████▍     | 89/200 [00:20<00:20,  5.41it/s]\u001b[A\n",
      "hailey_01: loss 0.0758; l2_loss 0.0496; lr 0.0033:  44%|████▍     | 89/200 [00:20<00:20,  5.41it/s]\u001b[A\n",
      "hailey_01: loss 0.0758; l2_loss 0.0496; lr 0.0033:  45%|████▌     | 90/200 [00:20<00:20,  5.43it/s]\u001b[A"
     ]
    },
    {
     "name": "stdout",
     "output_type": "stream",
     "text": [
      "hailey_01  Loss 0.0761\n",
      "hailey_01  Loss 0.0758\n"
     ]
    },
    {
     "name": "stderr",
     "output_type": "stream",
     "text": [
      "\n",
      "hailey_01: loss 0.0756; l2_loss 0.0496; lr 0.0033:  45%|████▌     | 90/200 [00:20<00:20,  5.43it/s]\u001b[A\n",
      "hailey_01: loss 0.0756; l2_loss 0.0496; lr 0.0033:  46%|████▌     | 91/200 [00:20<00:20,  5.43it/s]\u001b[A\n",
      "hailey_01: loss 0.0753; l2_loss 0.0495; lr 0.0033:  46%|████▌     | 91/200 [00:20<00:20,  5.43it/s]\u001b[A\n",
      "hailey_01: loss 0.0753; l2_loss 0.0495; lr 0.0033:  46%|████▌     | 92/200 [00:20<00:19,  5.42it/s]\u001b[A"
     ]
    },
    {
     "name": "stdout",
     "output_type": "stream",
     "text": [
      "hailey_01  Loss 0.0756\n",
      "hailey_01  Loss 0.0753\n"
     ]
    },
    {
     "name": "stderr",
     "output_type": "stream",
     "text": [
      "\n",
      "hailey_01: loss 0.0751; l2_loss 0.0493; lr 0.0033:  46%|████▌     | 92/200 [00:20<00:19,  5.42it/s]\u001b[A\n",
      "hailey_01: loss 0.0751; l2_loss 0.0493; lr 0.0033:  46%|████▋     | 93/200 [00:20<00:19,  5.38it/s]\u001b[A\n",
      "hailey_01: loss 0.0748; l2_loss 0.0492; lr 0.0033:  46%|████▋     | 93/200 [00:21<00:19,  5.38it/s]\u001b[A\n",
      "hailey_01: loss 0.0748; l2_loss 0.0492; lr 0.0033:  47%|████▋     | 94/200 [00:21<00:19,  5.43it/s]\u001b[A"
     ]
    },
    {
     "name": "stdout",
     "output_type": "stream",
     "text": [
      "hailey_01  Loss 0.0751\n",
      "hailey_01  Loss 0.0748\n"
     ]
    },
    {
     "name": "stderr",
     "output_type": "stream",
     "text": [
      "\n",
      "hailey_01: loss 0.0746; l2_loss 0.0492; lr 0.0033:  47%|████▋     | 94/200 [00:21<00:19,  5.43it/s]\u001b[A\n",
      "hailey_01: loss 0.0746; l2_loss 0.0492; lr 0.0033:  48%|████▊     | 95/200 [00:21<00:19,  5.46it/s]\u001b[A\n",
      "hailey_01: loss 0.0744; l2_loss 0.0491; lr 0.0033:  48%|████▊     | 95/200 [00:21<00:19,  5.46it/s]\u001b[A\n",
      "hailey_01: loss 0.0744; l2_loss 0.0491; lr 0.0033:  48%|████▊     | 96/200 [00:21<00:19,  5.45it/s]\u001b[A"
     ]
    },
    {
     "name": "stdout",
     "output_type": "stream",
     "text": [
      "hailey_01  Loss 0.0746\n",
      "hailey_01  Loss 0.0744\n"
     ]
    },
    {
     "name": "stderr",
     "output_type": "stream",
     "text": [
      "\n",
      "hailey_01: loss 0.0741; l2_loss 0.0489; lr 0.0033:  48%|████▊     | 96/200 [00:21<00:19,  5.45it/s]\u001b[A\n",
      "hailey_01: loss 0.0741; l2_loss 0.0489; lr 0.0033:  48%|████▊     | 97/200 [00:21<00:18,  5.44it/s]\u001b[A\n",
      "hailey_01: loss 0.0739; l2_loss 0.0488; lr 0.0033:  48%|████▊     | 97/200 [00:21<00:18,  5.44it/s]\u001b[A\n",
      "hailey_01: loss 0.0739; l2_loss 0.0488; lr 0.0033:  49%|████▉     | 98/200 [00:21<00:19,  5.36it/s]\u001b[A"
     ]
    },
    {
     "name": "stdout",
     "output_type": "stream",
     "text": [
      "hailey_01  Loss 0.0741\n",
      "hailey_01  Loss 0.0739\n"
     ]
    },
    {
     "name": "stderr",
     "output_type": "stream",
     "text": [
      "\n",
      "hailey_01: loss 0.0737; l2_loss 0.0486; lr 0.0033:  49%|████▉     | 98/200 [00:22<00:19,  5.36it/s]\u001b[A\n",
      "hailey_01: loss 0.0737; l2_loss 0.0486; lr 0.0033:  50%|████▉     | 99/200 [00:22<00:18,  5.38it/s]\u001b[A\n",
      "hailey_01: loss 0.0734; l2_loss 0.0484; lr 0.0033:  50%|████▉     | 99/200 [00:22<00:18,  5.38it/s]\u001b[A\n",
      "hailey_01: loss 0.0734; l2_loss 0.0484; lr 0.0033:  50%|█████     | 100/200 [00:22<00:18,  5.39it/s]\u001b[A"
     ]
    },
    {
     "name": "stdout",
     "output_type": "stream",
     "text": [
      "hailey_01  Loss 0.0737\n",
      "hailey_01  Loss 0.0734\n"
     ]
    },
    {
     "name": "stderr",
     "output_type": "stream",
     "text": [
      "\n",
      "hailey_01: loss 0.0732; l2_loss 0.0483; lr 0.0033:  50%|█████     | 100/200 [00:22<00:18,  5.39it/s]\u001b[A\n",
      "hailey_01: loss 0.0732; l2_loss 0.0483; lr 0.0033:  50%|█████     | 101/200 [00:22<00:18,  5.39it/s]\u001b[A\n",
      "hailey_01: loss 0.0730; l2_loss 0.0481; lr 0.0033:  50%|█████     | 101/200 [00:22<00:18,  5.39it/s]\u001b[A\n",
      "hailey_01: loss 0.0730; l2_loss 0.0481; lr 0.0033:  51%|█████     | 102/200 [00:22<00:18,  5.37it/s]\u001b[A"
     ]
    },
    {
     "name": "stdout",
     "output_type": "stream",
     "text": [
      "hailey_01  Loss 0.0732\n",
      "hailey_01  Loss 0.0730\n"
     ]
    },
    {
     "name": "stderr",
     "output_type": "stream",
     "text": [
      "\n",
      "hailey_01: loss 0.0727; l2_loss 0.0479; lr 0.0033:  51%|█████     | 102/200 [00:22<00:18,  5.37it/s]\u001b[A\n",
      "hailey_01: loss 0.0727; l2_loss 0.0479; lr 0.0033:  52%|█████▏    | 103/200 [00:22<00:18,  5.32it/s]\u001b[A\n",
      "hailey_01: loss 0.0725; l2_loss 0.0477; lr 0.0033:  52%|█████▏    | 103/200 [00:22<00:18,  5.32it/s]\u001b[A\n",
      "hailey_01: loss 0.0725; l2_loss 0.0477; lr 0.0033:  52%|█████▏    | 104/200 [00:22<00:17,  5.37it/s]\u001b[A"
     ]
    },
    {
     "name": "stdout",
     "output_type": "stream",
     "text": [
      "hailey_01  Loss 0.0727\n",
      "hailey_01  Loss 0.0725\n"
     ]
    },
    {
     "name": "stderr",
     "output_type": "stream",
     "text": [
      "\n",
      "hailey_01: loss 0.0723; l2_loss 0.0476; lr 0.0033:  52%|█████▏    | 104/200 [00:23<00:17,  5.37it/s]\u001b[A\n",
      "hailey_01: loss 0.0723; l2_loss 0.0476; lr 0.0033:  52%|█████▎    | 105/200 [00:23<00:17,  5.33it/s]\u001b[A\n",
      "hailey_01: loss 0.0720; l2_loss 0.0475; lr 0.0033:  52%|█████▎    | 105/200 [00:23<00:17,  5.33it/s]\u001b[A\n",
      "hailey_01: loss 0.0720; l2_loss 0.0475; lr 0.0033:  53%|█████▎    | 106/200 [00:23<00:17,  5.32it/s]\u001b[A"
     ]
    },
    {
     "name": "stdout",
     "output_type": "stream",
     "text": [
      "hailey_01  Loss 0.0723\n",
      "hailey_01  Loss 0.0720\n"
     ]
    },
    {
     "name": "stderr",
     "output_type": "stream",
     "text": [
      "\n",
      "hailey_01: loss 0.0718; l2_loss 0.0473; lr 0.0033:  53%|█████▎    | 106/200 [00:23<00:17,  5.32it/s]\u001b[A\n",
      "hailey_01: loss 0.0718; l2_loss 0.0473; lr 0.0033:  54%|█████▎    | 107/200 [00:23<00:17,  5.35it/s]\u001b[A\n",
      "hailey_01: loss 0.0716; l2_loss 0.0471; lr 0.0033:  54%|█████▎    | 107/200 [00:23<00:17,  5.35it/s]\u001b[A\n",
      "hailey_01: loss 0.0716; l2_loss 0.0471; lr 0.0033:  54%|█████▍    | 108/200 [00:23<00:17,  5.38it/s]\u001b[A"
     ]
    },
    {
     "name": "stdout",
     "output_type": "stream",
     "text": [
      "hailey_01  Loss 0.0718\n",
      "hailey_01  Loss 0.0716\n"
     ]
    },
    {
     "name": "stderr",
     "output_type": "stream",
     "text": [
      "\n",
      "hailey_01: loss 0.0714; l2_loss 0.0469; lr 0.0033:  54%|█████▍    | 108/200 [00:23<00:17,  5.38it/s]\u001b[A\n",
      "hailey_01: loss 0.0714; l2_loss 0.0469; lr 0.0033:  55%|█████▍    | 109/200 [00:23<00:16,  5.41it/s]\u001b[A\n",
      "hailey_01: loss 0.0711; l2_loss 0.0468; lr 0.0033:  55%|█████▍    | 109/200 [00:24<00:16,  5.41it/s]\u001b[A\n",
      "hailey_01: loss 0.0711; l2_loss 0.0468; lr 0.0033:  55%|█████▌    | 110/200 [00:24<00:16,  5.38it/s]\u001b[A"
     ]
    },
    {
     "name": "stdout",
     "output_type": "stream",
     "text": [
      "hailey_01  Loss 0.0714\n",
      "hailey_01  Loss 0.0711\n"
     ]
    },
    {
     "name": "stderr",
     "output_type": "stream",
     "text": [
      "\n",
      "hailey_01: loss 0.0709; l2_loss 0.0466; lr 0.0033:  55%|█████▌    | 110/200 [00:24<00:16,  5.38it/s]\u001b[A\n",
      "hailey_01: loss 0.0709; l2_loss 0.0466; lr 0.0033:  56%|█████▌    | 111/200 [00:24<00:16,  5.36it/s]\u001b[A\n",
      "hailey_01: loss 0.0707; l2_loss 0.0465; lr 0.0033:  56%|█████▌    | 111/200 [00:24<00:16,  5.36it/s]\u001b[A\n",
      "hailey_01: loss 0.0707; l2_loss 0.0465; lr 0.0033:  56%|█████▌    | 112/200 [00:24<00:16,  5.34it/s]\u001b[A"
     ]
    },
    {
     "name": "stdout",
     "output_type": "stream",
     "text": [
      "hailey_01  Loss 0.0709\n",
      "hailey_01  Loss 0.0707\n"
     ]
    },
    {
     "name": "stderr",
     "output_type": "stream",
     "text": [
      "\n",
      "hailey_01: loss 0.0705; l2_loss 0.0463; lr 0.0033:  56%|█████▌    | 112/200 [00:24<00:16,  5.34it/s]\u001b[A\n",
      "hailey_01: loss 0.0705; l2_loss 0.0463; lr 0.0033:  56%|█████▋    | 113/200 [00:24<00:16,  5.39it/s]\u001b[A\n",
      "hailey_01: loss 0.0703; l2_loss 0.0462; lr 0.0033:  56%|█████▋    | 113/200 [00:24<00:16,  5.39it/s]\u001b[A\n",
      "hailey_01: loss 0.0703; l2_loss 0.0462; lr 0.0033:  57%|█████▋    | 114/200 [00:24<00:15,  5.40it/s]\u001b[A"
     ]
    },
    {
     "name": "stdout",
     "output_type": "stream",
     "text": [
      "hailey_01  Loss 0.0705\n",
      "hailey_01  Loss 0.0703\n"
     ]
    },
    {
     "name": "stderr",
     "output_type": "stream",
     "text": [
      "\n",
      "hailey_01: loss 0.0701; l2_loss 0.0461; lr 0.0033:  57%|█████▋    | 114/200 [00:25<00:15,  5.40it/s]\u001b[A\n",
      "hailey_01: loss 0.0701; l2_loss 0.0461; lr 0.0033:  57%|█████▊    | 115/200 [00:25<00:15,  5.42it/s]\u001b[A\n",
      "hailey_01: loss 0.0698; l2_loss 0.0459; lr 0.0033:  57%|█████▊    | 115/200 [00:25<00:15,  5.42it/s]\u001b[A\n",
      "hailey_01: loss 0.0698; l2_loss 0.0459; lr 0.0033:  58%|█████▊    | 116/200 [00:25<00:15,  5.44it/s]\u001b[A"
     ]
    },
    {
     "name": "stdout",
     "output_type": "stream",
     "text": [
      "hailey_01  Loss 0.0701\n",
      "hailey_01  Loss 0.0698\n"
     ]
    },
    {
     "name": "stderr",
     "output_type": "stream",
     "text": [
      "\n",
      "hailey_01: loss 0.0696; l2_loss 0.0458; lr 0.0033:  58%|█████▊    | 116/200 [00:25<00:15,  5.44it/s]\u001b[A\n",
      "hailey_01: loss 0.0696; l2_loss 0.0458; lr 0.0033:  58%|█████▊    | 117/200 [00:25<00:15,  5.45it/s]\u001b[A\n",
      "hailey_01: loss 0.0694; l2_loss 0.0456; lr 0.0033:  58%|█████▊    | 117/200 [00:25<00:15,  5.45it/s]\u001b[A\n",
      "hailey_01: loss 0.0694; l2_loss 0.0456; lr 0.0033:  59%|█████▉    | 118/200 [00:25<00:15,  5.43it/s]\u001b[A"
     ]
    },
    {
     "name": "stdout",
     "output_type": "stream",
     "text": [
      "hailey_01  Loss 0.0696\n",
      "hailey_01  Loss 0.0694\n"
     ]
    },
    {
     "name": "stderr",
     "output_type": "stream",
     "text": [
      "\n",
      "hailey_01: loss 0.0692; l2_loss 0.0455; lr 0.0033:  59%|█████▉    | 118/200 [00:25<00:15,  5.43it/s]\u001b[A\n",
      "hailey_01: loss 0.0692; l2_loss 0.0455; lr 0.0033:  60%|█████▉    | 119/200 [00:25<00:14,  5.40it/s]\u001b[A\n",
      "hailey_01: loss 0.0689; l2_loss 0.0453; lr 0.0033:  60%|█████▉    | 119/200 [00:25<00:14,  5.40it/s]\u001b[A\n",
      "hailey_01: loss 0.0689; l2_loss 0.0453; lr 0.0033:  60%|██████    | 120/200 [00:25<00:14,  5.45it/s]\u001b[A"
     ]
    },
    {
     "name": "stdout",
     "output_type": "stream",
     "text": [
      "hailey_01  Loss 0.0692\n",
      "hailey_01  Loss 0.0689\n"
     ]
    },
    {
     "name": "stderr",
     "output_type": "stream",
     "text": [
      "\n",
      "hailey_01: loss 0.0687; l2_loss 0.0452; lr 0.0033:  60%|██████    | 120/200 [00:26<00:14,  5.45it/s]\u001b[A\n",
      "hailey_01: loss 0.0687; l2_loss 0.0452; lr 0.0033:  60%|██████    | 121/200 [00:26<00:14,  5.44it/s]\u001b[A\n",
      "hailey_01: loss 0.0685; l2_loss 0.0451; lr 0.0033:  60%|██████    | 121/200 [00:26<00:14,  5.44it/s]\u001b[A\n",
      "hailey_01: loss 0.0685; l2_loss 0.0451; lr 0.0033:  61%|██████    | 122/200 [00:26<00:14,  5.37it/s]\u001b[A"
     ]
    },
    {
     "name": "stdout",
     "output_type": "stream",
     "text": [
      "hailey_01  Loss 0.0687\n",
      "hailey_01  Loss 0.0685\n"
     ]
    },
    {
     "name": "stderr",
     "output_type": "stream",
     "text": [
      "\n",
      "hailey_01: loss 0.0683; l2_loss 0.0450; lr 0.0033:  61%|██████    | 122/200 [00:26<00:14,  5.37it/s]\u001b[A\n",
      "hailey_01: loss 0.0683; l2_loss 0.0450; lr 0.0033:  62%|██████▏   | 123/200 [00:26<00:14,  5.38it/s]\u001b[A\n",
      "hailey_01: loss 0.0680; l2_loss 0.0448; lr 0.0033:  62%|██████▏   | 123/200 [00:26<00:14,  5.38it/s]\u001b[A\n",
      "hailey_01: loss 0.0680; l2_loss 0.0448; lr 0.0033:  62%|██████▏   | 124/200 [00:26<00:14,  5.42it/s]\u001b[A"
     ]
    },
    {
     "name": "stdout",
     "output_type": "stream",
     "text": [
      "hailey_01  Loss 0.0683\n",
      "hailey_01  Loss 0.0680\n"
     ]
    },
    {
     "name": "stderr",
     "output_type": "stream",
     "text": [
      "\n",
      "hailey_01: loss 0.0678; l2_loss 0.0447; lr 0.0033:  62%|██████▏   | 124/200 [00:26<00:14,  5.42it/s]\u001b[A\n",
      "hailey_01: loss 0.0678; l2_loss 0.0447; lr 0.0033:  62%|██████▎   | 125/200 [00:26<00:13,  5.41it/s]\u001b[A\n",
      "hailey_01: loss 0.0676; l2_loss 0.0446; lr 0.0033:  62%|██████▎   | 125/200 [00:27<00:13,  5.41it/s]\u001b[A\n",
      "hailey_01: loss 0.0676; l2_loss 0.0446; lr 0.0033:  63%|██████▎   | 126/200 [00:27<00:13,  5.41it/s]\u001b[A"
     ]
    },
    {
     "name": "stdout",
     "output_type": "stream",
     "text": [
      "hailey_01  Loss 0.0678\n",
      "hailey_01  Loss 0.0676\n"
     ]
    },
    {
     "name": "stderr",
     "output_type": "stream",
     "text": [
      "\n",
      "hailey_01: loss 0.0674; l2_loss 0.0444; lr 0.0033:  63%|██████▎   | 126/200 [00:27<00:13,  5.41it/s]\u001b[A\n",
      "hailey_01: loss 0.0674; l2_loss 0.0444; lr 0.0033:  64%|██████▎   | 127/200 [00:27<00:13,  5.35it/s]\u001b[A\n",
      "hailey_01: loss 0.0672; l2_loss 0.0443; lr 0.0033:  64%|██████▎   | 127/200 [00:27<00:13,  5.35it/s]\u001b[A\n",
      "hailey_01: loss 0.0672; l2_loss 0.0443; lr 0.0033:  64%|██████▍   | 128/200 [00:27<00:13,  5.40it/s]\u001b[A"
     ]
    },
    {
     "name": "stdout",
     "output_type": "stream",
     "text": [
      "hailey_01  Loss 0.0674\n",
      "hailey_01  Loss 0.0672\n"
     ]
    },
    {
     "name": "stderr",
     "output_type": "stream",
     "text": [
      "\n",
      "hailey_01: loss 0.0669; l2_loss 0.0442; lr 0.0033:  64%|██████▍   | 128/200 [00:27<00:13,  5.40it/s]\u001b[A\n",
      "hailey_01: loss 0.0669; l2_loss 0.0442; lr 0.0033:  64%|██████▍   | 129/200 [00:27<00:13,  5.42it/s]\u001b[A\n",
      "hailey_01: loss 0.0667; l2_loss 0.0441; lr 0.0033:  64%|██████▍   | 129/200 [00:27<00:13,  5.42it/s]\u001b[A\n",
      "hailey_01: loss 0.0667; l2_loss 0.0441; lr 0.0033:  65%|██████▌   | 130/200 [00:27<00:12,  5.43it/s]\u001b[A"
     ]
    },
    {
     "name": "stdout",
     "output_type": "stream",
     "text": [
      "hailey_01  Loss 0.0669\n",
      "hailey_01  Loss 0.0667\n"
     ]
    },
    {
     "name": "stderr",
     "output_type": "stream",
     "text": [
      "\n",
      "hailey_01: loss 0.0665; l2_loss 0.0440; lr 0.0033:  65%|██████▌   | 130/200 [00:27<00:12,  5.43it/s]\u001b[A\n",
      "hailey_01: loss 0.0665; l2_loss 0.0440; lr 0.0033:  66%|██████▌   | 131/200 [00:27<00:12,  5.42it/s]\u001b[A\n",
      "hailey_01: loss 0.0663; l2_loss 0.0439; lr 0.0033:  66%|██████▌   | 131/200 [00:28<00:12,  5.42it/s]\u001b[A\n",
      "hailey_01: loss 0.0663; l2_loss 0.0439; lr 0.0033:  66%|██████▌   | 132/200 [00:28<00:12,  5.42it/s]\u001b[A"
     ]
    },
    {
     "name": "stdout",
     "output_type": "stream",
     "text": [
      "hailey_01  Loss 0.0665\n",
      "hailey_01  Loss 0.0663\n"
     ]
    },
    {
     "name": "stderr",
     "output_type": "stream",
     "text": [
      "\n",
      "hailey_01: loss 0.0661; l2_loss 0.0437; lr 0.0033:  66%|██████▌   | 132/200 [00:28<00:12,  5.42it/s]\u001b[A\n",
      "hailey_01: loss 0.0661; l2_loss 0.0437; lr 0.0033:  66%|██████▋   | 133/200 [00:28<00:12,  5.43it/s]\u001b[A\n",
      "hailey_01: loss 0.0659; l2_loss 0.0436; lr 0.0033:  66%|██████▋   | 133/200 [00:28<00:12,  5.43it/s]\u001b[A\n",
      "hailey_01: loss 0.0659; l2_loss 0.0436; lr 0.0033:  67%|██████▋   | 134/200 [00:28<00:12,  5.36it/s]\u001b[A"
     ]
    },
    {
     "name": "stdout",
     "output_type": "stream",
     "text": [
      "hailey_01  Loss 0.0661\n",
      "hailey_01  Loss 0.0659\n"
     ]
    },
    {
     "name": "stderr",
     "output_type": "stream",
     "text": [
      "\n",
      "hailey_01: loss 0.0657; l2_loss 0.0434; lr 0.0033:  67%|██████▋   | 134/200 [00:28<00:12,  5.36it/s]\u001b[A\n",
      "hailey_01: loss 0.0657; l2_loss 0.0434; lr 0.0033:  68%|██████▊   | 135/200 [00:28<00:12,  5.28it/s]\u001b[A\n",
      "hailey_01: loss 0.0655; l2_loss 0.0433; lr 0.0033:  68%|██████▊   | 135/200 [00:28<00:12,  5.28it/s]\u001b[A\n",
      "hailey_01: loss 0.0655; l2_loss 0.0433; lr 0.0033:  68%|██████▊   | 136/200 [00:28<00:12,  5.32it/s]\u001b[A"
     ]
    },
    {
     "name": "stdout",
     "output_type": "stream",
     "text": [
      "hailey_01  Loss 0.0657\n",
      "hailey_01  Loss 0.0655\n"
     ]
    },
    {
     "name": "stderr",
     "output_type": "stream",
     "text": [
      "\n",
      "hailey_01: loss 0.0653; l2_loss 0.0431; lr 0.0033:  68%|██████▊   | 136/200 [00:29<00:12,  5.32it/s]\u001b[A\n",
      "hailey_01: loss 0.0653; l2_loss 0.0431; lr 0.0033:  68%|██████▊   | 137/200 [00:29<00:11,  5.38it/s]\u001b[A\n",
      "hailey_01: loss 0.0652; l2_loss 0.0429; lr 0.0033:  68%|██████▊   | 137/200 [00:29<00:11,  5.38it/s]\u001b[A\n",
      "hailey_01: loss 0.0652; l2_loss 0.0429; lr 0.0033:  69%|██████▉   | 138/200 [00:29<00:11,  5.38it/s]\u001b[A"
     ]
    },
    {
     "name": "stdout",
     "output_type": "stream",
     "text": [
      "hailey_01  Loss 0.0653\n",
      "hailey_01  Loss 0.0652\n"
     ]
    },
    {
     "name": "stderr",
     "output_type": "stream",
     "text": [
      "\n",
      "hailey_01: loss 0.0650; l2_loss 0.0427; lr 0.0033:  69%|██████▉   | 138/200 [00:29<00:11,  5.38it/s]\u001b[A\n",
      "hailey_01: loss 0.0650; l2_loss 0.0427; lr 0.0033:  70%|██████▉   | 139/200 [00:29<00:11,  5.38it/s]\u001b[A\n",
      "hailey_01: loss 0.0648; l2_loss 0.0425; lr 0.0022:  70%|██████▉   | 139/200 [00:29<00:11,  5.38it/s]\u001b[A\n",
      "hailey_01: loss 0.0648; l2_loss 0.0425; lr 0.0022:  70%|███████   | 140/200 [00:29<00:11,  5.28it/s]\u001b[A"
     ]
    },
    {
     "name": "stdout",
     "output_type": "stream",
     "text": [
      "hailey_01  Loss 0.0650\n",
      "hailey_01  Loss 0.0648\n"
     ]
    },
    {
     "name": "stderr",
     "output_type": "stream",
     "text": [
      "\n",
      "hailey_01: loss 0.0646; l2_loss 0.0424; lr 0.0022:  70%|███████   | 140/200 [00:29<00:11,  5.28it/s]\u001b[A\n",
      "hailey_01: loss 0.0646; l2_loss 0.0424; lr 0.0022:  70%|███████   | 141/200 [00:29<00:11,  5.34it/s]\u001b[A\n",
      "hailey_01: loss 0.0645; l2_loss 0.0423; lr 0.0022:  70%|███████   | 141/200 [00:30<00:11,  5.34it/s]\u001b[A\n",
      "hailey_01: loss 0.0645; l2_loss 0.0423; lr 0.0022:  71%|███████   | 142/200 [00:30<00:10,  5.33it/s]\u001b[A"
     ]
    },
    {
     "name": "stdout",
     "output_type": "stream",
     "text": [
      "hailey_01  Loss 0.0646\n",
      "hailey_01  Loss 0.0645\n"
     ]
    },
    {
     "name": "stderr",
     "output_type": "stream",
     "text": [
      "\n",
      "hailey_01: loss 0.0644; l2_loss 0.0422; lr 0.0022:  71%|███████   | 142/200 [00:30<00:10,  5.33it/s]\u001b[A\n",
      "hailey_01: loss 0.0644; l2_loss 0.0422; lr 0.0022:  72%|███████▏  | 143/200 [00:30<00:10,  5.35it/s]\u001b[A\n",
      "hailey_01: loss 0.0642; l2_loss 0.0421; lr 0.0022:  72%|███████▏  | 143/200 [00:30<00:10,  5.35it/s]\u001b[A\n",
      "hailey_01: loss 0.0642; l2_loss 0.0421; lr 0.0022:  72%|███████▏  | 144/200 [00:30<00:10,  5.39it/s]\u001b[A"
     ]
    },
    {
     "name": "stdout",
     "output_type": "stream",
     "text": [
      "hailey_01  Loss 0.0644\n",
      "hailey_01  Loss 0.0642\n"
     ]
    },
    {
     "name": "stderr",
     "output_type": "stream",
     "text": [
      "\n",
      "hailey_01: loss 0.0641; l2_loss 0.0420; lr 0.0022:  72%|███████▏  | 144/200 [00:30<00:10,  5.39it/s]\u001b[A\n",
      "hailey_01: loss 0.0641; l2_loss 0.0420; lr 0.0022:  72%|███████▎  | 145/200 [00:30<00:10,  5.41it/s]\u001b[A\n",
      "hailey_01: loss 0.0640; l2_loss 0.0420; lr 0.0022:  72%|███████▎  | 145/200 [00:30<00:10,  5.41it/s]\u001b[A\n",
      "hailey_01: loss 0.0640; l2_loss 0.0420; lr 0.0022:  73%|███████▎  | 146/200 [00:30<00:09,  5.41it/s]\u001b[A"
     ]
    },
    {
     "name": "stdout",
     "output_type": "stream",
     "text": [
      "hailey_01  Loss 0.0641\n",
      "hailey_01  Loss 0.0640\n"
     ]
    },
    {
     "name": "stderr",
     "output_type": "stream",
     "text": [
      "\n",
      "hailey_01: loss 0.0638; l2_loss 0.0418; lr 0.0022:  73%|███████▎  | 146/200 [00:30<00:09,  5.41it/s]\u001b[A\n",
      "hailey_01: loss 0.0638; l2_loss 0.0418; lr 0.0022:  74%|███████▎  | 147/200 [00:30<00:09,  5.45it/s]\u001b[A\n",
      "hailey_01: loss 0.0637; l2_loss 0.0417; lr 0.0022:  74%|███████▎  | 147/200 [00:31<00:09,  5.45it/s]\u001b[A\n",
      "hailey_01: loss 0.0637; l2_loss 0.0417; lr 0.0022:  74%|███████▍  | 148/200 [00:31<00:09,  5.47it/s]\u001b[A"
     ]
    },
    {
     "name": "stdout",
     "output_type": "stream",
     "text": [
      "hailey_01  Loss 0.0638\n",
      "hailey_01  Loss 0.0637\n"
     ]
    },
    {
     "name": "stderr",
     "output_type": "stream",
     "text": [
      "\n",
      "hailey_01: loss 0.0635; l2_loss 0.0417; lr 0.0022:  74%|███████▍  | 148/200 [00:31<00:09,  5.47it/s]\u001b[A\n",
      "hailey_01: loss 0.0635; l2_loss 0.0417; lr 0.0022:  74%|███████▍  | 149/200 [00:31<00:09,  5.47it/s]\u001b[A\n",
      "hailey_01: loss 0.0634; l2_loss 0.0416; lr 0.0022:  74%|███████▍  | 149/200 [00:31<00:09,  5.47it/s]\u001b[A\n",
      "hailey_01: loss 0.0634; l2_loss 0.0416; lr 0.0022:  75%|███████▌  | 150/200 [00:31<00:09,  5.48it/s]\u001b[A"
     ]
    },
    {
     "name": "stdout",
     "output_type": "stream",
     "text": [
      "hailey_01  Loss 0.0635\n",
      "hailey_01  Loss 0.0634\n"
     ]
    },
    {
     "name": "stderr",
     "output_type": "stream",
     "text": [
      "\n",
      "hailey_01: loss 0.0633; l2_loss 0.0415; lr 0.0022:  75%|███████▌  | 150/200 [00:31<00:09,  5.48it/s]\u001b[A\n",
      "hailey_01: loss 0.0633; l2_loss 0.0415; lr 0.0022:  76%|███████▌  | 151/200 [00:31<00:09,  5.44it/s]\u001b[A\n",
      "hailey_01: loss 0.0631; l2_loss 0.0414; lr 0.0022:  76%|███████▌  | 151/200 [00:31<00:09,  5.44it/s]\u001b[A\n",
      "hailey_01: loss 0.0631; l2_loss 0.0414; lr 0.0022:  76%|███████▌  | 152/200 [00:31<00:08,  5.47it/s]\u001b[A"
     ]
    },
    {
     "name": "stdout",
     "output_type": "stream",
     "text": [
      "hailey_01  Loss 0.0633\n",
      "hailey_01  Loss 0.0631\n"
     ]
    },
    {
     "name": "stderr",
     "output_type": "stream",
     "text": [
      "\n",
      "hailey_01: loss 0.0630; l2_loss 0.0413; lr 0.0022:  76%|███████▌  | 152/200 [00:32<00:08,  5.47it/s]\u001b[A\n",
      "hailey_01: loss 0.0630; l2_loss 0.0413; lr 0.0022:  76%|███████▋  | 153/200 [00:32<00:08,  5.46it/s]\u001b[A\n",
      "hailey_01: loss 0.0628; l2_loss 0.0413; lr 0.0022:  76%|███████▋  | 153/200 [00:32<00:08,  5.46it/s]\u001b[A\n",
      "hailey_01: loss 0.0628; l2_loss 0.0413; lr 0.0022:  77%|███████▋  | 154/200 [00:32<00:08,  5.45it/s]\u001b[A"
     ]
    },
    {
     "name": "stdout",
     "output_type": "stream",
     "text": [
      "hailey_01  Loss 0.0630\n",
      "hailey_01  Loss 0.0628\n"
     ]
    },
    {
     "name": "stderr",
     "output_type": "stream",
     "text": [
      "\n",
      "hailey_01: loss 0.0627; l2_loss 0.0412; lr 0.0022:  77%|███████▋  | 154/200 [00:32<00:08,  5.45it/s]\u001b[A\n",
      "hailey_01: loss 0.0627; l2_loss 0.0412; lr 0.0022:  78%|███████▊  | 155/200 [00:32<00:08,  5.48it/s]\u001b[A\n",
      "hailey_01: loss 0.0626; l2_loss 0.0411; lr 0.0022:  78%|███████▊  | 155/200 [00:32<00:08,  5.48it/s]\u001b[A\n",
      "hailey_01: loss 0.0626; l2_loss 0.0411; lr 0.0022:  78%|███████▊  | 156/200 [00:32<00:08,  5.45it/s]\u001b[A"
     ]
    },
    {
     "name": "stdout",
     "output_type": "stream",
     "text": [
      "hailey_01  Loss 0.0627\n",
      "hailey_01  Loss 0.0626\n"
     ]
    },
    {
     "name": "stderr",
     "output_type": "stream",
     "text": [
      "\n",
      "hailey_01: loss 0.0624; l2_loss 0.0410; lr 0.0022:  78%|███████▊  | 156/200 [00:32<00:08,  5.45it/s]\u001b[A\n",
      "hailey_01: loss 0.0624; l2_loss 0.0410; lr 0.0022:  78%|███████▊  | 157/200 [00:32<00:07,  5.46it/s]\u001b[A\n",
      "hailey_01: loss 0.0623; l2_loss 0.0409; lr 0.0022:  78%|███████▊  | 157/200 [00:32<00:07,  5.46it/s]\u001b[A\n",
      "hailey_01: loss 0.0623; l2_loss 0.0409; lr 0.0022:  79%|███████▉  | 158/200 [00:32<00:07,  5.49it/s]\u001b[A"
     ]
    },
    {
     "name": "stdout",
     "output_type": "stream",
     "text": [
      "hailey_01  Loss 0.0624\n",
      "hailey_01  Loss 0.0623\n"
     ]
    },
    {
     "name": "stderr",
     "output_type": "stream",
     "text": [
      "\n",
      "hailey_01: loss 0.0621; l2_loss 0.0408; lr 0.0022:  79%|███████▉  | 158/200 [00:33<00:07,  5.49it/s]\u001b[A\n",
      "hailey_01: loss 0.0621; l2_loss 0.0408; lr 0.0022:  80%|███████▉  | 159/200 [00:33<00:07,  5.48it/s]\u001b[A\n",
      "hailey_01: loss 0.0620; l2_loss 0.0407; lr 0.0022:  80%|███████▉  | 159/200 [00:33<00:07,  5.48it/s]\u001b[A\n",
      "hailey_01: loss 0.0620; l2_loss 0.0407; lr 0.0022:  80%|████████  | 160/200 [00:33<00:07,  5.50it/s]\u001b[A"
     ]
    },
    {
     "name": "stdout",
     "output_type": "stream",
     "text": [
      "hailey_01  Loss 0.0621\n",
      "hailey_01  Loss 0.0620\n"
     ]
    },
    {
     "name": "stderr",
     "output_type": "stream",
     "text": [
      "\n",
      "hailey_01: loss 0.0619; l2_loss 0.0406; lr 0.0022:  80%|████████  | 160/200 [00:33<00:07,  5.50it/s]\u001b[A\n",
      "hailey_01: loss 0.0619; l2_loss 0.0406; lr 0.0022:  80%|████████  | 161/200 [00:33<00:07,  5.45it/s]\u001b[A\n",
      "hailey_01: loss 0.0618; l2_loss 0.0405; lr 0.0022:  80%|████████  | 161/200 [00:33<00:07,  5.45it/s]\u001b[A\n",
      "hailey_01: loss 0.0618; l2_loss 0.0405; lr 0.0022:  81%|████████  | 162/200 [00:33<00:06,  5.46it/s]\u001b[A"
     ]
    },
    {
     "name": "stdout",
     "output_type": "stream",
     "text": [
      "hailey_01  Loss 0.0619\n",
      "hailey_01  Loss 0.0618\n"
     ]
    },
    {
     "name": "stderr",
     "output_type": "stream",
     "text": [
      "\n",
      "hailey_01: loss 0.0616; l2_loss 0.0404; lr 0.0022:  81%|████████  | 162/200 [00:33<00:06,  5.46it/s]\u001b[A\n",
      "hailey_01: loss 0.0616; l2_loss 0.0404; lr 0.0022:  82%|████████▏ | 163/200 [00:33<00:06,  5.46it/s]\u001b[A\n",
      "hailey_01: loss 0.0615; l2_loss 0.0404; lr 0.0022:  82%|████████▏ | 163/200 [00:34<00:06,  5.46it/s]\u001b[A\n",
      "hailey_01: loss 0.0615; l2_loss 0.0404; lr 0.0022:  82%|████████▏ | 164/200 [00:34<00:06,  5.45it/s]\u001b[A"
     ]
    },
    {
     "name": "stdout",
     "output_type": "stream",
     "text": [
      "hailey_01  Loss 0.0616\n",
      "hailey_01  Loss 0.0615\n"
     ]
    },
    {
     "name": "stderr",
     "output_type": "stream",
     "text": [
      "\n",
      "hailey_01: loss 0.0613; l2_loss 0.0403; lr 0.0022:  82%|████████▏ | 164/200 [00:34<00:06,  5.45it/s]\u001b[A\n",
      "hailey_01: loss 0.0613; l2_loss 0.0403; lr 0.0022:  82%|████████▎ | 165/200 [00:34<00:06,  5.40it/s]\u001b[A\n",
      "hailey_01: loss 0.0612; l2_loss 0.0402; lr 0.0022:  82%|████████▎ | 165/200 [00:34<00:06,  5.40it/s]\u001b[A\n",
      "hailey_01: loss 0.0612; l2_loss 0.0402; lr 0.0022:  83%|████████▎ | 166/200 [00:34<00:06,  5.36it/s]\u001b[A"
     ]
    },
    {
     "name": "stdout",
     "output_type": "stream",
     "text": [
      "hailey_01  Loss 0.0613\n",
      "hailey_01  Loss 0.0612\n"
     ]
    },
    {
     "name": "stderr",
     "output_type": "stream",
     "text": [
      "\n",
      "hailey_01: loss 0.0611; l2_loss 0.0401; lr 0.0022:  83%|████████▎ | 166/200 [00:34<00:06,  5.36it/s]\u001b[A\n",
      "hailey_01: loss 0.0611; l2_loss 0.0401; lr 0.0022:  84%|████████▎ | 167/200 [00:34<00:06,  5.41it/s]\u001b[A\n",
      "hailey_01: loss 0.0609; l2_loss 0.0401; lr 0.0022:  84%|████████▎ | 167/200 [00:34<00:06,  5.41it/s]\u001b[A\n",
      "hailey_01: loss 0.0609; l2_loss 0.0401; lr 0.0022:  84%|████████▍ | 168/200 [00:34<00:05,  5.43it/s]\u001b[A"
     ]
    },
    {
     "name": "stdout",
     "output_type": "stream",
     "text": [
      "hailey_01  Loss 0.0611\n",
      "hailey_01  Loss 0.0609\n"
     ]
    },
    {
     "name": "stderr",
     "output_type": "stream",
     "text": [
      "\n",
      "hailey_01: loss 0.0608; l2_loss 0.0400; lr 0.0022:  84%|████████▍ | 168/200 [00:34<00:05,  5.43it/s]\u001b[A\n",
      "hailey_01: loss 0.0608; l2_loss 0.0400; lr 0.0022:  84%|████████▍ | 169/200 [00:34<00:05,  5.41it/s]\u001b[A\n",
      "hailey_01: loss 0.0607; l2_loss 0.0400; lr 0.0022:  84%|████████▍ | 169/200 [00:35<00:05,  5.41it/s]\u001b[A\n",
      "hailey_01: loss 0.0607; l2_loss 0.0400; lr 0.0022:  85%|████████▌ | 170/200 [00:35<00:05,  5.43it/s]\u001b[A"
     ]
    },
    {
     "name": "stdout",
     "output_type": "stream",
     "text": [
      "hailey_01  Loss 0.0608\n",
      "hailey_01  Loss 0.0607\n"
     ]
    },
    {
     "name": "stderr",
     "output_type": "stream",
     "text": [
      "\n",
      "hailey_01: loss 0.0605; l2_loss 0.0399; lr 0.0022:  85%|████████▌ | 170/200 [00:35<00:05,  5.43it/s]\u001b[A\n",
      "hailey_01: loss 0.0605; l2_loss 0.0399; lr 0.0022:  86%|████████▌ | 171/200 [00:35<00:05,  5.40it/s]\u001b[A\n",
      "hailey_01: loss 0.0604; l2_loss 0.0398; lr 0.0022:  86%|████████▌ | 171/200 [00:35<00:05,  5.40it/s]\u001b[A\n",
      "hailey_01: loss 0.0604; l2_loss 0.0398; lr 0.0022:  86%|████████▌ | 172/200 [00:35<00:05,  5.38it/s]\u001b[A"
     ]
    },
    {
     "name": "stdout",
     "output_type": "stream",
     "text": [
      "hailey_01  Loss 0.0605\n",
      "hailey_01  Loss 0.0604\n"
     ]
    },
    {
     "name": "stderr",
     "output_type": "stream",
     "text": [
      "\n",
      "hailey_01: loss 0.0603; l2_loss 0.0397; lr 0.0022:  86%|████████▌ | 172/200 [00:35<00:05,  5.38it/s]\u001b[A\n",
      "hailey_01: loss 0.0603; l2_loss 0.0397; lr 0.0022:  86%|████████▋ | 173/200 [00:35<00:04,  5.41it/s]\u001b[A\n",
      "hailey_01: loss 0.0602; l2_loss 0.0397; lr 0.0022:  86%|████████▋ | 173/200 [00:35<00:04,  5.41it/s]\u001b[A\n",
      "hailey_01: loss 0.0602; l2_loss 0.0397; lr 0.0022:  87%|████████▋ | 174/200 [00:35<00:04,  5.38it/s]\u001b[A"
     ]
    },
    {
     "name": "stdout",
     "output_type": "stream",
     "text": [
      "hailey_01  Loss 0.0603\n",
      "hailey_01  Loss 0.0602\n"
     ]
    },
    {
     "name": "stderr",
     "output_type": "stream",
     "text": [
      "\n",
      "hailey_01: loss 0.0600; l2_loss 0.0396; lr 0.0022:  87%|████████▋ | 174/200 [00:36<00:04,  5.38it/s]\u001b[A\n",
      "hailey_01: loss 0.0600; l2_loss 0.0396; lr 0.0022:  88%|████████▊ | 175/200 [00:36<00:04,  5.39it/s]\u001b[A\n",
      "hailey_01: loss 0.0599; l2_loss 0.0395; lr 0.0022:  88%|████████▊ | 175/200 [00:36<00:04,  5.39it/s]\u001b[A\n",
      "hailey_01: loss 0.0599; l2_loss 0.0395; lr 0.0022:  88%|████████▊ | 176/200 [00:36<00:04,  5.40it/s]\u001b[A"
     ]
    },
    {
     "name": "stdout",
     "output_type": "stream",
     "text": [
      "hailey_01  Loss 0.0600\n",
      "hailey_01  Loss 0.0599\n"
     ]
    },
    {
     "name": "stderr",
     "output_type": "stream",
     "text": [
      "\n",
      "hailey_01: loss 0.0598; l2_loss 0.0394; lr 0.0022:  88%|████████▊ | 176/200 [00:36<00:04,  5.40it/s]\u001b[A\n",
      "hailey_01: loss 0.0598; l2_loss 0.0394; lr 0.0022:  88%|████████▊ | 177/200 [00:36<00:04,  5.38it/s]\u001b[A\n",
      "hailey_01: loss 0.0597; l2_loss 0.0393; lr 0.0022:  88%|████████▊ | 177/200 [00:36<00:04,  5.38it/s]\u001b[A\n",
      "hailey_01: loss 0.0597; l2_loss 0.0393; lr 0.0022:  89%|████████▉ | 178/200 [00:36<00:04,  5.40it/s]\u001b[A"
     ]
    },
    {
     "name": "stdout",
     "output_type": "stream",
     "text": [
      "hailey_01  Loss 0.0598\n",
      "hailey_01  Loss 0.0597\n"
     ]
    },
    {
     "name": "stderr",
     "output_type": "stream",
     "text": [
      "\n",
      "hailey_01: loss 0.0596; l2_loss 0.0393; lr 0.0022:  89%|████████▉ | 178/200 [00:36<00:04,  5.40it/s]\u001b[A\n",
      "hailey_01: loss 0.0596; l2_loss 0.0393; lr 0.0022:  90%|████████▉ | 179/200 [00:36<00:03,  5.38it/s]\u001b[A\n",
      "hailey_01: loss 0.0594; l2_loss 0.0391; lr 0.0022:  90%|████████▉ | 179/200 [00:37<00:03,  5.38it/s]\u001b[A\n",
      "hailey_01: loss 0.0594; l2_loss 0.0391; lr 0.0022:  90%|█████████ | 180/200 [00:37<00:03,  5.41it/s]\u001b[A"
     ]
    },
    {
     "name": "stdout",
     "output_type": "stream",
     "text": [
      "hailey_01  Loss 0.0596\n",
      "hailey_01  Loss 0.0594\n"
     ]
    },
    {
     "name": "stderr",
     "output_type": "stream",
     "text": [
      "\n",
      "hailey_01: loss 0.0593; l2_loss 0.0390; lr 0.0022:  90%|█████████ | 180/200 [00:37<00:03,  5.41it/s]\u001b[A\n",
      "hailey_01: loss 0.0593; l2_loss 0.0390; lr 0.0022:  90%|█████████ | 181/200 [00:37<00:03,  5.43it/s]\u001b[A\n",
      "hailey_01: loss 0.0592; l2_loss 0.0389; lr 0.0022:  90%|█████████ | 181/200 [00:37<00:03,  5.43it/s]\u001b[A\n",
      "hailey_01: loss 0.0592; l2_loss 0.0389; lr 0.0022:  91%|█████████ | 182/200 [00:37<00:03,  5.43it/s]\u001b[A"
     ]
    },
    {
     "name": "stdout",
     "output_type": "stream",
     "text": [
      "hailey_01  Loss 0.0593\n",
      "hailey_01  Loss 0.0592\n"
     ]
    },
    {
     "name": "stderr",
     "output_type": "stream",
     "text": [
      "\n",
      "hailey_01: loss 0.0591; l2_loss 0.0389; lr 0.0022:  91%|█████████ | 182/200 [00:37<00:03,  5.43it/s]\u001b[A\n",
      "hailey_01: loss 0.0591; l2_loss 0.0389; lr 0.0022:  92%|█████████▏| 183/200 [00:37<00:03,  5.39it/s]\u001b[A\n",
      "hailey_01: loss 0.0590; l2_loss 0.0388; lr 0.0022:  92%|█████████▏| 183/200 [00:37<00:03,  5.39it/s]\u001b[A\n",
      "hailey_01: loss 0.0590; l2_loss 0.0388; lr 0.0022:  92%|█████████▏| 184/200 [00:37<00:02,  5.37it/s]\u001b[A"
     ]
    },
    {
     "name": "stdout",
     "output_type": "stream",
     "text": [
      "hailey_01  Loss 0.0591\n",
      "hailey_01  Loss 0.0590\n"
     ]
    },
    {
     "name": "stderr",
     "output_type": "stream",
     "text": [
      "\n",
      "hailey_01: loss 0.0588; l2_loss 0.0387; lr 0.0022:  92%|█████████▏| 184/200 [00:37<00:02,  5.37it/s]\u001b[A\n",
      "hailey_01: loss 0.0588; l2_loss 0.0387; lr 0.0022:  92%|█████████▎| 185/200 [00:37<00:02,  5.39it/s]\u001b[A\n",
      "hailey_01: loss 0.0587; l2_loss 0.0387; lr 0.0022:  92%|█████████▎| 185/200 [00:38<00:02,  5.39it/s]\u001b[A\n",
      "hailey_01: loss 0.0587; l2_loss 0.0387; lr 0.0022:  93%|█████████▎| 186/200 [00:38<00:02,  5.41it/s]\u001b[A"
     ]
    },
    {
     "name": "stdout",
     "output_type": "stream",
     "text": [
      "hailey_01  Loss 0.0588\n",
      "hailey_01  Loss 0.0587\n"
     ]
    },
    {
     "name": "stderr",
     "output_type": "stream",
     "text": [
      "\n",
      "hailey_01: loss 0.0586; l2_loss 0.0386; lr 0.0022:  93%|█████████▎| 186/200 [00:38<00:02,  5.41it/s]\u001b[A\n",
      "hailey_01: loss 0.0586; l2_loss 0.0386; lr 0.0022:  94%|█████████▎| 187/200 [00:38<00:02,  5.42it/s]\u001b[A\n",
      "hailey_01: loss 0.0585; l2_loss 0.0385; lr 0.0022:  94%|█████████▎| 187/200 [00:38<00:02,  5.42it/s]\u001b[A\n",
      "hailey_01: loss 0.0585; l2_loss 0.0385; lr 0.0022:  94%|█████████▍| 188/200 [00:38<00:02,  5.39it/s]\u001b[A"
     ]
    },
    {
     "name": "stdout",
     "output_type": "stream",
     "text": [
      "hailey_01  Loss 0.0586\n",
      "hailey_01  Loss 0.0585\n"
     ]
    },
    {
     "name": "stderr",
     "output_type": "stream",
     "text": [
      "\n",
      "hailey_01: loss 0.0584; l2_loss 0.0385; lr 0.0022:  94%|█████████▍| 188/200 [00:38<00:02,  5.39it/s]\u001b[A\n",
      "hailey_01: loss 0.0584; l2_loss 0.0385; lr 0.0022:  94%|█████████▍| 189/200 [00:38<00:02,  5.42it/s]\u001b[A\n",
      "hailey_01: loss 0.0582; l2_loss 0.0385; lr 0.0022:  94%|█████████▍| 189/200 [00:38<00:02,  5.42it/s]\u001b[A\n",
      "hailey_01: loss 0.0582; l2_loss 0.0385; lr 0.0022:  95%|█████████▌| 190/200 [00:38<00:01,  5.37it/s]\u001b[A"
     ]
    },
    {
     "name": "stdout",
     "output_type": "stream",
     "text": [
      "hailey_01  Loss 0.0584\n",
      "hailey_01  Loss 0.0582\n"
     ]
    },
    {
     "name": "stderr",
     "output_type": "stream",
     "text": [
      "\n",
      "hailey_01: loss 0.0581; l2_loss 0.0384; lr 0.0022:  95%|█████████▌| 190/200 [00:39<00:01,  5.37it/s]\u001b[A\n",
      "hailey_01: loss 0.0581; l2_loss 0.0384; lr 0.0022:  96%|█████████▌| 191/200 [00:39<00:01,  5.40it/s]\u001b[A\n",
      "hailey_01: loss 0.0580; l2_loss 0.0382; lr 0.0022:  96%|█████████▌| 191/200 [00:39<00:01,  5.40it/s]\u001b[A\n",
      "hailey_01: loss 0.0580; l2_loss 0.0382; lr 0.0022:  96%|█████████▌| 192/200 [00:39<00:01,  5.43it/s]\u001b[A"
     ]
    },
    {
     "name": "stdout",
     "output_type": "stream",
     "text": [
      "hailey_01  Loss 0.0581\n",
      "hailey_01  Loss 0.0580\n"
     ]
    },
    {
     "name": "stderr",
     "output_type": "stream",
     "text": [
      "\n",
      "hailey_01: loss 0.0579; l2_loss 0.0381; lr 0.0022:  96%|█████████▌| 192/200 [00:39<00:01,  5.43it/s]\u001b[A\n",
      "hailey_01: loss 0.0579; l2_loss 0.0381; lr 0.0022:  96%|█████████▋| 193/200 [00:39<00:01,  5.39it/s]\u001b[A\n",
      "hailey_01: loss 0.0578; l2_loss 0.0381; lr 0.0022:  96%|█████████▋| 193/200 [00:39<00:01,  5.39it/s]\u001b[A\n",
      "hailey_01: loss 0.0578; l2_loss 0.0381; lr 0.0022:  97%|█████████▋| 194/200 [00:39<00:01,  5.40it/s]\u001b[A"
     ]
    },
    {
     "name": "stdout",
     "output_type": "stream",
     "text": [
      "hailey_01  Loss 0.0579\n",
      "hailey_01  Loss 0.0578\n"
     ]
    },
    {
     "name": "stderr",
     "output_type": "stream",
     "text": [
      "\n",
      "hailey_01: loss 0.0577; l2_loss 0.0381; lr 0.0022:  97%|█████████▋| 194/200 [00:39<00:01,  5.40it/s]\u001b[A\n",
      "hailey_01: loss 0.0577; l2_loss 0.0381; lr 0.0022:  98%|█████████▊| 195/200 [00:39<00:00,  5.39it/s]\u001b[A\n",
      "hailey_01: loss 0.0576; l2_loss 0.0380; lr 0.0022:  98%|█████████▊| 195/200 [00:39<00:00,  5.39it/s]\u001b[A\n",
      "hailey_01: loss 0.0576; l2_loss 0.0380; lr 0.0022:  98%|█████████▊| 196/200 [00:39<00:00,  5.43it/s]\u001b[A"
     ]
    },
    {
     "name": "stdout",
     "output_type": "stream",
     "text": [
      "hailey_01  Loss 0.0577\n",
      "hailey_01  Loss 0.0576\n"
     ]
    },
    {
     "name": "stderr",
     "output_type": "stream",
     "text": [
      "\n",
      "hailey_01: loss 0.0575; l2_loss 0.0379; lr 0.0022:  98%|█████████▊| 196/200 [00:40<00:00,  5.43it/s]\u001b[A\n",
      "hailey_01: loss 0.0575; l2_loss 0.0379; lr 0.0022:  98%|█████████▊| 197/200 [00:40<00:00,  5.45it/s]\u001b[A\n",
      "hailey_01: loss 0.0574; l2_loss 0.0378; lr 0.0022:  98%|█████████▊| 197/200 [00:40<00:00,  5.45it/s]\u001b[A\n",
      "hailey_01: loss 0.0574; l2_loss 0.0378; lr 0.0022:  99%|█████████▉| 198/200 [00:40<00:00,  5.42it/s]\u001b[A"
     ]
    },
    {
     "name": "stdout",
     "output_type": "stream",
     "text": [
      "hailey_01  Loss 0.0575\n",
      "hailey_01  Loss 0.0574\n"
     ]
    },
    {
     "name": "stderr",
     "output_type": "stream",
     "text": [
      "\n",
      "hailey_01: loss 0.0572; l2_loss 0.0377; lr 0.0022:  99%|█████████▉| 198/200 [00:40<00:00,  5.42it/s]\u001b[A\n",
      "hailey_01: loss 0.0572; l2_loss 0.0377; lr 0.0022: 100%|█████████▉| 199/200 [00:40<00:00,  5.40it/s]\u001b[A\n",
      "hailey_01: loss 0.0572; l2_loss 0.0378; lr 0.0022: 100%|█████████▉| 199/200 [00:40<00:00,  5.40it/s]\u001b[A\n",
      "hailey_01: loss 0.0572; l2_loss 0.0378; lr 0.0022: 100%|██████████| 200/200 [00:40<00:00,  5.42it/s]\u001b[A\n",
      "                                                                                                    \u001b[A"
     ]
    },
    {
     "name": "stdout",
     "output_type": "stream",
     "text": [
      "hailey_01  Loss 0.0572\n",
      "hailey_01  Loss 0.0572\n"
     ]
    },
    {
     "name": "stderr",
     "output_type": "stream",
     "text": [
      "\r",
      "100%|██████████| 1/1 [00:42<00:00, 42.95s/it]"
     ]
    },
    {
     "name": "stdout",
     "output_type": "stream",
     "text": [
      "1x512 latent generated and save to\n",
      "lt_update/hailey_01_0.057_disc.npy\n"
     ]
    },
    {
     "name": "stderr",
     "output_type": "stream",
     "text": [
      "\n"
     ]
    }
   ],
   "source": [
    "optimizer.loss('lt/hailey_01.npy','aligned_images/hailey_01.png','lt_update', it_flag=2, multi_style_loss=False, disc_loss=True)"
   ]
  },
  {
   "cell_type": "code",
   "execution_count": 4,
   "metadata": {},
   "outputs": [
    {
     "name": "stdout",
     "output_type": "stream",
     "text": [
      "Flag number is wrong, the iteration set to 200\n",
      "Using VGG style loss...\n"
     ]
    },
    {
     "name": "stderr",
     "output_type": "stream",
     "text": [
      "  0%|          | 0/1 [00:00<?, ?it/s]\n",
      "  0%|          | 0/200 [00:00<?, ?it/s]\u001b[A\n",
      "hailey_01 Loss: 44.85:   0%|          | 0/200 [00:07<?, ?it/s]\u001b[A\n",
      "hailey_01 Loss: 44.85:   0%|          | 1/200 [00:07<23:33,  7.10s/it]\u001b[A\n",
      "hailey_01 Loss: 44.98:   0%|          | 1/200 [00:07<23:33,  7.10s/it]\u001b[A\n",
      "hailey_01 Loss: 44.98:   1%|          | 2/200 [00:07<16:50,  5.10s/it]\u001b[A\n",
      "hailey_01 Loss: 44.43:   1%|          | 2/200 [00:07<16:50,  5.10s/it]\u001b[A\n",
      "hailey_01 Loss: 44.43:   2%|▏         | 3/200 [00:07<12:05,  3.68s/it]\u001b[A\n",
      "hailey_01 Loss: 44.01:   2%|▏         | 3/200 [00:08<12:05,  3.68s/it]\u001b[A\n",
      "hailey_01 Loss: 44.01:   2%|▏         | 4/200 [00:08<08:48,  2.70s/it]\u001b[A\n",
      "hailey_01 Loss: 43.66:   2%|▏         | 4/200 [00:08<08:48,  2.70s/it]\u001b[A\n",
      "hailey_01 Loss: 43.66:   2%|▎         | 5/200 [00:08<06:31,  2.01s/it]\u001b[A\n",
      "hailey_01 Loss: 43.28:   2%|▎         | 5/200 [00:09<06:31,  2.01s/it]\u001b[A\n",
      "hailey_01 Loss: 43.28:   3%|▎         | 6/200 [00:09<05:01,  1.55s/it]\u001b[A\n",
      "hailey_01 Loss: 42.96:   3%|▎         | 6/200 [00:09<05:01,  1.55s/it]\u001b[A\n",
      "hailey_01 Loss: 42.96:   4%|▎         | 7/200 [00:09<03:52,  1.21s/it]\u001b[A\n",
      "hailey_01 Loss: 42.52:   4%|▎         | 7/200 [00:09<03:52,  1.21s/it]\u001b[A\n",
      "hailey_01 Loss: 42.52:   4%|▍         | 8/200 [00:09<03:04,  1.04it/s]\u001b[A\n",
      "hailey_01 Loss: 42.10:   4%|▍         | 8/200 [00:10<03:04,  1.04it/s]\u001b[A\n",
      "hailey_01 Loss: 42.10:   4%|▍         | 9/200 [00:10<02:32,  1.26it/s]\u001b[A\n",
      "hailey_01 Loss: 41.70:   4%|▍         | 9/200 [00:10<02:32,  1.26it/s]\u001b[A\n",
      "hailey_01 Loss: 41.70:   5%|▌         | 10/200 [00:10<02:09,  1.47it/s]\u001b[A\n",
      "hailey_01 Loss: 41.39:   5%|▌         | 10/200 [00:11<02:09,  1.47it/s]\u001b[A\n",
      "hailey_01 Loss: 41.39:   6%|▌         | 11/200 [00:11<01:54,  1.66it/s]\u001b[A\n",
      "hailey_01 Loss: 41.04:   6%|▌         | 11/200 [00:11<01:54,  1.66it/s]\u001b[A\n",
      "hailey_01 Loss: 41.04:   6%|▌         | 12/200 [00:11<01:42,  1.83it/s]\u001b[A\n",
      "hailey_01 Loss: 40.61:   6%|▌         | 12/200 [00:12<01:42,  1.83it/s]\u001b[A\n",
      "hailey_01 Loss: 40.61:   6%|▋         | 13/200 [00:12<01:35,  1.95it/s]\u001b[A\n",
      "hailey_01 Loss: 40.27:   6%|▋         | 13/200 [00:12<01:35,  1.95it/s]\u001b[A\n",
      "hailey_01 Loss: 40.27:   7%|▋         | 14/200 [00:12<01:29,  2.07it/s]\u001b[A\n",
      "hailey_01 Loss: 39.91:   7%|▋         | 14/200 [00:12<01:29,  2.07it/s]\u001b[A\n",
      "hailey_01 Loss: 39.91:   8%|▊         | 15/200 [00:12<01:27,  2.11it/s]\u001b[A\n",
      "hailey_01 Loss: 39.51:   8%|▊         | 15/200 [00:13<01:27,  2.11it/s]\u001b[A\n",
      "hailey_01 Loss: 39.51:   8%|▊         | 16/200 [00:13<01:22,  2.23it/s]\u001b[A\n",
      "hailey_01 Loss: 39.07:   8%|▊         | 16/200 [00:13<01:22,  2.23it/s]\u001b[A\n",
      "hailey_01 Loss: 39.07:   8%|▊         | 17/200 [00:13<01:24,  2.18it/s]\u001b[A\n",
      "hailey_01 Loss: 38.69:   8%|▊         | 17/200 [00:14<01:24,  2.18it/s]\u001b[A\n",
      "hailey_01 Loss: 38.69:   9%|▉         | 18/200 [00:14<01:19,  2.29it/s]\u001b[A\n",
      "hailey_01 Loss: 38.32:   9%|▉         | 18/200 [00:14<01:19,  2.29it/s]\u001b[A\n",
      "hailey_01 Loss: 38.32:  10%|▉         | 19/200 [00:14<01:20,  2.24it/s]\u001b[A\n",
      "hailey_01 Loss: 37.86:  10%|▉         | 19/200 [00:15<01:20,  2.24it/s]\u001b[A\n",
      "hailey_01 Loss: 37.86:  10%|█         | 20/200 [00:15<01:16,  2.35it/s]\u001b[A\n",
      "hailey_01 Loss: 37.36:  10%|█         | 20/200 [00:15<01:16,  2.35it/s]\u001b[A\n",
      "hailey_01 Loss: 37.36:  10%|█         | 21/200 [00:15<01:16,  2.34it/s]\u001b[A\n",
      "hailey_01 Loss: 36.94:  10%|█         | 21/200 [00:15<01:16,  2.34it/s]\u001b[A\n",
      "hailey_01 Loss: 36.94:  11%|█         | 22/200 [00:15<01:16,  2.34it/s]\u001b[A\n",
      "hailey_01 Loss: 36.45:  11%|█         | 22/200 [00:16<01:16,  2.34it/s]\u001b[A\n",
      "hailey_01 Loss: 36.45:  12%|█▏        | 23/200 [00:16<01:13,  2.41it/s]\u001b[A\n",
      "hailey_01 Loss: 36.00:  12%|█▏        | 23/200 [00:16<01:13,  2.41it/s]\u001b[A\n",
      "hailey_01 Loss: 36.00:  12%|█▏        | 24/200 [00:16<01:12,  2.42it/s]\u001b[A\n",
      "hailey_01 Loss: 35.54:  12%|█▏        | 24/200 [00:17<01:12,  2.42it/s]\u001b[A\n",
      "hailey_01 Loss: 35.54:  12%|█▎        | 25/200 [00:17<01:12,  2.40it/s]\u001b[A\n",
      "hailey_01 Loss: 35.05:  12%|█▎        | 25/200 [00:17<01:12,  2.40it/s]\u001b[A\n",
      "hailey_01 Loss: 35.05:  13%|█▎        | 26/200 [00:17<01:12,  2.39it/s]\u001b[A\n",
      "hailey_01 Loss: 34.66:  13%|█▎        | 26/200 [00:17<01:12,  2.39it/s]\u001b[A\n",
      "hailey_01 Loss: 34.66:  14%|█▎        | 27/200 [00:17<01:12,  2.38it/s]\u001b[A\n",
      "hailey_01 Loss: 34.27:  14%|█▎        | 27/200 [00:18<01:12,  2.38it/s]\u001b[A\n",
      "hailey_01 Loss: 34.27:  14%|█▍        | 28/200 [00:18<01:11,  2.39it/s]\u001b[A\n",
      "hailey_01 Loss: 33.98:  14%|█▍        | 28/200 [00:18<01:11,  2.39it/s]\u001b[A\n",
      "hailey_01 Loss: 33.98:  14%|█▍        | 29/200 [00:18<01:12,  2.37it/s]\u001b[A\n",
      "hailey_01 Loss: 33.66:  14%|█▍        | 29/200 [00:19<01:12,  2.37it/s]\u001b[A\n",
      "hailey_01 Loss: 33.66:  15%|█▌        | 30/200 [00:19<01:11,  2.38it/s]\u001b[A\n",
      "hailey_01 Loss: 33.39:  15%|█▌        | 30/200 [00:19<01:11,  2.38it/s]\u001b[A\n",
      "hailey_01 Loss: 33.39:  16%|█▌        | 31/200 [00:19<01:10,  2.39it/s]\u001b[A\n",
      "hailey_01 Loss: 33.14:  16%|█▌        | 31/200 [00:20<01:10,  2.39it/s]\u001b[A\n",
      "hailey_01 Loss: 33.14:  16%|█▌        | 32/200 [00:20<01:08,  2.46it/s]\u001b[A\n",
      "hailey_01 Loss: 32.92:  16%|█▌        | 32/200 [00:20<01:08,  2.46it/s]\u001b[A\n",
      "hailey_01 Loss: 32.92:  16%|█▋        | 33/200 [00:20<01:07,  2.47it/s]\u001b[A\n",
      "hailey_01 Loss: 32.76:  16%|█▋        | 33/200 [00:20<01:07,  2.47it/s]\u001b[A\n",
      "hailey_01 Loss: 32.76:  17%|█▋        | 34/200 [00:20<01:05,  2.53it/s]\u001b[A\n",
      "hailey_01 Loss: 32.58:  17%|█▋        | 34/200 [00:21<01:05,  2.53it/s]\u001b[A\n",
      "hailey_01 Loss: 32.58:  18%|█▊        | 35/200 [00:21<01:04,  2.54it/s]\u001b[A\n",
      "hailey_01 Loss: 32.46:  18%|█▊        | 35/200 [00:21<01:04,  2.54it/s]\u001b[A\n",
      "hailey_01 Loss: 32.46:  18%|█▊        | 36/200 [00:21<01:04,  2.53it/s]\u001b[A\n",
      "hailey_01 Loss: 32.24:  18%|█▊        | 36/200 [00:21<01:04,  2.53it/s]\u001b[A\n",
      "hailey_01 Loss: 32.24:  18%|█▊        | 37/200 [00:21<01:04,  2.53it/s]\u001b[A\n",
      "hailey_01 Loss: 32.07:  18%|█▊        | 37/200 [00:22<01:04,  2.53it/s]\u001b[A\n",
      "hailey_01 Loss: 32.07:  19%|█▉        | 38/200 [00:22<01:04,  2.50it/s]\u001b[A\n",
      "hailey_01 Loss: 31.96:  19%|█▉        | 38/200 [00:22<01:04,  2.50it/s]\u001b[A\n",
      "hailey_01 Loss: 31.96:  20%|█▉        | 39/200 [00:22<01:05,  2.46it/s]\u001b[A\n",
      "hailey_01 Loss: 31.81:  20%|█▉        | 39/200 [00:23<01:05,  2.46it/s]\u001b[A\n",
      "hailey_01 Loss: 31.81:  20%|██        | 40/200 [00:23<01:05,  2.43it/s]\u001b[A\n",
      "hailey_01 Loss: 31.68:  20%|██        | 40/200 [00:23<01:05,  2.43it/s]\u001b[A\n",
      "hailey_01 Loss: 31.68:  20%|██        | 41/200 [00:23<01:07,  2.37it/s]\u001b[A\n",
      "hailey_01 Loss: 31.57:  20%|██        | 41/200 [00:24<01:07,  2.37it/s]\u001b[A\n",
      "hailey_01 Loss: 31.57:  21%|██        | 42/200 [00:24<01:05,  2.40it/s]\u001b[A\n",
      "hailey_01 Loss: 31.45:  21%|██        | 42/200 [00:24<01:05,  2.40it/s]\u001b[A\n",
      "hailey_01 Loss: 31.45:  22%|██▏       | 43/200 [00:24<01:05,  2.39it/s]\u001b[A\n",
      "hailey_01 Loss: 31.35:  22%|██▏       | 43/200 [00:24<01:05,  2.39it/s]\u001b[A\n",
      "hailey_01 Loss: 31.35:  22%|██▏       | 44/200 [00:24<01:05,  2.39it/s]\u001b[A\n",
      "hailey_01 Loss: 31.27:  22%|██▏       | 44/200 [00:25<01:05,  2.39it/s]\u001b[A\n",
      "hailey_01 Loss: 31.27:  22%|██▎       | 45/200 [00:25<01:04,  2.40it/s]\u001b[A\n",
      "hailey_01 Loss: 31.14:  22%|██▎       | 45/200 [00:25<01:04,  2.40it/s]\u001b[A\n",
      "hailey_01 Loss: 31.14:  23%|██▎       | 46/200 [00:25<01:04,  2.37it/s]\u001b[A\n",
      "hailey_01 Loss: 31.02:  23%|██▎       | 46/200 [00:26<01:04,  2.37it/s]\u001b[A\n",
      "hailey_01 Loss: 31.02:  24%|██▎       | 47/200 [00:26<01:15,  2.04it/s]\u001b[A\n",
      "hailey_01 Loss: 30.94:  24%|██▎       | 47/200 [00:26<01:15,  2.04it/s]\u001b[A\n",
      "hailey_01 Loss: 30.94:  24%|██▍       | 48/200 [00:26<01:11,  2.13it/s]\u001b[A\n",
      "hailey_01 Loss: 30.85:  24%|██▍       | 48/200 [00:27<01:11,  2.13it/s]\u001b[A\n",
      "hailey_01 Loss: 30.85:  24%|██▍       | 49/200 [00:27<01:07,  2.22it/s]\u001b[A\n",
      "hailey_01 Loss: 30.77:  24%|██▍       | 49/200 [00:27<01:07,  2.22it/s]\u001b[A\n",
      "hailey_01 Loss: 30.77:  25%|██▌       | 50/200 [00:27<01:04,  2.34it/s]\u001b[A\n",
      "hailey_01 Loss: 30.69:  25%|██▌       | 50/200 [00:28<01:04,  2.34it/s]\u001b[A\n",
      "hailey_01 Loss: 30.69:  26%|██▌       | 51/200 [00:28<01:02,  2.39it/s]\u001b[A\n",
      "hailey_01 Loss: 30.62:  26%|██▌       | 51/200 [00:28<01:02,  2.39it/s]\u001b[A\n",
      "hailey_01 Loss: 30.62:  26%|██▌       | 52/200 [00:28<01:00,  2.43it/s]\u001b[A\n",
      "hailey_01 Loss: 30.55:  26%|██▌       | 52/200 [00:28<01:00,  2.43it/s]\u001b[A\n",
      "hailey_01 Loss: 30.55:  26%|██▋       | 53/200 [00:28<00:59,  2.46it/s]\u001b[A\n",
      "hailey_01 Loss: 30.59:  26%|██▋       | 53/200 [00:29<00:59,  2.46it/s]\u001b[A\n",
      "hailey_01 Loss: 30.59:  27%|██▋       | 54/200 [00:29<00:59,  2.44it/s]\u001b[A\n",
      "hailey_01 Loss: 30.40:  27%|██▋       | 54/200 [00:29<00:59,  2.44it/s]\u001b[A\n",
      "hailey_01 Loss: 30.40:  28%|██▊       | 55/200 [00:29<00:59,  2.45it/s]\u001b[A\n",
      "hailey_01 Loss: 30.33:  28%|██▊       | 55/200 [00:30<00:59,  2.45it/s]\u001b[A\n",
      "hailey_01 Loss: 30.33:  28%|██▊       | 56/200 [00:30<00:57,  2.50it/s]\u001b[A\n",
      "hailey_01 Loss: 30.25:  28%|██▊       | 56/200 [00:30<00:57,  2.50it/s]\u001b[A\n",
      "hailey_01 Loss: 30.25:  28%|██▊       | 57/200 [00:30<00:56,  2.52it/s]\u001b[A\n",
      "hailey_01 Loss: 30.16:  28%|██▊       | 57/200 [00:30<00:56,  2.52it/s]\u001b[A\n",
      "hailey_01 Loss: 30.16:  29%|██▉       | 58/200 [00:30<00:56,  2.51it/s]\u001b[A\n",
      "hailey_01 Loss: 30.08:  29%|██▉       | 58/200 [00:31<00:56,  2.51it/s]\u001b[A\n",
      "hailey_01 Loss: 30.08:  30%|██▉       | 59/200 [00:31<00:56,  2.50it/s]\u001b[A\n",
      "hailey_01 Loss: 30.00:  30%|██▉       | 59/200 [00:31<00:56,  2.50it/s]\u001b[A\n",
      "hailey_01 Loss: 30.00:  30%|███       | 60/200 [00:31<00:56,  2.48it/s]\u001b[A\n",
      "hailey_01 Loss: 29.93:  30%|███       | 60/200 [00:32<00:56,  2.48it/s]\u001b[A\n",
      "hailey_01 Loss: 29.93:  30%|███       | 61/200 [00:32<00:57,  2.44it/s]\u001b[A\n",
      "hailey_01 Loss: 29.84:  30%|███       | 61/200 [00:32<00:57,  2.44it/s]\u001b[A\n",
      "hailey_01 Loss: 29.84:  31%|███       | 62/200 [00:32<00:56,  2.43it/s]\u001b[A\n",
      "hailey_01 Loss: 29.77:  31%|███       | 62/200 [00:32<00:56,  2.43it/s]\u001b[A\n",
      "hailey_01 Loss: 29.77:  32%|███▏      | 63/200 [00:32<00:56,  2.42it/s]\u001b[A\n",
      "hailey_01 Loss: 29.74:  32%|███▏      | 63/200 [00:33<00:56,  2.42it/s]\u001b[A\n",
      "hailey_01 Loss: 29.74:  32%|███▏      | 64/200 [00:33<00:56,  2.40it/s]\u001b[A\n",
      "hailey_01 Loss: 29.67:  32%|███▏      | 64/200 [00:33<00:56,  2.40it/s]\u001b[A\n",
      "hailey_01 Loss: 29.67:  32%|███▎      | 65/200 [00:33<00:56,  2.38it/s]\u001b[A\n",
      "hailey_01 Loss: 29.67:  32%|███▎      | 65/200 [00:34<00:56,  2.38it/s]\u001b[A\n",
      "hailey_01 Loss: 29.67:  33%|███▎      | 66/200 [00:34<00:54,  2.45it/s]\u001b[A\n",
      "hailey_01 Loss: 29.64:  33%|███▎      | 66/200 [00:34<00:54,  2.45it/s]\u001b[A\n",
      "hailey_01 Loss: 29.64:  34%|███▎      | 67/200 [00:34<00:54,  2.43it/s]\u001b[A\n",
      "hailey_01 Loss: 29.48:  34%|███▎      | 67/200 [00:34<00:54,  2.43it/s]\u001b[A\n",
      "hailey_01 Loss: 29.48:  34%|███▍      | 68/200 [00:34<00:55,  2.40it/s]\u001b[A\n",
      "hailey_01 Loss: 29.43:  34%|███▍      | 68/200 [00:35<00:55,  2.40it/s]\u001b[A\n",
      "hailey_01 Loss: 29.43:  34%|███▍      | 69/200 [00:35<00:53,  2.45it/s]\u001b[A\n",
      "hailey_01 Loss: 29.38:  34%|███▍      | 69/200 [00:35<00:53,  2.45it/s]\u001b[A\n",
      "hailey_01 Loss: 29.38:  35%|███▌      | 70/200 [00:35<00:53,  2.43it/s]\u001b[A\n",
      "hailey_01 Loss: 29.32:  35%|███▌      | 70/200 [00:36<00:53,  2.43it/s]\u001b[A\n",
      "hailey_01 Loss: 29.32:  36%|███▌      | 71/200 [00:36<00:51,  2.50it/s]\u001b[A\n",
      "hailey_01 Loss: 29.26:  36%|███▌      | 71/200 [00:36<00:51,  2.50it/s]\u001b[A\n",
      "hailey_01 Loss: 29.26:  36%|███▌      | 72/200 [00:36<00:50,  2.51it/s]\u001b[A\n",
      "hailey_01 Loss: 29.27:  36%|███▌      | 72/200 [00:36<00:50,  2.51it/s]\u001b[A\n",
      "hailey_01 Loss: 29.27:  36%|███▋      | 73/200 [00:36<00:49,  2.54it/s]\u001b[A\n",
      "hailey_01 Loss: 29.17:  36%|███▋      | 73/200 [00:37<00:49,  2.54it/s]\u001b[A\n",
      "hailey_01 Loss: 29.17:  37%|███▋      | 74/200 [00:37<00:49,  2.53it/s]\u001b[A\n",
      "hailey_01 Loss: 29.13:  37%|███▋      | 74/200 [00:37<00:49,  2.53it/s]\u001b[A\n",
      "hailey_01 Loss: 29.13:  38%|███▊      | 75/200 [00:37<00:50,  2.48it/s]\u001b[A\n",
      "hailey_01 Loss: 29.07:  38%|███▊      | 75/200 [00:38<00:50,  2.48it/s]\u001b[A\n",
      "hailey_01 Loss: 29.07:  38%|███▊      | 76/200 [00:38<00:51,  2.43it/s]\u001b[A\n",
      "hailey_01 Loss: 29.02:  38%|███▊      | 76/200 [00:38<00:51,  2.43it/s]\u001b[A\n",
      "hailey_01 Loss: 29.02:  38%|███▊      | 77/200 [00:38<00:50,  2.42it/s]\u001b[A\n",
      "hailey_01 Loss: 29.00:  38%|███▊      | 77/200 [00:38<00:50,  2.42it/s]\u001b[A\n",
      "hailey_01 Loss: 29.00:  39%|███▉      | 78/200 [00:38<00:50,  2.44it/s]\u001b[A\n",
      "hailey_01 Loss: 28.93:  39%|███▉      | 78/200 [00:39<00:50,  2.44it/s]\u001b[A\n",
      "hailey_01 Loss: 28.93:  40%|███▉      | 79/200 [00:39<00:49,  2.45it/s]\u001b[A\n",
      "hailey_01 Loss: 28.87:  40%|███▉      | 79/200 [00:39<00:49,  2.45it/s]\u001b[A\n",
      "hailey_01 Loss: 28.87:  40%|████      | 80/200 [00:39<00:48,  2.45it/s]\u001b[A\n",
      "hailey_01 Loss: 28.81:  40%|████      | 80/200 [00:40<00:48,  2.45it/s]\u001b[A\n",
      "hailey_01 Loss: 28.81:  40%|████      | 81/200 [00:40<00:47,  2.49it/s]\u001b[A\n",
      "hailey_01 Loss: 28.75:  40%|████      | 81/200 [00:40<00:47,  2.49it/s]\u001b[A\n",
      "hailey_01 Loss: 28.75:  41%|████      | 82/200 [00:40<00:46,  2.54it/s]\u001b[A\n",
      "hailey_01 Loss: 28.77:  41%|████      | 82/200 [00:40<00:46,  2.54it/s]\u001b[A\n",
      "hailey_01 Loss: 28.77:  42%|████▏     | 83/200 [00:40<00:45,  2.55it/s]\u001b[A\n",
      "hailey_01 Loss: 28.66:  42%|████▏     | 83/200 [00:41<00:45,  2.55it/s]\u001b[A\n",
      "hailey_01 Loss: 28.66:  42%|████▏     | 84/200 [00:41<00:45,  2.56it/s]\u001b[A\n",
      "hailey_01 Loss: 28.59:  42%|████▏     | 84/200 [00:41<00:45,  2.56it/s]\u001b[A\n",
      "hailey_01 Loss: 28.59:  42%|████▎     | 85/200 [00:41<00:46,  2.49it/s]\u001b[A\n",
      "hailey_01 Loss: 28.51:  42%|████▎     | 85/200 [00:42<00:46,  2.49it/s]\u001b[A\n",
      "hailey_01 Loss: 28.51:  43%|████▎     | 86/200 [00:42<00:45,  2.52it/s]\u001b[A\n",
      "hailey_01 Loss: 28.44:  43%|████▎     | 86/200 [00:42<00:45,  2.52it/s]\u001b[A\n",
      "hailey_01 Loss: 28.44:  44%|████▎     | 87/200 [00:42<00:45,  2.47it/s]\u001b[A\n",
      "hailey_01 Loss: 28.37:  44%|████▎     | 87/200 [00:42<00:45,  2.47it/s]\u001b[A\n",
      "hailey_01 Loss: 28.37:  44%|████▍     | 88/200 [00:43<00:45,  2.44it/s]\u001b[A\n",
      "hailey_01 Loss: 28.32:  44%|████▍     | 88/200 [00:43<00:45,  2.44it/s]\u001b[A\n",
      "hailey_01 Loss: 28.32:  44%|████▍     | 89/200 [00:43<00:45,  2.45it/s]\u001b[A\n",
      "hailey_01 Loss: 28.28:  44%|████▍     | 89/200 [00:43<00:45,  2.45it/s]\u001b[A\n",
      "hailey_01 Loss: 28.28:  45%|████▌     | 90/200 [00:43<00:44,  2.46it/s]\u001b[A\n",
      "hailey_01 Loss: 28.24:  45%|████▌     | 90/200 [00:44<00:44,  2.46it/s]\u001b[A\n",
      "hailey_01 Loss: 28.24:  46%|████▌     | 91/200 [00:44<00:44,  2.48it/s]\u001b[A\n",
      "hailey_01 Loss: 28.18:  46%|████▌     | 91/200 [00:44<00:44,  2.48it/s]\u001b[A\n",
      "hailey_01 Loss: 28.18:  46%|████▌     | 92/200 [00:44<00:43,  2.49it/s]\u001b[A\n",
      "hailey_01 Loss: 28.22:  46%|████▌     | 92/200 [00:44<00:43,  2.49it/s]\u001b[A\n",
      "hailey_01 Loss: 28.22:  46%|████▋     | 93/200 [00:44<00:42,  2.50it/s]\u001b[A\n",
      "hailey_01 Loss: 28.09:  46%|████▋     | 93/200 [00:45<00:42,  2.50it/s]\u001b[A\n",
      "hailey_01 Loss: 28.09:  47%|████▋     | 94/200 [00:45<00:42,  2.51it/s]\u001b[A\n",
      "hailey_01 Loss: 28.06:  47%|████▋     | 94/200 [00:45<00:42,  2.51it/s]\u001b[A\n",
      "hailey_01 Loss: 28.06:  48%|████▊     | 95/200 [00:45<00:41,  2.53it/s]\u001b[A\n",
      "hailey_01 Loss: 28.07:  48%|████▊     | 95/200 [00:46<00:41,  2.53it/s]\u001b[A\n",
      "hailey_01 Loss: 28.07:  48%|████▊     | 96/200 [00:46<00:41,  2.48it/s]\u001b[A\n",
      "hailey_01 Loss: 27.97:  48%|████▊     | 96/200 [00:46<00:41,  2.48it/s]\u001b[A\n",
      "hailey_01 Loss: 27.97:  48%|████▊     | 97/200 [00:46<00:42,  2.40it/s]\u001b[A\n",
      "hailey_01 Loss: 27.97:  48%|████▊     | 97/200 [00:47<00:42,  2.40it/s]\u001b[A\n",
      "hailey_01 Loss: 27.97:  49%|████▉     | 98/200 [00:47<00:41,  2.43it/s]\u001b[A\n",
      "hailey_01 Loss: 27.83:  49%|████▉     | 98/200 [00:47<00:41,  2.43it/s]\u001b[A\n",
      "hailey_01 Loss: 27.83:  50%|████▉     | 99/200 [00:47<00:41,  2.43it/s]\u001b[A\n",
      "hailey_01 Loss: 27.74:  50%|████▉     | 99/200 [00:47<00:41,  2.43it/s]\u001b[A\n",
      "hailey_01 Loss: 27.74:  50%|█████     | 100/200 [00:47<00:40,  2.50it/s]\u001b[A\n",
      "hailey_01 Loss: 27.71:  50%|█████     | 100/200 [00:48<00:40,  2.50it/s]\u001b[A\n",
      "hailey_01 Loss: 27.71:  50%|█████     | 101/200 [00:48<00:39,  2.48it/s]\u001b[A\n",
      "hailey_01 Loss: 27.64:  50%|█████     | 101/200 [00:48<00:39,  2.48it/s]\u001b[A\n",
      "hailey_01 Loss: 27.64:  51%|█████     | 102/200 [00:48<00:40,  2.44it/s]\u001b[A\n",
      "hailey_01 Loss: 27.59:  51%|█████     | 102/200 [00:49<00:40,  2.44it/s]\u001b[A\n",
      "hailey_01 Loss: 27.59:  52%|█████▏    | 103/200 [00:49<00:39,  2.43it/s]\u001b[A\n",
      "hailey_01 Loss: 27.55:  52%|█████▏    | 103/200 [00:49<00:39,  2.43it/s]\u001b[A\n",
      "hailey_01 Loss: 27.55:  52%|█████▏    | 104/200 [00:49<00:41,  2.33it/s]\u001b[A\n",
      "hailey_01 Loss: 27.51:  52%|█████▏    | 104/200 [00:50<00:41,  2.33it/s]\u001b[A\n",
      "hailey_01 Loss: 27.51:  52%|█████▎    | 105/200 [00:50<00:42,  2.25it/s]\u001b[A\n",
      "hailey_01 Loss: 27.50:  52%|█████▎    | 105/200 [00:50<00:42,  2.25it/s]\u001b[A\n",
      "hailey_01 Loss: 27.50:  53%|█████▎    | 106/200 [00:50<00:40,  2.32it/s]\u001b[A\n",
      "hailey_01 Loss: 27.44:  53%|█████▎    | 106/200 [00:50<00:40,  2.32it/s]\u001b[A\n",
      "hailey_01 Loss: 27.44:  54%|█████▎    | 107/200 [00:50<00:39,  2.38it/s]\u001b[A\n",
      "hailey_01 Loss: 27.40:  54%|█████▎    | 107/200 [00:51<00:39,  2.38it/s]\u001b[A\n",
      "hailey_01 Loss: 27.40:  54%|█████▍    | 108/200 [00:51<00:38,  2.39it/s]\u001b[A\n",
      "hailey_01 Loss: 27.36:  54%|█████▍    | 108/200 [00:51<00:38,  2.39it/s]\u001b[A\n"
     ]
    },
    {
     "name": "stderr",
     "output_type": "stream",
     "text": [
      "hailey_01 Loss: 27.36:  55%|█████▍    | 109/200 [00:51<00:37,  2.41it/s]\u001b[A\n",
      "hailey_01 Loss: 27.34:  55%|█████▍    | 109/200 [00:52<00:37,  2.41it/s]\u001b[A\n",
      "hailey_01 Loss: 27.34:  55%|█████▌    | 110/200 [00:52<00:36,  2.46it/s]\u001b[A\n",
      "hailey_01 Loss: 27.32:  55%|█████▌    | 110/200 [00:52<00:36,  2.46it/s]\u001b[A\n",
      "hailey_01 Loss: 27.32:  56%|█████▌    | 111/200 [00:52<00:36,  2.42it/s]\u001b[A\n",
      "hailey_01 Loss: 27.27:  56%|█████▌    | 111/200 [00:52<00:36,  2.42it/s]\u001b[A\n",
      "hailey_01 Loss: 27.27:  56%|█████▌    | 112/200 [00:52<00:36,  2.39it/s]\u001b[A\n",
      "hailey_01 Loss: 27.25:  56%|█████▌    | 112/200 [00:53<00:36,  2.39it/s]\u001b[A\n",
      "hailey_01 Loss: 27.25:  56%|█████▋    | 113/200 [00:53<00:36,  2.37it/s]\u001b[A\n",
      "hailey_01 Loss: 27.18:  56%|█████▋    | 113/200 [00:53<00:36,  2.37it/s]\u001b[A\n",
      "hailey_01 Loss: 27.18:  57%|█████▋    | 114/200 [00:53<00:37,  2.31it/s]\u001b[A\n",
      "hailey_01 Loss: 27.21:  57%|█████▋    | 114/200 [00:54<00:37,  2.31it/s]\u001b[A\n",
      "hailey_01 Loss: 27.21:  57%|█████▊    | 115/200 [00:54<00:36,  2.33it/s]\u001b[A\n",
      "hailey_01 Loss: 27.10:  57%|█████▊    | 115/200 [00:54<00:36,  2.33it/s]\u001b[A\n",
      "hailey_01 Loss: 27.10:  58%|█████▊    | 116/200 [00:54<00:36,  2.32it/s]\u001b[A\n",
      "hailey_01 Loss: 27.04:  58%|█████▊    | 116/200 [00:55<00:36,  2.32it/s]\u001b[A\n",
      "hailey_01 Loss: 27.04:  58%|█████▊    | 117/200 [00:55<00:35,  2.33it/s]\u001b[A\n",
      "hailey_01 Loss: 27.00:  58%|█████▊    | 117/200 [00:55<00:35,  2.33it/s]\u001b[A\n",
      "hailey_01 Loss: 27.00:  59%|█████▉    | 118/200 [00:55<00:35,  2.29it/s]\u001b[A\n",
      "hailey_01 Loss: 26.95:  59%|█████▉    | 118/200 [00:55<00:35,  2.29it/s]\u001b[A\n",
      "hailey_01 Loss: 26.95:  60%|█████▉    | 119/200 [00:55<00:35,  2.31it/s]\u001b[A\n",
      "hailey_01 Loss: 26.97:  60%|█████▉    | 119/200 [00:56<00:35,  2.31it/s]\u001b[A\n",
      "hailey_01 Loss: 26.97:  60%|██████    | 120/200 [00:56<00:35,  2.28it/s]\u001b[A\n",
      "hailey_01 Loss: 27.03:  60%|██████    | 120/200 [00:56<00:35,  2.28it/s]\u001b[A\n",
      "hailey_01 Loss: 27.03:  60%|██████    | 121/200 [00:56<00:34,  2.30it/s]\u001b[A\n",
      "hailey_01 Loss: 26.91:  60%|██████    | 121/200 [00:57<00:34,  2.30it/s]\u001b[A\n",
      "hailey_01 Loss: 26.91:  61%|██████    | 122/200 [00:57<00:34,  2.28it/s]\u001b[A\n",
      "hailey_01 Loss: 26.95:  61%|██████    | 122/200 [00:57<00:34,  2.28it/s]\u001b[A\n",
      "hailey_01 Loss: 26.95:  62%|██████▏   | 123/200 [00:57<00:34,  2.26it/s]\u001b[A\n",
      "hailey_01 Loss: 26.84:  62%|██████▏   | 123/200 [00:58<00:34,  2.26it/s]\u001b[A\n",
      "hailey_01 Loss: 26.84:  62%|██████▏   | 124/200 [00:58<00:33,  2.25it/s]\u001b[A\n",
      "hailey_01 Loss: 26.94:  62%|██████▏   | 124/200 [00:58<00:33,  2.25it/s]\u001b[A\n",
      "hailey_01 Loss: 26.94:  62%|██████▎   | 125/200 [00:58<00:32,  2.29it/s]\u001b[A\n",
      "hailey_01 Loss: 26.87:  62%|██████▎   | 125/200 [00:59<00:32,  2.29it/s]\u001b[A\n",
      "hailey_01 Loss: 26.87:  63%|██████▎   | 126/200 [00:59<00:32,  2.25it/s]\u001b[A\n",
      "hailey_01 Loss: 26.73:  63%|██████▎   | 126/200 [00:59<00:32,  2.25it/s]\u001b[A\n",
      "hailey_01 Loss: 26.73:  64%|██████▎   | 127/200 [00:59<00:32,  2.24it/s]\u001b[A\n",
      "hailey_01 Loss: 26.86:  64%|██████▎   | 127/200 [00:59<00:32,  2.24it/s]\u001b[A\n",
      "hailey_01 Loss: 26.86:  64%|██████▍   | 128/200 [00:59<00:32,  2.23it/s]\u001b[A\n",
      "hailey_01 Loss: 26.78:  64%|██████▍   | 128/200 [01:00<00:32,  2.23it/s]\u001b[A\n",
      "hailey_01 Loss: 26.78:  64%|██████▍   | 129/200 [01:00<00:31,  2.25it/s]\u001b[A\n",
      "hailey_01 Loss: 26.81:  64%|██████▍   | 129/200 [01:00<00:31,  2.25it/s]\u001b[A\n",
      "hailey_01 Loss: 26.81:  65%|██████▌   | 130/200 [01:00<00:31,  2.24it/s]\u001b[A\n",
      "hailey_01 Loss: 26.68:  65%|██████▌   | 130/200 [01:01<00:31,  2.24it/s]\u001b[A\n",
      "hailey_01 Loss: 26.68:  66%|██████▌   | 131/200 [01:01<00:30,  2.25it/s]\u001b[A\n",
      "hailey_01 Loss: 26.62:  66%|██████▌   | 131/200 [01:01<00:30,  2.25it/s]\u001b[A\n",
      "hailey_01 Loss: 26.62:  66%|██████▌   | 132/200 [01:01<00:29,  2.27it/s]\u001b[A\n",
      "hailey_01 Loss: 26.67:  66%|██████▌   | 132/200 [01:02<00:29,  2.27it/s]\u001b[A\n",
      "hailey_01 Loss: 26.67:  66%|██████▋   | 133/200 [01:02<00:29,  2.29it/s]\u001b[A\n",
      "hailey_01 Loss: 26.82:  66%|██████▋   | 133/200 [01:02<00:29,  2.29it/s]\u001b[A\n",
      "hailey_01 Loss: 26.82:  67%|██████▋   | 134/200 [01:02<00:28,  2.29it/s]\u001b[A\n",
      "hailey_01 Loss: 26.60:  67%|██████▋   | 134/200 [01:02<00:28,  2.29it/s]\u001b[A\n",
      "hailey_01 Loss: 26.60:  68%|██████▊   | 135/200 [01:03<00:28,  2.31it/s]\u001b[A\n",
      "hailey_01 Loss: 26.56:  68%|██████▊   | 135/200 [01:03<00:28,  2.31it/s]\u001b[A\n",
      "hailey_01 Loss: 26.56:  68%|██████▊   | 136/200 [01:03<00:28,  2.27it/s]\u001b[A\n",
      "hailey_01 Loss: 26.48:  68%|██████▊   | 136/200 [01:03<00:28,  2.27it/s]\u001b[A\n",
      "hailey_01 Loss: 26.48:  68%|██████▊   | 137/200 [01:03<00:27,  2.32it/s]\u001b[A\n",
      "hailey_01 Loss: 26.46:  68%|██████▊   | 137/200 [01:04<00:27,  2.32it/s]\u001b[A\n",
      "hailey_01 Loss: 26.46:  69%|██████▉   | 138/200 [01:04<00:27,  2.25it/s]\u001b[A\n",
      "hailey_01 Loss: 26.43:  69%|██████▉   | 138/200 [01:04<00:27,  2.25it/s]\u001b[A\n",
      "hailey_01 Loss: 26.43:  70%|██████▉   | 139/200 [01:04<00:26,  2.27it/s]\u001b[A\n",
      "hailey_01 Loss: 26.40:  70%|██████▉   | 139/200 [01:05<00:26,  2.27it/s]\u001b[A\n",
      "hailey_01 Loss: 26.40:  70%|███████   | 140/200 [01:05<00:26,  2.27it/s]\u001b[A\n",
      "hailey_01 Loss: 26.37:  70%|███████   | 140/200 [01:05<00:26,  2.27it/s]\u001b[A\n",
      "hailey_01 Loss: 26.37:  70%|███████   | 141/200 [01:05<00:25,  2.31it/s]\u001b[A\n",
      "hailey_01 Loss: 26.44:  70%|███████   | 141/200 [01:06<00:25,  2.31it/s]\u001b[A\n",
      "hailey_01 Loss: 26.44:  71%|███████   | 142/200 [01:06<00:25,  2.27it/s]\u001b[A\n",
      "hailey_01 Loss: 26.44:  71%|███████   | 142/200 [01:06<00:25,  2.27it/s]\u001b[A\n",
      "hailey_01 Loss: 26.44:  72%|███████▏  | 143/200 [01:06<00:24,  2.33it/s]\u001b[A\n",
      "hailey_01 Loss: 26.48:  72%|███████▏  | 143/200 [01:06<00:24,  2.33it/s]\u001b[A\n",
      "hailey_01 Loss: 26.48:  72%|███████▏  | 144/200 [01:06<00:24,  2.32it/s]\u001b[A\n",
      "hailey_01 Loss: 26.75:  72%|███████▏  | 144/200 [01:07<00:24,  2.32it/s]\u001b[A\n",
      "hailey_01 Loss: 26.75:  72%|███████▎  | 145/200 [01:07<00:22,  2.40it/s]\u001b[A\n",
      "hailey_01 Loss: 26.36:  72%|███████▎  | 145/200 [01:07<00:22,  2.40it/s]\u001b[A\n",
      "hailey_01 Loss: 26.36:  73%|███████▎  | 146/200 [01:07<00:23,  2.33it/s]\u001b[A\n",
      "hailey_01 Loss: 26.29:  73%|███████▎  | 146/200 [01:08<00:23,  2.33it/s]\u001b[A\n",
      "hailey_01 Loss: 26.29:  74%|███████▎  | 147/200 [01:08<00:22,  2.38it/s]\u001b[A\n",
      "hailey_01 Loss: 26.26:  74%|███████▎  | 147/200 [01:08<00:22,  2.38it/s]\u001b[A\n",
      "hailey_01 Loss: 26.26:  74%|███████▍  | 148/200 [01:08<00:21,  2.40it/s]\u001b[A\n",
      "hailey_01 Loss: 26.22:  74%|███████▍  | 148/200 [01:08<00:21,  2.40it/s]\u001b[A\n",
      "hailey_01 Loss: 26.22:  74%|███████▍  | 149/200 [01:08<00:21,  2.42it/s]\u001b[A\n",
      "hailey_01 Loss: 26.18:  74%|███████▍  | 149/200 [01:09<00:21,  2.42it/s]\u001b[A\n",
      "hailey_01 Loss: 26.18:  75%|███████▌  | 150/200 [01:09<00:20,  2.44it/s]\u001b[A\n",
      "hailey_01 Loss: 26.15:  75%|███████▌  | 150/200 [01:09<00:20,  2.44it/s]\u001b[A\n",
      "hailey_01 Loss: 26.15:  76%|███████▌  | 151/200 [01:09<00:20,  2.42it/s]\u001b[A\n",
      "hailey_01 Loss: 26.12:  76%|███████▌  | 151/200 [01:10<00:20,  2.42it/s]\u001b[A\n",
      "hailey_01 Loss: 26.12:  76%|███████▌  | 152/200 [01:10<00:20,  2.39it/s]\u001b[A\n",
      "hailey_01 Loss: 26.09:  76%|███████▌  | 152/200 [01:10<00:20,  2.39it/s]\u001b[A\n",
      "hailey_01 Loss: 26.09:  76%|███████▋  | 153/200 [01:10<00:19,  2.37it/s]\u001b[A\n",
      "hailey_01 Loss: 26.07:  76%|███████▋  | 153/200 [01:11<00:19,  2.37it/s]\u001b[A\n",
      "hailey_01 Loss: 26.07:  77%|███████▋  | 154/200 [01:11<00:19,  2.39it/s]\u001b[A\n",
      "hailey_01 Loss: 26.10:  77%|███████▋  | 154/200 [01:11<00:19,  2.39it/s]\u001b[A\n",
      "hailey_01 Loss: 26.10:  78%|███████▊  | 155/200 [01:11<00:19,  2.32it/s]\u001b[A\n",
      "hailey_01 Loss: 26.29:  78%|███████▊  | 155/200 [01:11<00:19,  2.32it/s]\u001b[A\n",
      "hailey_01 Loss: 26.29:  78%|███████▊  | 156/200 [01:11<00:19,  2.31it/s]\u001b[A\n",
      "hailey_01 Loss: 26.06:  78%|███████▊  | 156/200 [01:12<00:19,  2.31it/s]\u001b[A\n",
      "hailey_01 Loss: 26.06:  78%|███████▊  | 157/200 [01:12<00:18,  2.30it/s]\u001b[A\n",
      "hailey_01 Loss: 26.00:  78%|███████▊  | 157/200 [01:12<00:18,  2.30it/s]\u001b[A\n",
      "hailey_01 Loss: 26.00:  79%|███████▉  | 158/200 [01:12<00:18,  2.27it/s]\u001b[A\n",
      "hailey_01 Loss: 25.93:  79%|███████▉  | 158/200 [01:13<00:18,  2.27it/s]\u001b[A\n",
      "hailey_01 Loss: 25.93:  80%|███████▉  | 159/200 [01:13<00:18,  2.23it/s]\u001b[A\n",
      "hailey_01 Loss: 25.97:  80%|███████▉  | 159/200 [01:13<00:18,  2.23it/s]\u001b[A\n",
      "hailey_01 Loss: 25.97:  80%|████████  | 160/200 [01:13<00:17,  2.25it/s]\u001b[A\n",
      "hailey_01 Loss: 25.96:  80%|████████  | 160/200 [01:14<00:17,  2.25it/s]\u001b[A\n",
      "hailey_01 Loss: 25.96:  80%|████████  | 161/200 [01:14<00:17,  2.25it/s]\u001b[A\n",
      "hailey_01 Loss: 25.81:  80%|████████  | 161/200 [01:14<00:17,  2.25it/s]\u001b[A\n",
      "hailey_01 Loss: 25.81:  81%|████████  | 162/200 [01:14<00:16,  2.25it/s]\u001b[A\n",
      "hailey_01 Loss: 25.84:  81%|████████  | 162/200 [01:15<00:16,  2.25it/s]\u001b[A\n",
      "hailey_01 Loss: 25.84:  82%|████████▏ | 163/200 [01:15<00:16,  2.25it/s]\u001b[A\n",
      "hailey_01 Loss: 25.87:  82%|████████▏ | 163/200 [01:15<00:16,  2.25it/s]\u001b[A\n",
      "hailey_01 Loss: 25.87:  82%|████████▏ | 164/200 [01:15<00:15,  2.29it/s]\u001b[A\n",
      "hailey_01 Loss: 26.78:  82%|████████▏ | 164/200 [01:15<00:15,  2.29it/s]\u001b[A\n",
      "hailey_01 Loss: 26.78:  82%|████████▎ | 165/200 [01:15<00:15,  2.29it/s]\u001b[A\n",
      "hailey_01 Loss: 25.96:  82%|████████▎ | 165/200 [01:16<00:15,  2.29it/s]\u001b[A\n",
      "hailey_01 Loss: 25.96:  83%|████████▎ | 166/200 [01:16<00:14,  2.31it/s]\u001b[A\n",
      "hailey_01 Loss: 25.86:  83%|████████▎ | 166/200 [01:16<00:14,  2.31it/s]\u001b[A\n",
      "hailey_01 Loss: 25.86:  84%|████████▎ | 167/200 [01:16<00:14,  2.25it/s]\u001b[A\n",
      "hailey_01 Loss: 25.81:  84%|████████▎ | 167/200 [01:17<00:14,  2.25it/s]\u001b[A\n",
      "hailey_01 Loss: 25.81:  84%|████████▍ | 168/200 [01:17<00:13,  2.31it/s]\u001b[A\n",
      "hailey_01 Loss: 25.77:  84%|████████▍ | 168/200 [01:17<00:13,  2.31it/s]\u001b[A\n",
      "hailey_01 Loss: 25.77:  84%|████████▍ | 169/200 [01:17<00:13,  2.28it/s]\u001b[A\n",
      "hailey_01 Loss: 25.74:  84%|████████▍ | 169/200 [01:18<00:13,  2.28it/s]\u001b[A\n",
      "hailey_01 Loss: 25.74:  85%|████████▌ | 170/200 [01:18<00:13,  2.31it/s]\u001b[A\n",
      "hailey_01 Loss: 25.70:  85%|████████▌ | 170/200 [01:18<00:13,  2.31it/s]\u001b[A\n",
      "hailey_01 Loss: 25.70:  86%|████████▌ | 171/200 [01:18<00:12,  2.25it/s]\u001b[A\n",
      "hailey_01 Loss: 25.67:  86%|████████▌ | 171/200 [01:19<00:12,  2.25it/s]\u001b[A\n",
      "hailey_01 Loss: 25.67:  86%|████████▌ | 172/200 [01:19<00:12,  2.27it/s]\u001b[A\n",
      "hailey_01 Loss: 25.64:  86%|████████▌ | 172/200 [01:19<00:12,  2.27it/s]\u001b[A\n",
      "hailey_01 Loss: 25.64:  86%|████████▋ | 173/200 [01:19<00:11,  2.27it/s]\u001b[A\n",
      "hailey_01 Loss: 25.59:  86%|████████▋ | 173/200 [01:19<00:11,  2.27it/s]\u001b[A\n",
      "hailey_01 Loss: 25.59:  87%|████████▋ | 174/200 [01:19<00:11,  2.33it/s]\u001b[A\n",
      "hailey_01 Loss: 25.60:  87%|████████▋ | 174/200 [01:20<00:11,  2.33it/s]\u001b[A\n",
      "hailey_01 Loss: 25.60:  88%|████████▊ | 175/200 [01:20<00:10,  2.31it/s]\u001b[A\n",
      "hailey_01 Loss: 26.44:  88%|████████▊ | 175/200 [01:20<00:10,  2.31it/s]\u001b[A\n",
      "hailey_01 Loss: 26.44:  88%|████████▊ | 176/200 [01:20<00:10,  2.33it/s]\u001b[A\n",
      "hailey_01 Loss: 25.75:  88%|████████▊ | 176/200 [01:21<00:10,  2.33it/s]\u001b[A\n",
      "hailey_01 Loss: 25.75:  88%|████████▊ | 177/200 [01:21<00:09,  2.35it/s]\u001b[A\n",
      "hailey_01 Loss: 25.61:  88%|████████▊ | 177/200 [01:21<00:09,  2.35it/s]\u001b[A\n",
      "hailey_01 Loss: 25.61:  89%|████████▉ | 178/200 [01:21<00:09,  2.41it/s]\u001b[A\n",
      "hailey_01 Loss: 25.58:  89%|████████▉ | 178/200 [01:21<00:09,  2.41it/s]\u001b[A\n",
      "hailey_01 Loss: 25.58:  90%|████████▉ | 179/200 [01:21<00:08,  2.41it/s]\u001b[A\n",
      "hailey_01 Loss: 25.54:  90%|████████▉ | 179/200 [01:22<00:08,  2.41it/s]\u001b[A\n",
      "hailey_01 Loss: 25.54:  90%|█████████ | 180/200 [01:22<00:08,  2.42it/s]\u001b[A\n",
      "hailey_01 Loss: 25.52:  90%|█████████ | 180/200 [01:22<00:08,  2.42it/s]\u001b[A\n",
      "hailey_01 Loss: 25.52:  90%|█████████ | 181/200 [01:22<00:07,  2.41it/s]\u001b[A\n",
      "hailey_01 Loss: 25.49:  90%|█████████ | 181/200 [01:23<00:07,  2.41it/s]\u001b[A\n",
      "hailey_01 Loss: 25.49:  91%|█████████ | 182/200 [01:23<00:07,  2.35it/s]\u001b[A\n",
      "hailey_01 Loss: 25.46:  91%|█████████ | 182/200 [01:23<00:07,  2.35it/s]\u001b[A\n",
      "hailey_01 Loss: 25.46:  92%|█████████▏| 183/200 [01:23<00:07,  2.37it/s]\u001b[A\n",
      "hailey_01 Loss: 25.43:  92%|█████████▏| 183/200 [01:24<00:07,  2.37it/s]\u001b[A\n",
      "hailey_01 Loss: 25.43:  92%|█████████▏| 184/200 [01:24<00:06,  2.34it/s]\u001b[A\n",
      "hailey_01 Loss: 25.41:  92%|█████████▏| 184/200 [01:24<00:06,  2.34it/s]\u001b[A\n",
      "hailey_01 Loss: 25.41:  92%|█████████▎| 185/200 [01:24<00:06,  2.35it/s]\u001b[A\n",
      "hailey_01 Loss: 25.39:  92%|█████████▎| 185/200 [01:24<00:06,  2.35it/s]\u001b[A\n",
      "hailey_01 Loss: 25.39:  93%|█████████▎| 186/200 [01:24<00:06,  2.32it/s]\u001b[A\n",
      "hailey_01 Loss: 25.36:  93%|█████████▎| 186/200 [01:25<00:06,  2.32it/s]\u001b[A\n",
      "hailey_01 Loss: 25.36:  94%|█████████▎| 187/200 [01:25<00:05,  2.28it/s]\u001b[A\n",
      "hailey_01 Loss: 25.34:  94%|█████████▎| 187/200 [01:25<00:05,  2.28it/s]\u001b[A\n",
      "hailey_01 Loss: 25.34:  94%|█████████▍| 188/200 [01:25<00:05,  2.28it/s]\u001b[A\n",
      "hailey_01 Loss: 25.31:  94%|█████████▍| 188/200 [01:26<00:05,  2.28it/s]\u001b[A\n",
      "hailey_01 Loss: 25.31:  94%|█████████▍| 189/200 [01:26<00:04,  2.28it/s]\u001b[A\n",
      "hailey_01 Loss: 25.30:  94%|█████████▍| 189/200 [01:26<00:04,  2.28it/s]\u001b[A\n",
      "hailey_01 Loss: 25.30:  95%|█████████▌| 190/200 [01:26<00:04,  2.27it/s]\u001b[A\n",
      "hailey_01 Loss: 25.55:  95%|█████████▌| 190/200 [01:27<00:04,  2.27it/s]\u001b[A\n",
      "hailey_01 Loss: 25.55:  96%|█████████▌| 191/200 [01:27<00:03,  2.29it/s]\u001b[A\n",
      "hailey_01 Loss: 25.31:  96%|█████████▌| 191/200 [01:27<00:03,  2.29it/s]\u001b[A\n",
      "hailey_01 Loss: 25.31:  96%|█████████▌| 192/200 [01:27<00:03,  2.26it/s]\u001b[A\n",
      "hailey_01 Loss: 25.29:  96%|█████████▌| 192/200 [01:28<00:03,  2.26it/s]\u001b[A\n",
      "hailey_01 Loss: 25.29:  96%|█████████▋| 193/200 [01:28<00:03,  2.31it/s]\u001b[A\n",
      "hailey_01 Loss: 25.28:  96%|█████████▋| 193/200 [01:28<00:03,  2.31it/s]\u001b[A\n",
      "hailey_01 Loss: 25.28:  97%|█████████▋| 194/200 [01:28<00:02,  2.25it/s]\u001b[A\n",
      "hailey_01 Loss: 25.26:  97%|█████████▋| 194/200 [01:28<00:02,  2.25it/s]\u001b[A\n",
      "hailey_01 Loss: 25.26:  98%|█████████▊| 195/200 [01:28<00:02,  2.28it/s]\u001b[A\n",
      "hailey_01 Loss: 25.25:  98%|█████████▊| 195/200 [01:29<00:02,  2.28it/s]\u001b[A\n",
      "hailey_01 Loss: 25.25:  98%|█████████▊| 196/200 [01:29<00:01,  2.27it/s]\u001b[A\n",
      "hailey_01 Loss: 25.23:  98%|█████████▊| 196/200 [01:29<00:01,  2.27it/s]\u001b[A\n",
      "hailey_01 Loss: 25.23:  98%|█████████▊| 197/200 [01:29<00:01,  2.34it/s]\u001b[A\n",
      "hailey_01 Loss: 25.21:  98%|█████████▊| 197/200 [01:30<00:01,  2.34it/s]\u001b[A\n",
      "hailey_01 Loss: 25.21:  99%|█████████▉| 198/200 [01:30<00:00,  2.33it/s]\u001b[A\n",
      "hailey_01 Loss: 25.17:  99%|█████████▉| 198/200 [01:30<00:00,  2.33it/s]\u001b[A\n",
      "hailey_01 Loss: 25.17: 100%|█████████▉| 199/200 [01:30<00:00,  2.39it/s]\u001b[A\n",
      "hailey_01 Loss: 25.19: 100%|█████████▉| 199/200 [01:31<00:00,  2.39it/s]\u001b[A\n",
      "hailey_01 Loss: 25.19: 100%|██████████| 200/200 [01:31<00:00,  2.29it/s]\u001b[A\n",
      "100%|██████████| 1/1 [01:34<00:00, 94.65s/it]                           \u001b[A"
     ]
    },
    {
     "name": "stdout",
     "output_type": "stream",
     "text": [
      "hailey_01  loss: 25.19394\n",
      "Optimized latent is created and saved to\n",
      "lt_update/hailey_01_25.194_vgg.npy\n"
     ]
    },
    {
     "name": "stderr",
     "output_type": "stream",
     "text": [
      "\n"
     ]
    }
   ],
   "source": [
    "optimizer.loss('lt/hailey_01.npy','aligned_images/hailey_01.png','lt_update', it_flag=2, multi_style_loss=True, disc_loss=False)"
   ]
  },
  {
   "cell_type": "markdown",
   "metadata": {},
   "source": [
    "## Latent_mixer"
   ]
  },
  {
   "cell_type": "code",
   "execution_count": 2,
   "metadata": {},
   "outputs": [],
   "source": [
    "from lt_mixer import Latent_mixer"
   ]
  },
  {
   "cell_type": "code",
   "execution_count": 3,
   "metadata": {},
   "outputs": [
    {
     "name": "stdout",
     "output_type": "stream",
     "text": [
      "Latent_mixer_loaded\n"
     ]
    }
   ],
   "source": [
    "lt_mix = Latent_mixer()"
   ]
  },
  {
   "cell_type": "code",
   "execution_count": null,
   "metadata": {},
   "outputs": [],
   "source": [
    "lt_mix.lt_direction_mix(src_lt='lt_update/redbean_01_30.989.npy',mix_dl_dir='lt_mix',direction='gender',coeff=1)"
   ]
  },
  {
   "cell_type": "code",
   "execution_count": 5,
   "metadata": {},
   "outputs": [],
   "source": [
    "lt_mix.lt_linear(src_lt='lt/ray.npy',dst_lt='lt/jin.npy',mix_dl_dir='lt_mix')"
   ]
  },
  {
   "cell_type": "code",
   "execution_count": 12,
   "metadata": {},
   "outputs": [],
   "source": [
    "lt_mix.lt_swap(src_lt='lt/ray.npy',dst_lt='lt/jin.npy',mix_dl_dir='lt_mix')"
   ]
  },
  {
   "cell_type": "markdown",
   "metadata": {},
   "source": [
    "## Latent to img"
   ]
  },
  {
   "cell_type": "code",
   "execution_count": 2,
   "metadata": {},
   "outputs": [],
   "source": [
    "from lt_to_img import Image_generator"
   ]
  },
  {
   "cell_type": "code",
   "execution_count": 3,
   "metadata": {},
   "outputs": [
    {
     "name": "stdout",
     "output_type": "stream",
     "text": [
      "FFHQ_Latent_optimizer is loaded\n"
     ]
    }
   ],
   "source": [
    "img_generator = Image_generator('cache/karras2019stylegan-ffhq-1024x1024.pkl')"
   ]
  },
  {
   "cell_type": "code",
   "execution_count": 4,
   "metadata": {},
   "outputs": [],
   "source": [
    "## random perturbation / flag=0, layer swap / flag=1, linear combination / flag=2"
   ]
  },
  {
   "cell_type": "code",
   "execution_count": 5,
   "metadata": {},
   "outputs": [
    {
     "name": "stdout",
     "output_type": "stream",
     "text": [
      "This latent is not (18,512), and its automatically update to (18,512)\n",
      "The image is generated from the latent and saved to\n",
      "production/redbean_01.png\n"
     ]
    },
    {
     "data": {
      "text/plain": [
       "array([[[167, 178, 190],\n",
       "        [169, 178, 191],\n",
       "        [175, 185, 195],\n",
       "        ...,\n",
       "        [175, 183, 191],\n",
       "        [167, 177, 184],\n",
       "        [151, 162, 165]],\n",
       "\n",
       "       [[170, 182, 194],\n",
       "        [172, 181, 193],\n",
       "        [177, 183, 196],\n",
       "        ...,\n",
       "        [176, 184, 197],\n",
       "        [177, 185, 194],\n",
       "        [168, 179, 186]],\n",
       "\n",
       "       [[174, 183, 194],\n",
       "        [175, 182, 196],\n",
       "        [181, 184, 197],\n",
       "        ...,\n",
       "        [180, 186, 197],\n",
       "        [176, 182, 195],\n",
       "        [171, 178, 188]],\n",
       "\n",
       "       ...,\n",
       "\n",
       "       [[170, 181, 192],\n",
       "        [173, 182, 195],\n",
       "        [174, 181, 193],\n",
       "        ...,\n",
       "        [ 48,  65, 100],\n",
       "        [ 44,  68,  99],\n",
       "        [ 54,  80, 122]],\n",
       "\n",
       "       [[163, 172, 182],\n",
       "        [170, 179, 192],\n",
       "        [176, 181, 190],\n",
       "        ...,\n",
       "        [ 33,  57,  90],\n",
       "        [ 32,  61,  94],\n",
       "        [ 46,  73, 117]],\n",
       "\n",
       "       [[147, 151, 162],\n",
       "        [166, 172, 183],\n",
       "        [169, 176, 188],\n",
       "        ...,\n",
       "        [ 30,  49,  88],\n",
       "        [ 24,  44,  83],\n",
       "        [ 41,  57,  97]]], dtype=uint8)"
      ]
     },
     "execution_count": 5,
     "metadata": {},
     "output_type": "execute_result"
    }
   ],
   "source": [
    "img_generator.run(src_lt='lt/redbean_01.npy',images_dir='production/',figure_flag=1,random_noise_flag=False)"
   ]
  },
  {
   "cell_type": "code",
   "execution_count": 6,
   "metadata": {},
   "outputs": [
    {
     "name": "stdout",
     "output_type": "stream",
     "text": [
      "This latent is not (18,512), and its automatically update to (18,512)\n",
      "The image is generated from the latent and saved to\n",
      "production/hailey_01_25.194_vgg.png\n"
     ]
    },
    {
     "data": {
      "text/plain": [
       "array([[[192, 190, 170],\n",
       "        [196, 192, 167],\n",
       "        [198, 195, 175],\n",
       "        ...,\n",
       "        [200, 196, 173],\n",
       "        [195, 191, 168],\n",
       "        [178, 175, 156]],\n",
       "\n",
       "       [[197, 194, 170],\n",
       "        [196, 191, 171],\n",
       "        [199, 192, 173],\n",
       "        ...,\n",
       "        [202, 195, 172],\n",
       "        [202, 194, 174],\n",
       "        [198, 193, 171]],\n",
       "\n",
       "       [[200, 195, 169],\n",
       "        [200, 193, 170],\n",
       "        [202, 193, 173],\n",
       "        ...,\n",
       "        [204, 196, 178],\n",
       "        [203, 194, 174],\n",
       "        [203, 195, 171]],\n",
       "\n",
       "       ...,\n",
       "\n",
       "       [[188, 181, 154],\n",
       "        [190, 181, 155],\n",
       "        [190, 179, 155],\n",
       "        ...,\n",
       "        [188, 175, 148],\n",
       "        [185, 173, 154],\n",
       "        [183, 171, 144]],\n",
       "\n",
       "       [[184, 176, 146],\n",
       "        [189, 179, 152],\n",
       "        [189, 178, 159],\n",
       "        ...,\n",
       "        [188, 176, 154],\n",
       "        [185, 173, 153],\n",
       "        [181, 169, 147]],\n",
       "\n",
       "       [[172, 163, 135],\n",
       "        [186, 176, 143],\n",
       "        [186, 176, 148],\n",
       "        ...,\n",
       "        [191, 180, 152],\n",
       "        [190, 178, 153],\n",
       "        [183, 173, 146]]], dtype=uint8)"
      ]
     },
     "execution_count": 6,
     "metadata": {},
     "output_type": "execute_result"
    }
   ],
   "source": [
    "img_generator.run(src_lt='lt/redbean_01.npy',images_dir='production/',figure_flag=1,random_noise_flag=False)"
   ]
  },
  {
   "cell_type": "code",
   "execution_count": null,
   "metadata": {},
   "outputs": [],
   "source": []
  },
  {
   "cell_type": "code",
   "execution_count": 4,
   "metadata": {},
   "outputs": [
    {
     "name": "stdout",
     "output_type": "stream",
     "text": [
      "No pointing latent! Face image from the random latent is generated and saved to\n",
      "production/face_7_7_1.png\n",
      "No pointing latent! Face image from the random latent is generated and saved to\n",
      "production/face_7_7_2.png\n",
      "No pointing latent! Face image from the random latent is generated and saved to\n",
      "production/face_7_7_3.png\n",
      "No pointing latent! Face image from the random latent is generated and saved to\n",
      "production/face_7_7_4.png\n"
     ]
    }
   ],
   "source": [
    "img_generator.run(src_lt=None,images_dir='production/')"
   ]
  }
 ],
 "metadata": {
  "kernelspec": {
   "display_name": "tf-gpu",
   "language": "python",
   "name": "tf-gpu"
  },
  "language_info": {
   "codemirror_mode": {
    "name": "ipython",
    "version": 3
   },
   "file_extension": ".py",
   "mimetype": "text/x-python",
   "name": "python",
   "nbconvert_exporter": "python",
   "pygments_lexer": "ipython3",
   "version": "3.6.8"
  }
 },
 "nbformat": 4,
 "nbformat_minor": 2
}
